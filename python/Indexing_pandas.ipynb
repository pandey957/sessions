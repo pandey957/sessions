{
 "cells": [
  {
   "cell_type": "code",
   "execution_count": 1,
   "metadata": {
    "collapsed": true
   },
   "outputs": [],
   "source": [
    "import pandas as pd\n",
    "import numpy as np\n",
    "import matplotlib.pyplot as plt"
   ]
  },
  {
   "cell_type": "code",
   "execution_count": 10,
   "metadata": {
    "collapsed": false
   },
   "outputs": [],
   "source": [
    "dates = pd.date_range('20120101', periods=8)\n",
    "df =pd.DataFrame(np.random.randn(8,4),index = dates, columns = list('ABCD'))\n",
    "panel = pd.Panel({'one': df, 'two': df -df.mean()})"
   ]
  },
  {
   "cell_type": "code",
   "execution_count": 7,
   "metadata": {
    "collapsed": false
   },
   "outputs": [
    {
     "data": {
      "text/plain": [
       "<class 'pandas.core.panel.Panel'>\n",
       "Dimensions: 2 (items) x 8 (major_axis) x 4 (minor_axis)\n",
       "Items axis: one to two\n",
       "Major_axis axis: 2012-01-01 00:00:00 to 2012-01-08 00:00:00\n",
       "Minor_axis axis: A to D"
      ]
     },
     "execution_count": 7,
     "metadata": {},
     "output_type": "execute_result"
    }
   ],
   "source": [
    "panel"
   ]
  },
  {
   "cell_type": "code",
   "execution_count": 14,
   "metadata": {
    "collapsed": false
   },
   "outputs": [
    {
     "data": {
      "text/plain": [
       "2012-01-01   -0.002640\n",
       "2012-01-02    0.607537\n",
       "2012-01-03   -0.738388\n",
       "2012-01-04    1.209257\n",
       "2012-01-05    0.944471\n",
       "2012-01-06   -1.229373\n",
       "2012-01-07   -0.016976\n",
       "2012-01-08    1.208164\n",
       "Freq: D, Name: A, dtype: float64"
      ]
     },
     "execution_count": 14,
     "metadata": {},
     "output_type": "execute_result"
    }
   ],
   "source": [
    "df['A']"
   ]
  },
  {
   "cell_type": "code",
   "execution_count": 15,
   "metadata": {
    "collapsed": false
   },
   "outputs": [
    {
     "data": {
      "text/html": [
       "<div style=\"max-height:1000px;max-width:1500px;overflow:auto;\">\n",
       "<table border=\"1\" class=\"dataframe\">\n",
       "  <thead>\n",
       "    <tr style=\"text-align: right;\">\n",
       "      <th></th>\n",
       "      <th>A</th>\n",
       "      <th>B</th>\n",
       "      <th>C</th>\n",
       "      <th>D</th>\n",
       "    </tr>\n",
       "  </thead>\n",
       "  <tbody>\n",
       "    <tr>\n",
       "      <th>2012-01-01</th>\n",
       "      <td>-0.250396</td>\n",
       "      <td>-0.148884</td>\n",
       "      <td> 1.200104</td>\n",
       "      <td> 0.508347</td>\n",
       "    </tr>\n",
       "    <tr>\n",
       "      <th>2012-01-02</th>\n",
       "      <td> 0.359781</td>\n",
       "      <td> 1.155381</td>\n",
       "      <td> 0.788365</td>\n",
       "      <td>-0.116908</td>\n",
       "    </tr>\n",
       "    <tr>\n",
       "      <th>2012-01-03</th>\n",
       "      <td>-0.986145</td>\n",
       "      <td> 1.016765</td>\n",
       "      <td> 0.047531</td>\n",
       "      <td> 0.299894</td>\n",
       "    </tr>\n",
       "    <tr>\n",
       "      <th>2012-01-04</th>\n",
       "      <td> 0.961500</td>\n",
       "      <td> 1.610055</td>\n",
       "      <td>-0.001475</td>\n",
       "      <td> 1.220720</td>\n",
       "    </tr>\n",
       "    <tr>\n",
       "      <th>2012-01-05</th>\n",
       "      <td> 0.696714</td>\n",
       "      <td> 0.809434</td>\n",
       "      <td>-1.501404</td>\n",
       "      <td>-0.518465</td>\n",
       "    </tr>\n",
       "    <tr>\n",
       "      <th>2012-01-06</th>\n",
       "      <td>-1.477130</td>\n",
       "      <td>-1.433907</td>\n",
       "      <td> 0.018330</td>\n",
       "      <td> 0.752905</td>\n",
       "    </tr>\n",
       "    <tr>\n",
       "      <th>2012-01-07</th>\n",
       "      <td>-0.264733</td>\n",
       "      <td>-1.920659</td>\n",
       "      <td>-0.253114</td>\n",
       "      <td>-0.962488</td>\n",
       "    </tr>\n",
       "    <tr>\n",
       "      <th>2012-01-08</th>\n",
       "      <td> 0.960408</td>\n",
       "      <td>-1.088185</td>\n",
       "      <td>-0.298336</td>\n",
       "      <td>-1.184005</td>\n",
       "    </tr>\n",
       "  </tbody>\n",
       "</table>\n",
       "<p>8 rows × 4 columns</p>\n",
       "</div>"
      ],
      "text/plain": [
       "                   A         B         C         D\n",
       "2012-01-01 -0.250396 -0.148884  1.200104  0.508347\n",
       "2012-01-02  0.359781  1.155381  0.788365 -0.116908\n",
       "2012-01-03 -0.986145  1.016765  0.047531  0.299894\n",
       "2012-01-04  0.961500  1.610055 -0.001475  1.220720\n",
       "2012-01-05  0.696714  0.809434 -1.501404 -0.518465\n",
       "2012-01-06 -1.477130 -1.433907  0.018330  0.752905\n",
       "2012-01-07 -0.264733 -1.920659 -0.253114 -0.962488\n",
       "2012-01-08  0.960408 -1.088185 -0.298336 -1.184005\n",
       "\n",
       "[8 rows x 4 columns]"
      ]
     },
     "execution_count": 15,
     "metadata": {},
     "output_type": "execute_result"
    }
   ],
   "source": [
    "panel['two']"
   ]
  },
  {
   "cell_type": "code",
   "execution_count": 22,
   "metadata": {
    "collapsed": false
   },
   "outputs": [
    {
     "data": {
      "text/html": [
       "<div style=\"max-height:1000px;max-width:1500px;overflow:auto;\">\n",
       "<table border=\"1\" class=\"dataframe\">\n",
       "  <thead>\n",
       "    <tr style=\"text-align: right;\">\n",
       "      <th></th>\n",
       "      <th>A</th>\n",
       "      <th>B</th>\n",
       "    </tr>\n",
       "  </thead>\n",
       "  <tbody>\n",
       "    <tr>\n",
       "      <th>2012-01-01</th>\n",
       "      <td>-0.608968</td>\n",
       "      <td>-0.002640</td>\n",
       "    </tr>\n",
       "    <tr>\n",
       "      <th>2012-01-02</th>\n",
       "      <td> 0.695296</td>\n",
       "      <td> 0.607537</td>\n",
       "    </tr>\n",
       "    <tr>\n",
       "      <th>2012-01-03</th>\n",
       "      <td> 0.556680</td>\n",
       "      <td>-0.738388</td>\n",
       "    </tr>\n",
       "    <tr>\n",
       "      <th>2012-01-04</th>\n",
       "      <td> 1.149970</td>\n",
       "      <td> 1.209257</td>\n",
       "    </tr>\n",
       "    <tr>\n",
       "      <th>2012-01-05</th>\n",
       "      <td> 0.349349</td>\n",
       "      <td> 0.944471</td>\n",
       "    </tr>\n",
       "    <tr>\n",
       "      <th>2012-01-06</th>\n",
       "      <td>-1.893992</td>\n",
       "      <td>-1.229373</td>\n",
       "    </tr>\n",
       "    <tr>\n",
       "      <th>2012-01-07</th>\n",
       "      <td>-2.380744</td>\n",
       "      <td>-0.016976</td>\n",
       "    </tr>\n",
       "    <tr>\n",
       "      <th>2012-01-08</th>\n",
       "      <td>-1.548270</td>\n",
       "      <td> 1.208164</td>\n",
       "    </tr>\n",
       "  </tbody>\n",
       "</table>\n",
       "<p>8 rows × 2 columns</p>\n",
       "</div>"
      ],
      "text/plain": [
       "                   A         B\n",
       "2012-01-01 -0.608968 -0.002640\n",
       "2012-01-02  0.695296  0.607537\n",
       "2012-01-03  0.556680 -0.738388\n",
       "2012-01-04  1.149970  1.209257\n",
       "2012-01-05  0.349349  0.944471\n",
       "2012-01-06 -1.893992 -1.229373\n",
       "2012-01-07 -2.380744 -0.016976\n",
       "2012-01-08 -1.548270  1.208164\n",
       "\n",
       "[8 rows x 2 columns]"
      ]
     },
     "execution_count": 22,
     "metadata": {},
     "output_type": "execute_result"
    }
   ],
   "source": [
    "df[['A','B']]"
   ]
  },
  {
   "cell_type": "code",
   "execution_count": 23,
   "metadata": {
    "collapsed": false
   },
   "outputs": [
    {
     "data": {
      "text/html": [
       "<div style=\"max-height:1000px;max-width:1500px;overflow:auto;\">\n",
       "<table border=\"1\" class=\"dataframe\">\n",
       "  <thead>\n",
       "    <tr style=\"text-align: right;\">\n",
       "      <th></th>\n",
       "      <th>B</th>\n",
       "      <th>A</th>\n",
       "    </tr>\n",
       "  </thead>\n",
       "  <tbody>\n",
       "    <tr>\n",
       "      <th>2012-01-01</th>\n",
       "      <td>-0.002640</td>\n",
       "      <td>-0.608968</td>\n",
       "    </tr>\n",
       "    <tr>\n",
       "      <th>2012-01-02</th>\n",
       "      <td> 0.607537</td>\n",
       "      <td> 0.695296</td>\n",
       "    </tr>\n",
       "    <tr>\n",
       "      <th>2012-01-03</th>\n",
       "      <td>-0.738388</td>\n",
       "      <td> 0.556680</td>\n",
       "    </tr>\n",
       "    <tr>\n",
       "      <th>2012-01-04</th>\n",
       "      <td> 1.209257</td>\n",
       "      <td> 1.149970</td>\n",
       "    </tr>\n",
       "    <tr>\n",
       "      <th>2012-01-05</th>\n",
       "      <td> 0.944471</td>\n",
       "      <td> 0.349349</td>\n",
       "    </tr>\n",
       "    <tr>\n",
       "      <th>2012-01-06</th>\n",
       "      <td>-1.229373</td>\n",
       "      <td>-1.893992</td>\n",
       "    </tr>\n",
       "    <tr>\n",
       "      <th>2012-01-07</th>\n",
       "      <td>-0.016976</td>\n",
       "      <td>-2.380744</td>\n",
       "    </tr>\n",
       "    <tr>\n",
       "      <th>2012-01-08</th>\n",
       "      <td> 1.208164</td>\n",
       "      <td>-1.548270</td>\n",
       "    </tr>\n",
       "  </tbody>\n",
       "</table>\n",
       "<p>8 rows × 2 columns</p>\n",
       "</div>"
      ],
      "text/plain": [
       "                   B         A\n",
       "2012-01-01 -0.002640 -0.608968\n",
       "2012-01-02  0.607537  0.695296\n",
       "2012-01-03 -0.738388  0.556680\n",
       "2012-01-04  1.209257  1.149970\n",
       "2012-01-05  0.944471  0.349349\n",
       "2012-01-06 -1.229373 -1.893992\n",
       "2012-01-07 -0.016976 -2.380744\n",
       "2012-01-08  1.208164 -1.548270\n",
       "\n",
       "[8 rows x 2 columns]"
      ]
     },
     "execution_count": 23,
     "metadata": {},
     "output_type": "execute_result"
    }
   ],
   "source": [
    "df[['B','A']]"
   ]
  },
  {
   "cell_type": "code",
   "execution_count": 25,
   "metadata": {
    "collapsed": false
   },
   "outputs": [
    {
     "data": {
      "text/plain": [
       "1"
      ]
     },
     "execution_count": 25,
     "metadata": {},
     "output_type": "execute_result"
    }
   ],
   "source": [
    "sa = pd.Series([1,2,3], index = list('abc'))\n",
    "sa.a"
   ]
  },
  {
   "cell_type": "code",
   "execution_count": 28,
   "metadata": {
    "collapsed": false
   },
   "outputs": [],
   "source": [
    "dfa = df.copy()"
   ]
  },
  {
   "cell_type": "code",
   "execution_count": 30,
   "metadata": {
    "collapsed": false
   },
   "outputs": [],
   "source": [
    "dfa.A = list(range(len(dfa)))"
   ]
  },
  {
   "cell_type": "code",
   "execution_count": 31,
   "metadata": {
    "collapsed": false
   },
   "outputs": [
    {
     "data": {
      "text/html": [
       "<div style=\"max-height:1000px;max-width:1500px;overflow:auto;\">\n",
       "<table border=\"1\" class=\"dataframe\">\n",
       "  <thead>\n",
       "    <tr style=\"text-align: right;\">\n",
       "      <th></th>\n",
       "      <th>A</th>\n",
       "      <th>B</th>\n",
       "      <th>C</th>\n",
       "      <th>D</th>\n",
       "    </tr>\n",
       "  </thead>\n",
       "  <tbody>\n",
       "    <tr>\n",
       "      <th>2012-01-01</th>\n",
       "      <td> 0</td>\n",
       "      <td>-0.002640</td>\n",
       "      <td> 1.565587</td>\n",
       "      <td> 0.788415</td>\n",
       "    </tr>\n",
       "    <tr>\n",
       "      <th>2012-01-02</th>\n",
       "      <td> 1</td>\n",
       "      <td> 0.607537</td>\n",
       "      <td> 1.153848</td>\n",
       "      <td> 0.163160</td>\n",
       "    </tr>\n",
       "    <tr>\n",
       "      <th>2012-01-03</th>\n",
       "      <td> 2</td>\n",
       "      <td>-0.738388</td>\n",
       "      <td> 0.413014</td>\n",
       "      <td> 0.579963</td>\n",
       "    </tr>\n",
       "    <tr>\n",
       "      <th>2012-01-04</th>\n",
       "      <td> 3</td>\n",
       "      <td> 1.209257</td>\n",
       "      <td> 0.364009</td>\n",
       "      <td> 1.500788</td>\n",
       "    </tr>\n",
       "    <tr>\n",
       "      <th>2012-01-05</th>\n",
       "      <td> 4</td>\n",
       "      <td> 0.944471</td>\n",
       "      <td>-1.135920</td>\n",
       "      <td>-0.238397</td>\n",
       "    </tr>\n",
       "    <tr>\n",
       "      <th>2012-01-06</th>\n",
       "      <td> 5</td>\n",
       "      <td>-1.229373</td>\n",
       "      <td> 0.383813</td>\n",
       "      <td> 1.032973</td>\n",
       "    </tr>\n",
       "    <tr>\n",
       "      <th>2012-01-07</th>\n",
       "      <td> 6</td>\n",
       "      <td>-0.016976</td>\n",
       "      <td> 0.112369</td>\n",
       "      <td>-0.682420</td>\n",
       "    </tr>\n",
       "    <tr>\n",
       "      <th>2012-01-08</th>\n",
       "      <td> 7</td>\n",
       "      <td> 1.208164</td>\n",
       "      <td> 0.067148</td>\n",
       "      <td>-0.903937</td>\n",
       "    </tr>\n",
       "  </tbody>\n",
       "</table>\n",
       "<p>8 rows × 4 columns</p>\n",
       "</div>"
      ],
      "text/plain": [
       "            A         B         C         D\n",
       "2012-01-01  0 -0.002640  1.565587  0.788415\n",
       "2012-01-02  1  0.607537  1.153848  0.163160\n",
       "2012-01-03  2 -0.738388  0.413014  0.579963\n",
       "2012-01-04  3  1.209257  0.364009  1.500788\n",
       "2012-01-05  4  0.944471 -1.135920 -0.238397\n",
       "2012-01-06  5 -1.229373  0.383813  1.032973\n",
       "2012-01-07  6 -0.016976  0.112369 -0.682420\n",
       "2012-01-08  7  1.208164  0.067148 -0.903937\n",
       "\n",
       "[8 rows x 4 columns]"
      ]
     },
     "execution_count": 31,
     "metadata": {},
     "output_type": "execute_result"
    }
   ],
   "source": [
    "dfa"
   ]
  },
  {
   "cell_type": "code",
   "execution_count": 43,
   "metadata": {
    "collapsed": false
   },
   "outputs": [],
   "source": [
    "s = pd.DataFrame({'x':[1,2,3], 'y': [4,5,6]})\n"
   ]
  },
  {
   "cell_type": "markdown",
   "metadata": {},
   "source": [
    "### This should replace value at [1]\n",
    "x.iloc[1] = dict(x=2, y = 2) Please look into this"
   ]
  },
  {
   "cell_type": "code",
   "execution_count": 45,
   "metadata": {
    "collapsed": false
   },
   "outputs": [
    {
     "data": {
      "text/html": [
       "<div style=\"max-height:1000px;max-width:1500px;overflow:auto;\">\n",
       "<table border=\"1\" class=\"dataframe\">\n",
       "  <thead>\n",
       "    <tr style=\"text-align: right;\">\n",
       "      <th></th>\n",
       "      <th>x</th>\n",
       "      <th>y</th>\n",
       "    </tr>\n",
       "  </thead>\n",
       "  <tbody>\n",
       "    <tr>\n",
       "      <th>0</th>\n",
       "      <td> 1</td>\n",
       "      <td> 4</td>\n",
       "    </tr>\n",
       "    <tr>\n",
       "      <th>1</th>\n",
       "      <td> 2</td>\n",
       "      <td> 5</td>\n",
       "    </tr>\n",
       "  </tbody>\n",
       "</table>\n",
       "<p>2 rows × 2 columns</p>\n",
       "</div>"
      ],
      "text/plain": [
       "   x  y\n",
       "0  1  4\n",
       "1  2  5\n",
       "\n",
       "[2 rows x 2 columns]"
      ]
     },
     "execution_count": 45,
     "metadata": {},
     "output_type": "execute_result"
    }
   ],
   "source": [
    "s[:2]"
   ]
  },
  {
   "cell_type": "code",
   "execution_count": 48,
   "metadata": {
    "collapsed": false
   },
   "outputs": [],
   "source": [
    "dfl = pd.DataFrame(np.random.randn(5,4), index=pd.date_range('20120202',periods=5),columns = list('ABCD'))"
   ]
  },
  {
   "cell_type": "code",
   "execution_count": 58,
   "metadata": {
    "collapsed": false
   },
   "outputs": [
    {
     "data": {
      "text/html": [
       "<div style=\"max-height:1000px;max-width:1500px;overflow:auto;\">\n",
       "<table border=\"1\" class=\"dataframe\">\n",
       "  <thead>\n",
       "    <tr style=\"text-align: right;\">\n",
       "      <th></th>\n",
       "      <th>A</th>\n",
       "      <th>B</th>\n",
       "      <th>C</th>\n",
       "      <th>D</th>\n",
       "    </tr>\n",
       "  </thead>\n",
       "  <tbody>\n",
       "    <tr>\n",
       "      <th>2012-02-02</th>\n",
       "      <td>-0.351249</td>\n",
       "      <td> 1.161179</td>\n",
       "      <td> 1.570402</td>\n",
       "      <td> 0.790681</td>\n",
       "    </tr>\n",
       "    <tr>\n",
       "      <th>2012-02-03</th>\n",
       "      <td>-0.109467</td>\n",
       "      <td> 0.869203</td>\n",
       "      <td>-0.413864</td>\n",
       "      <td> 0.787072</td>\n",
       "    </tr>\n",
       "    <tr>\n",
       "      <th>2012-02-04</th>\n",
       "      <td>-0.760718</td>\n",
       "      <td> 0.320949</td>\n",
       "      <td> 0.093491</td>\n",
       "      <td> 1.115312</td>\n",
       "    </tr>\n",
       "  </tbody>\n",
       "</table>\n",
       "<p>3 rows × 4 columns</p>\n",
       "</div>"
      ],
      "text/plain": [
       "                   A         B         C         D\n",
       "2012-02-02 -0.351249  1.161179  1.570402  0.790681\n",
       "2012-02-03 -0.109467  0.869203 -0.413864  0.787072\n",
       "2012-02-04 -0.760718  0.320949  0.093491  1.115312\n",
       "\n",
       "[3 rows x 4 columns]"
      ]
     },
     "execution_count": 58,
     "metadata": {},
     "output_type": "execute_result"
    }
   ],
   "source": [
    "dfl.loc['20120202':'20120204']"
   ]
  },
  {
   "cell_type": "code",
   "execution_count": 59,
   "metadata": {
    "collapsed": true
   },
   "outputs": [],
   "source": [
    "s = pd.Series([0,1,2,3,4,5])"
   ]
  },
  {
   "cell_type": "code",
   "execution_count": 66,
   "metadata": {
    "collapsed": false
   },
   "outputs": [],
   "source": [
    "s[10] = 10"
   ]
  },
  {
   "cell_type": "code",
   "execution_count": 67,
   "metadata": {
    "collapsed": false
   },
   "outputs": [
    {
     "data": {
      "text/plain": [
       "0      0\n",
       "1      1\n",
       "2      2\n",
       "3      3\n",
       "4      4\n",
       "5      5\n",
       "10    10\n",
       "dtype: int64"
      ]
     },
     "execution_count": 67,
     "metadata": {},
     "output_type": "execute_result"
    }
   ],
   "source": [
    "s"
   ]
  },
  {
   "cell_type": "code",
   "execution_count": null,
   "metadata": {
    "collapsed": true
   },
   "outputs": [],
   "source": []
  }
 ],
 "metadata": {
  "kernelspec": {
   "display_name": "Python 2",
   "language": "python",
   "name": "python2"
  },
  "language_info": {
   "codemirror_mode": {
    "name": "ipython",
    "version": 2
   },
   "file_extension": ".py",
   "mimetype": "text/x-python",
   "name": "python",
   "nbconvert_exporter": "python",
   "pygments_lexer": "ipython2",
   "version": "2.7.6"
  }
 },
 "nbformat": 4,
 "nbformat_minor": 0
}
