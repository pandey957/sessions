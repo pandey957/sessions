{
 "cells": [
  {
   "cell_type": "code",
   "execution_count": 2,
   "metadata": {
    "collapsed": true
   },
   "outputs": [],
   "source": [
    "import pandas as pd\n",
    "import numpy as np\n",
    "import matplotlib.pyplot as plt"
   ]
  },
  {
   "cell_type": "code",
   "execution_count": 3,
   "metadata": {
    "collapsed": true
   },
   "outputs": [],
   "source": [
    "s = pd.Series([1,3,5,np.nan,6,8])"
   ]
  },
  {
   "cell_type": "code",
   "execution_count": 5,
   "metadata": {
    "collapsed": false
   },
   "outputs": [],
   "source": [
    "dates = pd.date_range('20121011',periods=6)"
   ]
  },
  {
   "cell_type": "code",
   "execution_count": 13,
   "metadata": {
    "collapsed": false
   },
   "outputs": [],
   "source": [
    "df = pd.DataFrame(np.random.randn(6,4),index=dates, columns=list('ABCD'))\n",
    "df2 = pd.DataFrame({'A': 1,\n",
    "                    'B': pd.Timestamp('20121209'),\n",
    "                    'C': pd.Series(1,index=list(range(4)), dtype='float32'),\n",
    "                    'D': np.array([3]*4, dtype= 'int32'),\n",
    "                    'E': pd.Categorical([\"test\",\"train\",\"test\",\"train\"]),\n",
    "                    'F': 'foo'})"
   ]
  },
  {
   "cell_type": "code",
   "execution_count": 17,
   "metadata": {
    "collapsed": false
   },
   "outputs": [
    {
     "data": {
      "text/html": [
       "<div style=\"max-height:1000px;max-width:1500px;overflow:auto;\">\n",
       "<table border=\"1\" class=\"dataframe\">\n",
       "  <thead>\n",
       "    <tr style=\"text-align: right;\">\n",
       "      <th></th>\n",
       "      <th>A</th>\n",
       "      <th>C</th>\n",
       "      <th>D</th>\n",
       "    </tr>\n",
       "  </thead>\n",
       "  <tbody>\n",
       "    <tr>\n",
       "      <th>count</th>\n",
       "      <td> 4</td>\n",
       "      <td> 4</td>\n",
       "      <td> 4</td>\n",
       "    </tr>\n",
       "    <tr>\n",
       "      <th>mean</th>\n",
       "      <td> 1</td>\n",
       "      <td> 1</td>\n",
       "      <td> 3</td>\n",
       "    </tr>\n",
       "    <tr>\n",
       "      <th>std</th>\n",
       "      <td> 0</td>\n",
       "      <td> 0</td>\n",
       "      <td> 0</td>\n",
       "    </tr>\n",
       "    <tr>\n",
       "      <th>min</th>\n",
       "      <td> 1</td>\n",
       "      <td> 1</td>\n",
       "      <td> 3</td>\n",
       "    </tr>\n",
       "    <tr>\n",
       "      <th>25%</th>\n",
       "      <td> 1</td>\n",
       "      <td> 1</td>\n",
       "      <td> 3</td>\n",
       "    </tr>\n",
       "    <tr>\n",
       "      <th>50%</th>\n",
       "      <td> 1</td>\n",
       "      <td> 1</td>\n",
       "      <td> 3</td>\n",
       "    </tr>\n",
       "    <tr>\n",
       "      <th>75%</th>\n",
       "      <td> 1</td>\n",
       "      <td> 1</td>\n",
       "      <td> 3</td>\n",
       "    </tr>\n",
       "    <tr>\n",
       "      <th>max</th>\n",
       "      <td> 1</td>\n",
       "      <td> 1</td>\n",
       "      <td> 3</td>\n",
       "    </tr>\n",
       "  </tbody>\n",
       "</table>\n",
       "<p>8 rows × 3 columns</p>\n",
       "</div>"
      ],
      "text/plain": [
       "       A  C  D\n",
       "count  4  4  4\n",
       "mean   1  1  3\n",
       "std    0  0  0\n",
       "min    1  1  3\n",
       "25%    1  1  3\n",
       "50%    1  1  3\n",
       "75%    1  1  3\n",
       "max    1  1  3\n",
       "\n",
       "[8 rows x 3 columns]"
      ]
     },
     "execution_count": 17,
     "metadata": {},
     "output_type": "execute_result"
    }
   ],
   "source": [
    "df2.describe()"
   ]
  },
  {
   "cell_type": "code",
   "execution_count": 18,
   "metadata": {
    "collapsed": false
   },
   "outputs": [
    {
     "data": {
      "text/html": [
       "<div style=\"max-height:1000px;max-width:1500px;overflow:auto;\">\n",
       "<table border=\"1\" class=\"dataframe\">\n",
       "  <thead>\n",
       "    <tr style=\"text-align: right;\">\n",
       "      <th></th>\n",
       "      <th>0</th>\n",
       "      <th>1</th>\n",
       "      <th>2</th>\n",
       "      <th>3</th>\n",
       "    </tr>\n",
       "  </thead>\n",
       "  <tbody>\n",
       "    <tr>\n",
       "      <th>A</th>\n",
       "      <td>                   1</td>\n",
       "      <td>                   1</td>\n",
       "      <td>                   1</td>\n",
       "      <td>                   1</td>\n",
       "    </tr>\n",
       "    <tr>\n",
       "      <th>B</th>\n",
       "      <td> 2012-12-09 00:00:00</td>\n",
       "      <td> 2012-12-09 00:00:00</td>\n",
       "      <td> 2012-12-09 00:00:00</td>\n",
       "      <td> 2012-12-09 00:00:00</td>\n",
       "    </tr>\n",
       "    <tr>\n",
       "      <th>C</th>\n",
       "      <td>                   1</td>\n",
       "      <td>                   1</td>\n",
       "      <td>                   1</td>\n",
       "      <td>                   1</td>\n",
       "    </tr>\n",
       "    <tr>\n",
       "      <th>D</th>\n",
       "      <td>                   3</td>\n",
       "      <td>                   3</td>\n",
       "      <td>                   3</td>\n",
       "      <td>                   3</td>\n",
       "    </tr>\n",
       "    <tr>\n",
       "      <th>E</th>\n",
       "      <td>                test</td>\n",
       "      <td>               train</td>\n",
       "      <td>                test</td>\n",
       "      <td>               train</td>\n",
       "    </tr>\n",
       "    <tr>\n",
       "      <th>F</th>\n",
       "      <td>                 foo</td>\n",
       "      <td>                 foo</td>\n",
       "      <td>                 foo</td>\n",
       "      <td>                 foo</td>\n",
       "    </tr>\n",
       "  </tbody>\n",
       "</table>\n",
       "<p>6 rows × 4 columns</p>\n",
       "</div>"
      ],
      "text/plain": [
       "                     0                    1                    2  \\\n",
       "A                    1                    1                    1   \n",
       "B  2012-12-09 00:00:00  2012-12-09 00:00:00  2012-12-09 00:00:00   \n",
       "C                    1                    1                    1   \n",
       "D                    3                    3                    3   \n",
       "E                 test                train                 test   \n",
       "F                  foo                  foo                  foo   \n",
       "\n",
       "                     3  \n",
       "A                    1  \n",
       "B  2012-12-09 00:00:00  \n",
       "C                    1  \n",
       "D                    3  \n",
       "E                train  \n",
       "F                  foo  \n",
       "\n",
       "[6 rows x 4 columns]"
      ]
     },
     "execution_count": 18,
     "metadata": {},
     "output_type": "execute_result"
    }
   ],
   "source": [
    "df2.T"
   ]
  },
  {
   "cell_type": "code",
   "execution_count": 29,
   "metadata": {
    "collapsed": false
   },
   "outputs": [
    {
     "data": {
      "text/html": [
       "<div style=\"max-height:1000px;max-width:1500px;overflow:auto;\">\n",
       "<table border=\"1\" class=\"dataframe\">\n",
       "  <thead>\n",
       "    <tr style=\"text-align: right;\">\n",
       "      <th></th>\n",
       "      <th>A</th>\n",
       "      <th>B</th>\n",
       "      <th>C</th>\n",
       "      <th>D</th>\n",
       "    </tr>\n",
       "  </thead>\n",
       "  <tbody>\n",
       "    <tr>\n",
       "      <th>2012-10-16</th>\n",
       "      <td>-0.826303</td>\n",
       "      <td>-1.025585</td>\n",
       "      <td>-1.156102</td>\n",
       "      <td>-1.940987</td>\n",
       "    </tr>\n",
       "    <tr>\n",
       "      <th>2012-10-15</th>\n",
       "      <td>-0.688476</td>\n",
       "      <td> 0.106206</td>\n",
       "      <td> 1.491516</td>\n",
       "      <td>-0.457014</td>\n",
       "    </tr>\n",
       "    <tr>\n",
       "      <th>2012-10-14</th>\n",
       "      <td>-0.608588</td>\n",
       "      <td> 2.935137</td>\n",
       "      <td>-0.872910</td>\n",
       "      <td> 1.977347</td>\n",
       "    </tr>\n",
       "    <tr>\n",
       "      <th>2012-10-13</th>\n",
       "      <td>-0.501567</td>\n",
       "      <td>-0.979041</td>\n",
       "      <td> 1.170985</td>\n",
       "      <td>-2.197609</td>\n",
       "    </tr>\n",
       "    <tr>\n",
       "      <th>2012-10-12</th>\n",
       "      <td> 1.150185</td>\n",
       "      <td> 1.035632</td>\n",
       "      <td> 0.255225</td>\n",
       "      <td>-0.222749</td>\n",
       "    </tr>\n",
       "    <tr>\n",
       "      <th>2012-10-11</th>\n",
       "      <td> 1.025978</td>\n",
       "      <td> 0.094510</td>\n",
       "      <td> 1.831977</td>\n",
       "      <td>-0.145849</td>\n",
       "    </tr>\n",
       "  </tbody>\n",
       "</table>\n",
       "<p>6 rows × 4 columns</p>\n",
       "</div>"
      ],
      "text/plain": [
       "                   A         B         C         D\n",
       "2012-10-16 -0.826303 -1.025585 -1.156102 -1.940987\n",
       "2012-10-15 -0.688476  0.106206  1.491516 -0.457014\n",
       "2012-10-14 -0.608588  2.935137 -0.872910  1.977347\n",
       "2012-10-13 -0.501567 -0.979041  1.170985 -2.197609\n",
       "2012-10-12  1.150185  1.035632  0.255225 -0.222749\n",
       "2012-10-11  1.025978  0.094510  1.831977 -0.145849\n",
       "\n",
       "[6 rows x 4 columns]"
      ]
     },
     "execution_count": 29,
     "metadata": {},
     "output_type": "execute_result"
    }
   ],
   "source": [
    "df.sort_index(axis=0,ascending=False)"
   ]
  },
  {
   "cell_type": "markdown",
   "metadata": {},
   "source": [
    "### sort(columns, axis, ascending, inplace, kind, na_position)\n"
   ]
  },
  {
   "cell_type": "code",
   "execution_count": 26,
   "metadata": {
    "collapsed": false
   },
   "outputs": [
    {
     "data": {
      "text/html": [
       "<div style=\"max-height:1000px;max-width:1500px;overflow:auto;\">\n",
       "<table border=\"1\" class=\"dataframe\">\n",
       "  <thead>\n",
       "    <tr style=\"text-align: right;\">\n",
       "      <th></th>\n",
       "      <th>A</th>\n",
       "      <th>B</th>\n",
       "      <th>C</th>\n",
       "      <th>D</th>\n",
       "    </tr>\n",
       "  </thead>\n",
       "  <tbody>\n",
       "    <tr>\n",
       "      <th>2012-10-16</th>\n",
       "      <td>-0.826303</td>\n",
       "      <td>-1.025585</td>\n",
       "      <td>-1.156102</td>\n",
       "      <td>-1.940987</td>\n",
       "    </tr>\n",
       "    <tr>\n",
       "      <th>2012-10-13</th>\n",
       "      <td>-0.501567</td>\n",
       "      <td>-0.979041</td>\n",
       "      <td> 1.170985</td>\n",
       "      <td>-2.197609</td>\n",
       "    </tr>\n",
       "    <tr>\n",
       "      <th>2012-10-11</th>\n",
       "      <td> 1.025978</td>\n",
       "      <td> 0.094510</td>\n",
       "      <td> 1.831977</td>\n",
       "      <td>-0.145849</td>\n",
       "    </tr>\n",
       "    <tr>\n",
       "      <th>2012-10-15</th>\n",
       "      <td>-0.688476</td>\n",
       "      <td> 0.106206</td>\n",
       "      <td> 1.491516</td>\n",
       "      <td>-0.457014</td>\n",
       "    </tr>\n",
       "    <tr>\n",
       "      <th>2012-10-12</th>\n",
       "      <td> 1.150185</td>\n",
       "      <td> 1.035632</td>\n",
       "      <td> 0.255225</td>\n",
       "      <td>-0.222749</td>\n",
       "    </tr>\n",
       "    <tr>\n",
       "      <th>2012-10-14</th>\n",
       "      <td>-0.608588</td>\n",
       "      <td> 2.935137</td>\n",
       "      <td>-0.872910</td>\n",
       "      <td> 1.977347</td>\n",
       "    </tr>\n",
       "  </tbody>\n",
       "</table>\n",
       "<p>6 rows × 4 columns</p>\n",
       "</div>"
      ],
      "text/plain": [
       "                   A         B         C         D\n",
       "2012-10-16 -0.826303 -1.025585 -1.156102 -1.940987\n",
       "2012-10-13 -0.501567 -0.979041  1.170985 -2.197609\n",
       "2012-10-11  1.025978  0.094510  1.831977 -0.145849\n",
       "2012-10-15 -0.688476  0.106206  1.491516 -0.457014\n",
       "2012-10-12  1.150185  1.035632  0.255225 -0.222749\n",
       "2012-10-14 -0.608588  2.935137 -0.872910  1.977347\n",
       "\n",
       "[6 rows x 4 columns]"
      ]
     },
     "execution_count": 26,
     "metadata": {},
     "output_type": "execute_result"
    }
   ],
   "source": [
    "df.sort(columns='B',axis=0,ascending=True,)"
   ]
  },
  {
   "cell_type": "code",
   "execution_count": 27,
   "metadata": {
    "collapsed": false
   },
   "outputs": [
    {
     "data": {
      "text/plain": [
       "<bound method DataFrame.sort of                    A         B         C         D\n",
       "2012-10-11  1.025978  0.094510  1.831977 -0.145849\n",
       "2012-10-12  1.150185  1.035632  0.255225 -0.222749\n",
       "2012-10-13 -0.501567 -0.979041  1.170985 -2.197609\n",
       "2012-10-14 -0.608588  2.935137 -0.872910  1.977347\n",
       "2012-10-15 -0.688476  0.106206  1.491516 -0.457014\n",
       "2012-10-16 -0.826303 -1.025585 -1.156102 -1.940987\n",
       "\n",
       "[6 rows x 4 columns]>"
      ]
     },
     "execution_count": 27,
     "metadata": {},
     "output_type": "execute_result"
    }
   ],
   "source": [
    "df.sort"
   ]
  },
  {
   "cell_type": "code",
   "execution_count": 30,
   "metadata": {
    "collapsed": false
   },
   "outputs": [
    {
     "data": {
      "text/plain": [
       "2012-10-11    0.094510\n",
       "2012-10-12    1.035632\n",
       "2012-10-13   -0.979041\n",
       "2012-10-14    2.935137\n",
       "2012-10-15    0.106206\n",
       "2012-10-16   -1.025585\n",
       "Freq: D, Name: B, dtype: float64"
      ]
     },
     "execution_count": 30,
     "metadata": {},
     "output_type": "execute_result"
    }
   ],
   "source": [
    "df['B']"
   ]
  },
  {
   "cell_type": "code",
   "execution_count": 31,
   "metadata": {
    "collapsed": false
   },
   "outputs": [
    {
     "data": {
      "text/html": [
       "<div style=\"max-height:1000px;max-width:1500px;overflow:auto;\">\n",
       "<table border=\"1\" class=\"dataframe\">\n",
       "  <thead>\n",
       "    <tr style=\"text-align: right;\">\n",
       "      <th></th>\n",
       "      <th>A</th>\n",
       "      <th>B</th>\n",
       "      <th>C</th>\n",
       "      <th>D</th>\n",
       "    </tr>\n",
       "  </thead>\n",
       "  <tbody>\n",
       "    <tr>\n",
       "      <th>2012-10-11</th>\n",
       "      <td> 1.025978</td>\n",
       "      <td> 0.094510</td>\n",
       "      <td> 1.831977</td>\n",
       "      <td>-0.145849</td>\n",
       "    </tr>\n",
       "    <tr>\n",
       "      <th>2012-10-12</th>\n",
       "      <td> 1.150185</td>\n",
       "      <td> 1.035632</td>\n",
       "      <td> 0.255225</td>\n",
       "      <td>-0.222749</td>\n",
       "    </tr>\n",
       "    <tr>\n",
       "      <th>2012-10-13</th>\n",
       "      <td>-0.501567</td>\n",
       "      <td>-0.979041</td>\n",
       "      <td> 1.170985</td>\n",
       "      <td>-2.197609</td>\n",
       "    </tr>\n",
       "  </tbody>\n",
       "</table>\n",
       "<p>3 rows × 4 columns</p>\n",
       "</div>"
      ],
      "text/plain": [
       "                   A         B         C         D\n",
       "2012-10-11  1.025978  0.094510  1.831977 -0.145849\n",
       "2012-10-12  1.150185  1.035632  0.255225 -0.222749\n",
       "2012-10-13 -0.501567 -0.979041  1.170985 -2.197609\n",
       "\n",
       "[3 rows x 4 columns]"
      ]
     },
     "execution_count": 31,
     "metadata": {},
     "output_type": "execute_result"
    }
   ],
   "source": [
    "df[0:3]"
   ]
  },
  {
   "cell_type": "code",
   "execution_count": 32,
   "metadata": {
    "collapsed": false
   },
   "outputs": [
    {
     "data": {
      "text/html": [
       "<div style=\"max-height:1000px;max-width:1500px;overflow:auto;\">\n",
       "<table border=\"1\" class=\"dataframe\">\n",
       "  <thead>\n",
       "    <tr style=\"text-align: right;\">\n",
       "      <th></th>\n",
       "      <th>A</th>\n",
       "      <th>B</th>\n",
       "      <th>C</th>\n",
       "      <th>D</th>\n",
       "    </tr>\n",
       "  </thead>\n",
       "  <tbody>\n",
       "    <tr>\n",
       "      <th>2012-10-11</th>\n",
       "      <td> 1.025978</td>\n",
       "      <td> 0.094510</td>\n",
       "      <td> 1.831977</td>\n",
       "      <td>-0.145849</td>\n",
       "    </tr>\n",
       "    <tr>\n",
       "      <th>2012-10-12</th>\n",
       "      <td> 1.150185</td>\n",
       "      <td> 1.035632</td>\n",
       "      <td> 0.255225</td>\n",
       "      <td>-0.222749</td>\n",
       "    </tr>\n",
       "    <tr>\n",
       "      <th>2012-10-13</th>\n",
       "      <td>-0.501567</td>\n",
       "      <td>-0.979041</td>\n",
       "      <td> 1.170985</td>\n",
       "      <td>-2.197609</td>\n",
       "    </tr>\n",
       "    <tr>\n",
       "      <th>2012-10-14</th>\n",
       "      <td>-0.608588</td>\n",
       "      <td> 2.935137</td>\n",
       "      <td>-0.872910</td>\n",
       "      <td> 1.977347</td>\n",
       "    </tr>\n",
       "  </tbody>\n",
       "</table>\n",
       "<p>4 rows × 4 columns</p>\n",
       "</div>"
      ],
      "text/plain": [
       "                   A         B         C         D\n",
       "2012-10-11  1.025978  0.094510  1.831977 -0.145849\n",
       "2012-10-12  1.150185  1.035632  0.255225 -0.222749\n",
       "2012-10-13 -0.501567 -0.979041  1.170985 -2.197609\n",
       "2012-10-14 -0.608588  2.935137 -0.872910  1.977347\n",
       "\n",
       "[4 rows x 4 columns]"
      ]
     },
     "execution_count": 32,
     "metadata": {},
     "output_type": "execute_result"
    }
   ],
   "source": [
    "df[dates[0]:dates[3]]"
   ]
  },
  {
   "cell_type": "code",
   "execution_count": 33,
   "metadata": {
    "collapsed": false
   },
   "outputs": [
    {
     "data": {
      "text/plain": [
       "A    1.025978\n",
       "B    0.094510\n",
       "C    1.831977\n",
       "D   -0.145849\n",
       "Name: 2012-10-11 00:00:00, dtype: float64"
      ]
     },
     "execution_count": 33,
     "metadata": {},
     "output_type": "execute_result"
    }
   ],
   "source": [
    "df.loc[dates[0]]"
   ]
  },
  {
   "cell_type": "code",
   "execution_count": 37,
   "metadata": {
    "collapsed": false
   },
   "outputs": [
    {
     "data": {
      "text/html": [
       "<div style=\"max-height:1000px;max-width:1500px;overflow:auto;\">\n",
       "<table border=\"1\" class=\"dataframe\">\n",
       "  <thead>\n",
       "    <tr style=\"text-align: right;\">\n",
       "      <th></th>\n",
       "      <th>A</th>\n",
       "      <th>B</th>\n",
       "    </tr>\n",
       "  </thead>\n",
       "  <tbody>\n",
       "    <tr>\n",
       "      <th>2012-10-11</th>\n",
       "      <td> 1.025978</td>\n",
       "      <td> 0.094510</td>\n",
       "    </tr>\n",
       "    <tr>\n",
       "      <th>2012-10-12</th>\n",
       "      <td> 1.150185</td>\n",
       "      <td> 1.035632</td>\n",
       "    </tr>\n",
       "    <tr>\n",
       "      <th>2012-10-13</th>\n",
       "      <td>-0.501567</td>\n",
       "      <td>-0.979041</td>\n",
       "    </tr>\n",
       "    <tr>\n",
       "      <th>2012-10-14</th>\n",
       "      <td>-0.608588</td>\n",
       "      <td> 2.935137</td>\n",
       "    </tr>\n",
       "    <tr>\n",
       "      <th>2012-10-15</th>\n",
       "      <td>-0.688476</td>\n",
       "      <td> 0.106206</td>\n",
       "    </tr>\n",
       "    <tr>\n",
       "      <th>2012-10-16</th>\n",
       "      <td>-0.826303</td>\n",
       "      <td>-1.025585</td>\n",
       "    </tr>\n",
       "  </tbody>\n",
       "</table>\n",
       "<p>6 rows × 2 columns</p>\n",
       "</div>"
      ],
      "text/plain": [
       "                   A         B\n",
       "2012-10-11  1.025978  0.094510\n",
       "2012-10-12  1.150185  1.035632\n",
       "2012-10-13 -0.501567 -0.979041\n",
       "2012-10-14 -0.608588  2.935137\n",
       "2012-10-15 -0.688476  0.106206\n",
       "2012-10-16 -0.826303 -1.025585\n",
       "\n",
       "[6 rows x 2 columns]"
      ]
     },
     "execution_count": 37,
     "metadata": {},
     "output_type": "execute_result"
    }
   ],
   "source": [
    "df.loc[:,['A','B']]"
   ]
  },
  {
   "cell_type": "code",
   "execution_count": 39,
   "metadata": {
    "collapsed": false
   },
   "outputs": [
    {
     "data": {
      "text/html": [
       "<div style=\"max-height:1000px;max-width:1500px;overflow:auto;\">\n",
       "<table border=\"1\" class=\"dataframe\">\n",
       "  <thead>\n",
       "    <tr style=\"text-align: right;\">\n",
       "      <th></th>\n",
       "      <th>A</th>\n",
       "      <th>B</th>\n",
       "      <th>C</th>\n",
       "    </tr>\n",
       "  </thead>\n",
       "  <tbody>\n",
       "    <tr>\n",
       "      <th>2012-10-11</th>\n",
       "      <td> 1.025978</td>\n",
       "      <td> 0.094510</td>\n",
       "      <td> 1.831977</td>\n",
       "    </tr>\n",
       "    <tr>\n",
       "      <th>2012-10-12</th>\n",
       "      <td> 1.150185</td>\n",
       "      <td> 1.035632</td>\n",
       "      <td> 0.255225</td>\n",
       "    </tr>\n",
       "    <tr>\n",
       "      <th>2012-10-13</th>\n",
       "      <td>-0.501567</td>\n",
       "      <td>-0.979041</td>\n",
       "      <td> 1.170985</td>\n",
       "    </tr>\n",
       "  </tbody>\n",
       "</table>\n",
       "<p>3 rows × 3 columns</p>\n",
       "</div>"
      ],
      "text/plain": [
       "                   A         B         C\n",
       "2012-10-11  1.025978  0.094510  1.831977\n",
       "2012-10-12  1.150185  1.035632  0.255225\n",
       "2012-10-13 -0.501567 -0.979041  1.170985\n",
       "\n",
       "[3 rows x 3 columns]"
      ]
     },
     "execution_count": 39,
     "metadata": {},
     "output_type": "execute_result"
    }
   ],
   "source": [
    "df.iloc[0:3,0:3]"
   ]
  },
  {
   "cell_type": "code",
   "execution_count": 40,
   "metadata": {
    "collapsed": false
   },
   "outputs": [
    {
     "data": {
      "text/plain": [
       "1.02597796644044"
      ]
     },
     "execution_count": 40,
     "metadata": {},
     "output_type": "execute_result"
    }
   ],
   "source": [
    "df.at[dates[0],'A']"
   ]
  },
  {
   "cell_type": "code",
   "execution_count": 43,
   "metadata": {
    "collapsed": false
   },
   "outputs": [
    {
     "data": {
      "text/html": [
       "<div style=\"max-height:1000px;max-width:1500px;overflow:auto;\">\n",
       "<table border=\"1\" class=\"dataframe\">\n",
       "  <thead>\n",
       "    <tr style=\"text-align: right;\">\n",
       "      <th></th>\n",
       "      <th>A</th>\n",
       "      <th>B</th>\n",
       "      <th>C</th>\n",
       "      <th>D</th>\n",
       "    </tr>\n",
       "  </thead>\n",
       "  <tbody>\n",
       "    <tr>\n",
       "      <th>2012-10-14</th>\n",
       "      <td>-0.608588</td>\n",
       "      <td> 2.935137</td>\n",
       "      <td>-0.872910</td>\n",
       "      <td> 1.977347</td>\n",
       "    </tr>\n",
       "    <tr>\n",
       "      <th>2012-10-15</th>\n",
       "      <td>-0.688476</td>\n",
       "      <td> 0.106206</td>\n",
       "      <td> 1.491516</td>\n",
       "      <td>-0.457014</td>\n",
       "    </tr>\n",
       "  </tbody>\n",
       "</table>\n",
       "<p>2 rows × 4 columns</p>\n",
       "</div>"
      ],
      "text/plain": [
       "                   A         B         C         D\n",
       "2012-10-14 -0.608588  2.935137 -0.872910  1.977347\n",
       "2012-10-15 -0.688476  0.106206  1.491516 -0.457014\n",
       "\n",
       "[2 rows x 4 columns]"
      ]
     },
     "execution_count": 43,
     "metadata": {},
     "output_type": "execute_result"
    }
   ],
   "source": [
    "df.iloc[3:5]"
   ]
  },
  {
   "cell_type": "code",
   "execution_count": 44,
   "metadata": {
    "collapsed": false
   },
   "outputs": [
    {
     "data": {
      "text/html": [
       "<div style=\"max-height:1000px;max-width:1500px;overflow:auto;\">\n",
       "<table border=\"1\" class=\"dataframe\">\n",
       "  <thead>\n",
       "    <tr style=\"text-align: right;\">\n",
       "      <th></th>\n",
       "      <th>A</th>\n",
       "      <th>B</th>\n",
       "      <th>C</th>\n",
       "      <th>D</th>\n",
       "    </tr>\n",
       "  </thead>\n",
       "  <tbody>\n",
       "    <tr>\n",
       "      <th>2012-10-11</th>\n",
       "      <td> 1.025978</td>\n",
       "      <td> 0.094510</td>\n",
       "      <td> 1.831977</td>\n",
       "      <td>-0.145849</td>\n",
       "    </tr>\n",
       "    <tr>\n",
       "      <th>2012-10-12</th>\n",
       "      <td> 1.150185</td>\n",
       "      <td> 1.035632</td>\n",
       "      <td> 0.255225</td>\n",
       "      <td>-0.222749</td>\n",
       "    </tr>\n",
       "  </tbody>\n",
       "</table>\n",
       "<p>2 rows × 4 columns</p>\n",
       "</div>"
      ],
      "text/plain": [
       "                   A         B         C         D\n",
       "2012-10-11  1.025978  0.094510  1.831977 -0.145849\n",
       "2012-10-12  1.150185  1.035632  0.255225 -0.222749\n",
       "\n",
       "[2 rows x 4 columns]"
      ]
     },
     "execution_count": 44,
     "metadata": {},
     "output_type": "execute_result"
    }
   ],
   "source": [
    "df[df.A > 0]"
   ]
  },
  {
   "cell_type": "code",
   "execution_count": 45,
   "metadata": {
    "collapsed": false
   },
   "outputs": [
    {
     "data": {
      "text/html": [
       "<div style=\"max-height:1000px;max-width:1500px;overflow:auto;\">\n",
       "<table border=\"1\" class=\"dataframe\">\n",
       "  <thead>\n",
       "    <tr style=\"text-align: right;\">\n",
       "      <th></th>\n",
       "      <th>A</th>\n",
       "      <th>B</th>\n",
       "      <th>C</th>\n",
       "      <th>D</th>\n",
       "    </tr>\n",
       "  </thead>\n",
       "  <tbody>\n",
       "    <tr>\n",
       "      <th>2012-10-11</th>\n",
       "      <td> 1.025978</td>\n",
       "      <td> 0.094510</td>\n",
       "      <td> 1.831977</td>\n",
       "      <td>      NaN</td>\n",
       "    </tr>\n",
       "    <tr>\n",
       "      <th>2012-10-12</th>\n",
       "      <td> 1.150185</td>\n",
       "      <td> 1.035632</td>\n",
       "      <td> 0.255225</td>\n",
       "      <td>      NaN</td>\n",
       "    </tr>\n",
       "    <tr>\n",
       "      <th>2012-10-13</th>\n",
       "      <td>      NaN</td>\n",
       "      <td>      NaN</td>\n",
       "      <td> 1.170985</td>\n",
       "      <td>      NaN</td>\n",
       "    </tr>\n",
       "    <tr>\n",
       "      <th>2012-10-14</th>\n",
       "      <td>      NaN</td>\n",
       "      <td> 2.935137</td>\n",
       "      <td>      NaN</td>\n",
       "      <td> 1.977347</td>\n",
       "    </tr>\n",
       "    <tr>\n",
       "      <th>2012-10-15</th>\n",
       "      <td>      NaN</td>\n",
       "      <td> 0.106206</td>\n",
       "      <td> 1.491516</td>\n",
       "      <td>      NaN</td>\n",
       "    </tr>\n",
       "    <tr>\n",
       "      <th>2012-10-16</th>\n",
       "      <td>      NaN</td>\n",
       "      <td>      NaN</td>\n",
       "      <td>      NaN</td>\n",
       "      <td>      NaN</td>\n",
       "    </tr>\n",
       "  </tbody>\n",
       "</table>\n",
       "<p>6 rows × 4 columns</p>\n",
       "</div>"
      ],
      "text/plain": [
       "                   A         B         C         D\n",
       "2012-10-11  1.025978  0.094510  1.831977       NaN\n",
       "2012-10-12  1.150185  1.035632  0.255225       NaN\n",
       "2012-10-13       NaN       NaN  1.170985       NaN\n",
       "2012-10-14       NaN  2.935137       NaN  1.977347\n",
       "2012-10-15       NaN  0.106206  1.491516       NaN\n",
       "2012-10-16       NaN       NaN       NaN       NaN\n",
       "\n",
       "[6 rows x 4 columns]"
      ]
     },
     "execution_count": 45,
     "metadata": {},
     "output_type": "execute_result"
    }
   ],
   "source": [
    "df[df>0]"
   ]
  },
  {
   "cell_type": "code",
   "execution_count": 47,
   "metadata": {
    "collapsed": false
   },
   "outputs": [],
   "source": [
    "df['E']= ['one','two','three','four','five','six']"
   ]
  },
  {
   "cell_type": "code",
   "execution_count": 51,
   "metadata": {
    "collapsed": false
   },
   "outputs": [
    {
     "data": {
      "text/html": [
       "<div style=\"max-height:1000px;max-width:1500px;overflow:auto;\">\n",
       "<table border=\"1\" class=\"dataframe\">\n",
       "  <thead>\n",
       "    <tr style=\"text-align: right;\">\n",
       "      <th></th>\n",
       "      <th>A</th>\n",
       "      <th>B</th>\n",
       "      <th>C</th>\n",
       "      <th>D</th>\n",
       "      <th>E</th>\n",
       "    </tr>\n",
       "  </thead>\n",
       "  <tbody>\n",
       "    <tr>\n",
       "      <th>2012-10-11</th>\n",
       "      <td> 1.025978</td>\n",
       "      <td> 0.094510</td>\n",
       "      <td> 1.831977</td>\n",
       "      <td>-0.145849</td>\n",
       "      <td> one</td>\n",
       "    </tr>\n",
       "    <tr>\n",
       "      <th>2012-10-12</th>\n",
       "      <td> 1.150185</td>\n",
       "      <td> 1.035632</td>\n",
       "      <td> 0.255225</td>\n",
       "      <td>-0.222749</td>\n",
       "      <td> two</td>\n",
       "    </tr>\n",
       "  </tbody>\n",
       "</table>\n",
       "<p>2 rows × 5 columns</p>\n",
       "</div>"
      ],
      "text/plain": [
       "                   A         B         C         D    E\n",
       "2012-10-11  1.025978  0.094510  1.831977 -0.145849  one\n",
       "2012-10-12  1.150185  1.035632  0.255225 -0.222749  two\n",
       "\n",
       "[2 rows x 5 columns]"
      ]
     },
     "execution_count": 51,
     "metadata": {},
     "output_type": "execute_result"
    }
   ],
   "source": [
    "df[df.E.isin(['one','two'])]"
   ]
  },
  {
   "cell_type": "code",
   "execution_count": 53,
   "metadata": {
    "collapsed": false
   },
   "outputs": [],
   "source": [
    "df.loc[:,'D'] = np.array([5] * len(df))"
   ]
  },
  {
   "cell_type": "code",
   "execution_count": 54,
   "metadata": {
    "collapsed": false
   },
   "outputs": [
    {
     "data": {
      "text/html": [
       "<div style=\"max-height:1000px;max-width:1500px;overflow:auto;\">\n",
       "<table border=\"1\" class=\"dataframe\">\n",
       "  <thead>\n",
       "    <tr style=\"text-align: right;\">\n",
       "      <th></th>\n",
       "      <th>A</th>\n",
       "      <th>B</th>\n",
       "      <th>C</th>\n",
       "      <th>D</th>\n",
       "      <th>E</th>\n",
       "    </tr>\n",
       "  </thead>\n",
       "  <tbody>\n",
       "    <tr>\n",
       "      <th>2012-10-11</th>\n",
       "      <td> 1.025978</td>\n",
       "      <td> 0.094510</td>\n",
       "      <td> 1.831977</td>\n",
       "      <td> 5</td>\n",
       "      <td>   one</td>\n",
       "    </tr>\n",
       "    <tr>\n",
       "      <th>2012-10-12</th>\n",
       "      <td> 1.150185</td>\n",
       "      <td> 1.035632</td>\n",
       "      <td> 0.255225</td>\n",
       "      <td> 5</td>\n",
       "      <td>   two</td>\n",
       "    </tr>\n",
       "    <tr>\n",
       "      <th>2012-10-13</th>\n",
       "      <td>-0.501567</td>\n",
       "      <td>-0.979041</td>\n",
       "      <td> 1.170985</td>\n",
       "      <td> 5</td>\n",
       "      <td> three</td>\n",
       "    </tr>\n",
       "    <tr>\n",
       "      <th>2012-10-14</th>\n",
       "      <td>-0.608588</td>\n",
       "      <td> 2.935137</td>\n",
       "      <td>-0.872910</td>\n",
       "      <td> 5</td>\n",
       "      <td>  four</td>\n",
       "    </tr>\n",
       "    <tr>\n",
       "      <th>2012-10-15</th>\n",
       "      <td>-0.688476</td>\n",
       "      <td> 0.106206</td>\n",
       "      <td> 1.491516</td>\n",
       "      <td> 5</td>\n",
       "      <td>  five</td>\n",
       "    </tr>\n",
       "    <tr>\n",
       "      <th>2012-10-16</th>\n",
       "      <td>-0.826303</td>\n",
       "      <td>-1.025585</td>\n",
       "      <td>-1.156102</td>\n",
       "      <td> 5</td>\n",
       "      <td>   six</td>\n",
       "    </tr>\n",
       "  </tbody>\n",
       "</table>\n",
       "<p>6 rows × 5 columns</p>\n",
       "</div>"
      ],
      "text/plain": [
       "                   A         B         C  D      E\n",
       "2012-10-11  1.025978  0.094510  1.831977  5    one\n",
       "2012-10-12  1.150185  1.035632  0.255225  5    two\n",
       "2012-10-13 -0.501567 -0.979041  1.170985  5  three\n",
       "2012-10-14 -0.608588  2.935137 -0.872910  5   four\n",
       "2012-10-15 -0.688476  0.106206  1.491516  5   five\n",
       "2012-10-16 -0.826303 -1.025585 -1.156102  5    six\n",
       "\n",
       "[6 rows x 5 columns]"
      ]
     },
     "execution_count": 54,
     "metadata": {},
     "output_type": "execute_result"
    }
   ],
   "source": [
    "df"
   ]
  },
  {
   "cell_type": "code",
   "execution_count": 55,
   "metadata": {
    "collapsed": false
   },
   "outputs": [
    {
     "ename": "NameError",
     "evalue": "name 'df1' is not defined",
     "output_type": "error",
     "traceback": [
      "\u001b[1;31m---------------------------------------------------------------------------\u001b[0m",
      "\u001b[1;31mNameError\u001b[0m                                 Traceback (most recent call last)",
      "\u001b[1;32m<ipython-input-55-e51f5dd68a05>\u001b[0m in \u001b[0;36m<module>\u001b[1;34m()\u001b[0m\n\u001b[1;32m----> 1\u001b[1;33m \u001b[0mdf1\u001b[0m\u001b[1;33m\u001b[0m\u001b[0m\n\u001b[0m",
      "\u001b[1;31mNameError\u001b[0m: name 'df1' is not defined"
     ]
    }
   ],
   "source": [
    "df1"
   ]
  },
  {
   "cell_type": "code",
   "execution_count": 56,
   "metadata": {
    "collapsed": true
   },
   "outputs": [],
   "source": [
    "df1 = df.copy"
   ]
  },
  {
   "cell_type": "code",
   "execution_count": 87,
   "metadata": {
    "collapsed": false
   },
   "outputs": [],
   "source": [
    "df1 = df.reindex(index= dates[0:4], columns= list(df.columns) + ['F'])"
   ]
  },
  {
   "cell_type": "code",
   "execution_count": 88,
   "metadata": {
    "collapsed": false
   },
   "outputs": [
    {
     "data": {
      "text/html": [
       "<div style=\"max-height:1000px;max-width:1500px;overflow:auto;\">\n",
       "<table border=\"1\" class=\"dataframe\">\n",
       "  <thead>\n",
       "    <tr style=\"text-align: right;\">\n",
       "      <th></th>\n",
       "      <th>A</th>\n",
       "      <th>B</th>\n",
       "      <th>C</th>\n",
       "      <th>D</th>\n",
       "      <th>E</th>\n",
       "      <th>F</th>\n",
       "    </tr>\n",
       "  </thead>\n",
       "  <tbody>\n",
       "    <tr>\n",
       "      <th>2012-10-11</th>\n",
       "      <td> 1.025978</td>\n",
       "      <td> 0.094510</td>\n",
       "      <td> 1.831977</td>\n",
       "      <td> 5</td>\n",
       "      <td>   one</td>\n",
       "      <td>NaN</td>\n",
       "    </tr>\n",
       "    <tr>\n",
       "      <th>2012-10-12</th>\n",
       "      <td> 1.150185</td>\n",
       "      <td> 1.035632</td>\n",
       "      <td> 0.255225</td>\n",
       "      <td> 5</td>\n",
       "      <td>   two</td>\n",
       "      <td>NaN</td>\n",
       "    </tr>\n",
       "    <tr>\n",
       "      <th>2012-10-13</th>\n",
       "      <td>-0.501567</td>\n",
       "      <td>-0.979041</td>\n",
       "      <td> 1.170985</td>\n",
       "      <td> 5</td>\n",
       "      <td> three</td>\n",
       "      <td>NaN</td>\n",
       "    </tr>\n",
       "    <tr>\n",
       "      <th>2012-10-14</th>\n",
       "      <td>-0.608588</td>\n",
       "      <td> 2.935137</td>\n",
       "      <td>-0.872910</td>\n",
       "      <td> 5</td>\n",
       "      <td>  four</td>\n",
       "      <td>NaN</td>\n",
       "    </tr>\n",
       "  </tbody>\n",
       "</table>\n",
       "<p>4 rows × 6 columns</p>\n",
       "</div>"
      ],
      "text/plain": [
       "                   A         B         C  D      E   F\n",
       "2012-10-11  1.025978  0.094510  1.831977  5    one NaN\n",
       "2012-10-12  1.150185  1.035632  0.255225  5    two NaN\n",
       "2012-10-13 -0.501567 -0.979041  1.170985  5  three NaN\n",
       "2012-10-14 -0.608588  2.935137 -0.872910  5   four NaN\n",
       "\n",
       "[4 rows x 6 columns]"
      ]
     },
     "execution_count": 88,
     "metadata": {},
     "output_type": "execute_result"
    }
   ],
   "source": [
    "df1"
   ]
  },
  {
   "cell_type": "code",
   "execution_count": 93,
   "metadata": {
    "collapsed": true
   },
   "outputs": [],
   "source": [
    "df1.loc[dates[0]:dates[2],'F'] = 11"
   ]
  },
  {
   "cell_type": "code",
   "execution_count": 94,
   "metadata": {
    "collapsed": false
   },
   "outputs": [
    {
     "data": {
      "text/html": [
       "<div style=\"max-height:1000px;max-width:1500px;overflow:auto;\">\n",
       "<table border=\"1\" class=\"dataframe\">\n",
       "  <thead>\n",
       "    <tr style=\"text-align: right;\">\n",
       "      <th></th>\n",
       "      <th>A</th>\n",
       "      <th>B</th>\n",
       "      <th>C</th>\n",
       "      <th>D</th>\n",
       "      <th>E</th>\n",
       "      <th>F</th>\n",
       "    </tr>\n",
       "  </thead>\n",
       "  <tbody>\n",
       "    <tr>\n",
       "      <th>2012-10-11</th>\n",
       "      <td> 1.025978</td>\n",
       "      <td> 0.094510</td>\n",
       "      <td> 1.831977</td>\n",
       "      <td> 5</td>\n",
       "      <td>   one</td>\n",
       "      <td> 11</td>\n",
       "    </tr>\n",
       "    <tr>\n",
       "      <th>2012-10-12</th>\n",
       "      <td> 1.150185</td>\n",
       "      <td> 1.035632</td>\n",
       "      <td> 0.255225</td>\n",
       "      <td> 5</td>\n",
       "      <td>   two</td>\n",
       "      <td> 11</td>\n",
       "    </tr>\n",
       "    <tr>\n",
       "      <th>2012-10-13</th>\n",
       "      <td>-0.501567</td>\n",
       "      <td>-0.979041</td>\n",
       "      <td> 1.170985</td>\n",
       "      <td> 5</td>\n",
       "      <td> three</td>\n",
       "      <td> 11</td>\n",
       "    </tr>\n",
       "    <tr>\n",
       "      <th>2012-10-14</th>\n",
       "      <td>-0.608588</td>\n",
       "      <td> 2.935137</td>\n",
       "      <td>-0.872910</td>\n",
       "      <td> 5</td>\n",
       "      <td>  four</td>\n",
       "      <td>NaN</td>\n",
       "    </tr>\n",
       "  </tbody>\n",
       "</table>\n",
       "<p>4 rows × 6 columns</p>\n",
       "</div>"
      ],
      "text/plain": [
       "                   A         B         C  D      E   F\n",
       "2012-10-11  1.025978  0.094510  1.831977  5    one  11\n",
       "2012-10-12  1.150185  1.035632  0.255225  5    two  11\n",
       "2012-10-13 -0.501567 -0.979041  1.170985  5  three  11\n",
       "2012-10-14 -0.608588  2.935137 -0.872910  5   four NaN\n",
       "\n",
       "[4 rows x 6 columns]"
      ]
     },
     "execution_count": 94,
     "metadata": {},
     "output_type": "execute_result"
    }
   ],
   "source": [
    "df1"
   ]
  },
  {
   "cell_type": "code",
   "execution_count": 133,
   "metadata": {
    "collapsed": false
   },
   "outputs": [],
   "source": [
    "test = df1[:]"
   ]
  },
  {
   "cell_type": "markdown",
   "metadata": {},
   "source": [
    "### dropna(axis, how, inplace, subset, threshold)"
   ]
  },
  {
   "cell_type": "code",
   "execution_count": 131,
   "metadata": {
    "collapsed": false
   },
   "outputs": [],
   "source": [
    "test.dropna(axis=0, how='all',inplace=True,subset=['B','F'])"
   ]
  },
  {
   "cell_type": "code",
   "execution_count": 132,
   "metadata": {
    "collapsed": false
   },
   "outputs": [
    {
     "data": {
      "text/html": [
       "<div style=\"max-height:1000px;max-width:1500px;overflow:auto;\">\n",
       "<table border=\"1\" class=\"dataframe\">\n",
       "  <thead>\n",
       "    <tr style=\"text-align: right;\">\n",
       "      <th></th>\n",
       "      <th>A</th>\n",
       "      <th>B</th>\n",
       "      <th>C</th>\n",
       "      <th>D</th>\n",
       "      <th>E</th>\n",
       "      <th>F</th>\n",
       "    </tr>\n",
       "  </thead>\n",
       "  <tbody>\n",
       "    <tr>\n",
       "      <th>2012-10-11</th>\n",
       "      <td> 1.025978</td>\n",
       "      <td> 0.094510</td>\n",
       "      <td> 1.831977</td>\n",
       "      <td> 5</td>\n",
       "      <td>   one</td>\n",
       "      <td> 11</td>\n",
       "    </tr>\n",
       "    <tr>\n",
       "      <th>2012-10-12</th>\n",
       "      <td> 1.150185</td>\n",
       "      <td> 1.035632</td>\n",
       "      <td> 0.255225</td>\n",
       "      <td> 5</td>\n",
       "      <td>   two</td>\n",
       "      <td> 11</td>\n",
       "    </tr>\n",
       "    <tr>\n",
       "      <th>2012-10-13</th>\n",
       "      <td>-0.501567</td>\n",
       "      <td>-0.979041</td>\n",
       "      <td> 1.170985</td>\n",
       "      <td> 5</td>\n",
       "      <td> three</td>\n",
       "      <td> 11</td>\n",
       "    </tr>\n",
       "  </tbody>\n",
       "</table>\n",
       "<p>3 rows × 6 columns</p>\n",
       "</div>"
      ],
      "text/plain": [
       "                   A         B         C  D      E   F\n",
       "2012-10-11  1.025978  0.094510  1.831977  5    one  11\n",
       "2012-10-12  1.150185  1.035632  0.255225  5    two  11\n",
       "2012-10-13 -0.501567 -0.979041  1.170985  5  three  11\n",
       "\n",
       "[3 rows x 6 columns]"
      ]
     },
     "execution_count": 132,
     "metadata": {},
     "output_type": "execute_result"
    }
   ],
   "source": [
    "test"
   ]
  },
  {
   "cell_type": "code",
   "execution_count": 135,
   "metadata": {
    "collapsed": false
   },
   "outputs": [
    {
     "data": {
      "text/plain": [
       "2012-10-11    1.988116\n",
       "2012-10-12    1.860260\n",
       "2012-10-13    1.172594\n",
       "2012-10-14    1.613410\n",
       "2012-10-15    1.477312\n",
       "2012-10-16    0.498003\n",
       "Freq: D, dtype: float64"
      ]
     },
     "execution_count": 135,
     "metadata": {},
     "output_type": "execute_result"
    }
   ],
   "source": [
    "df.mean(1)"
   ]
  },
  {
   "cell_type": "code",
   "execution_count": 136,
   "metadata": {
    "collapsed": true
   },
   "outputs": [],
   "source": [
    "df = pd.DataFrame(np.random.randn(10,5))"
   ]
  },
  {
   "cell_type": "code",
   "execution_count": 144,
   "metadata": {
    "collapsed": false
   },
   "outputs": [],
   "source": [
    "pieces = [df[:3],df[5:8]]"
   ]
  },
  {
   "cell_type": "code",
   "execution_count": 145,
   "metadata": {
    "collapsed": false
   },
   "outputs": [
    {
     "data": {
      "text/html": [
       "<div style=\"max-height:1000px;max-width:1500px;overflow:auto;\">\n",
       "<table border=\"1\" class=\"dataframe\">\n",
       "  <thead>\n",
       "    <tr style=\"text-align: right;\">\n",
       "      <th></th>\n",
       "      <th>0</th>\n",
       "      <th>1</th>\n",
       "      <th>2</th>\n",
       "      <th>3</th>\n",
       "      <th>4</th>\n",
       "    </tr>\n",
       "  </thead>\n",
       "  <tbody>\n",
       "    <tr>\n",
       "      <th>0</th>\n",
       "      <td> 0.537566</td>\n",
       "      <td>-0.011694</td>\n",
       "      <td> 1.173516</td>\n",
       "      <td>-1.443907</td>\n",
       "      <td>-0.751842</td>\n",
       "    </tr>\n",
       "    <tr>\n",
       "      <th>1</th>\n",
       "      <td>-1.647372</td>\n",
       "      <td>-0.748584</td>\n",
       "      <td> 1.154282</td>\n",
       "      <td>-0.952705</td>\n",
       "      <td> 0.315623</td>\n",
       "    </tr>\n",
       "    <tr>\n",
       "      <th>2</th>\n",
       "      <td>-1.373803</td>\n",
       "      <td> 0.006064</td>\n",
       "      <td>-1.151676</td>\n",
       "      <td>-0.443688</td>\n",
       "      <td> 0.566245</td>\n",
       "    </tr>\n",
       "    <tr>\n",
       "      <th>5</th>\n",
       "      <td>-0.387774</td>\n",
       "      <td>-0.122755</td>\n",
       "      <td> 1.781460</td>\n",
       "      <td> 0.747759</td>\n",
       "      <td> 0.811629</td>\n",
       "    </tr>\n",
       "    <tr>\n",
       "      <th>6</th>\n",
       "      <td> 0.644694</td>\n",
       "      <td>-1.032553</td>\n",
       "      <td>-0.621941</td>\n",
       "      <td>-1.843983</td>\n",
       "      <td>-0.398625</td>\n",
       "    </tr>\n",
       "    <tr>\n",
       "      <th>7</th>\n",
       "      <td>-2.040177</td>\n",
       "      <td>-0.888999</td>\n",
       "      <td> 0.563937</td>\n",
       "      <td>-1.389204</td>\n",
       "      <td> 0.399687</td>\n",
       "    </tr>\n",
       "  </tbody>\n",
       "</table>\n",
       "<p>6 rows × 5 columns</p>\n",
       "</div>"
      ],
      "text/plain": [
       "          0         1         2         3         4\n",
       "0  0.537566 -0.011694  1.173516 -1.443907 -0.751842\n",
       "1 -1.647372 -0.748584  1.154282 -0.952705  0.315623\n",
       "2 -1.373803  0.006064 -1.151676 -0.443688  0.566245\n",
       "5 -0.387774 -0.122755  1.781460  0.747759  0.811629\n",
       "6  0.644694 -1.032553 -0.621941 -1.843983 -0.398625\n",
       "7 -2.040177 -0.888999  0.563937 -1.389204  0.399687\n",
       "\n",
       "[6 rows x 5 columns]"
      ]
     },
     "execution_count": 145,
     "metadata": {},
     "output_type": "execute_result"
    }
   ],
   "source": [
    "pd.concat(pieces)"
   ]
  },
  {
   "cell_type": "code",
   "execution_count": 150,
   "metadata": {
    "collapsed": false
   },
   "outputs": [],
   "source": [
    "df1 = pd.DataFrame({'A': [1,2,3,4,5], 'B': [2,3,4,5,6]},index=[0,1,2,3,4])"
   ]
  },
  {
   "cell_type": "code",
   "execution_count": 151,
   "metadata": {
    "collapsed": true
   },
   "outputs": [],
   "source": [
    "df2 = pd.DataFrame({'A': [1,2,3,4,5], 'B': [10,11,12,14,15]},index= [10,11,12,13,15])"
   ]
  },
  {
   "cell_type": "code",
   "execution_count": 155,
   "metadata": {
    "collapsed": false
   },
   "outputs": [
    {
     "data": {
      "text/html": [
       "<div style=\"max-height:1000px;max-width:1500px;overflow:auto;\">\n",
       "<table border=\"1\" class=\"dataframe\">\n",
       "  <thead>\n",
       "    <tr style=\"text-align: right;\">\n",
       "      <th></th>\n",
       "      <th></th>\n",
       "      <th>A</th>\n",
       "      <th>B</th>\n",
       "    </tr>\n",
       "  </thead>\n",
       "  <tbody>\n",
       "    <tr>\n",
       "      <th rowspan=\"5\" valign=\"top\">x</th>\n",
       "      <th>0 </th>\n",
       "      <td> 1</td>\n",
       "      <td>  2</td>\n",
       "    </tr>\n",
       "    <tr>\n",
       "      <th>1 </th>\n",
       "      <td> 2</td>\n",
       "      <td>  3</td>\n",
       "    </tr>\n",
       "    <tr>\n",
       "      <th>2 </th>\n",
       "      <td> 3</td>\n",
       "      <td>  4</td>\n",
       "    </tr>\n",
       "    <tr>\n",
       "      <th>3 </th>\n",
       "      <td> 4</td>\n",
       "      <td>  5</td>\n",
       "    </tr>\n",
       "    <tr>\n",
       "      <th>4 </th>\n",
       "      <td> 5</td>\n",
       "      <td>  6</td>\n",
       "    </tr>\n",
       "    <tr>\n",
       "      <th rowspan=\"5\" valign=\"top\">y</th>\n",
       "      <th>10</th>\n",
       "      <td> 1</td>\n",
       "      <td> 10</td>\n",
       "    </tr>\n",
       "    <tr>\n",
       "      <th>11</th>\n",
       "      <td> 2</td>\n",
       "      <td> 11</td>\n",
       "    </tr>\n",
       "    <tr>\n",
       "      <th>12</th>\n",
       "      <td> 3</td>\n",
       "      <td> 12</td>\n",
       "    </tr>\n",
       "    <tr>\n",
       "      <th>13</th>\n",
       "      <td> 4</td>\n",
       "      <td> 14</td>\n",
       "    </tr>\n",
       "    <tr>\n",
       "      <th>15</th>\n",
       "      <td> 5</td>\n",
       "      <td> 15</td>\n",
       "    </tr>\n",
       "  </tbody>\n",
       "</table>\n",
       "<p>10 rows × 2 columns</p>\n",
       "</div>"
      ],
      "text/plain": [
       "      A   B\n",
       "x 0   1   2\n",
       "  1   2   3\n",
       "  2   3   4\n",
       "  3   4   5\n",
       "  4   5   6\n",
       "y 10  1  10\n",
       "  11  2  11\n",
       "  12  3  12\n",
       "  13  4  14\n",
       "  15  5  15\n",
       "\n",
       "[10 rows x 2 columns]"
      ]
     },
     "execution_count": 155,
     "metadata": {},
     "output_type": "execute_result"
    }
   ],
   "source": [
    "pd.concat([df1,df2],keys=['x','y','z'])"
   ]
  },
  {
   "cell_type": "code",
   "execution_count": null,
   "metadata": {
    "collapsed": true
   },
   "outputs": [],
   "source": []
  }
 ],
 "metadata": {
  "kernelspec": {
   "display_name": "Python 2",
   "language": "python",
   "name": "python2"
  },
  "language_info": {
   "codemirror_mode": {
    "name": "ipython",
    "version": 2
   },
   "file_extension": ".py",
   "mimetype": "text/x-python",
   "name": "python",
   "nbconvert_exporter": "python",
   "pygments_lexer": "ipython2",
   "version": "2.7.6"
  }
 },
 "nbformat": 4,
 "nbformat_minor": 0
}
