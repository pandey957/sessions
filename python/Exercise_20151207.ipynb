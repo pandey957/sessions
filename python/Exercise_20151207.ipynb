{
 "cells": [
  {
   "cell_type": "code",
   "execution_count": 58,
   "metadata": {
    "collapsed": true
   },
   "outputs": [],
   "source": [
    "import pandas as pd\n",
    "import numpy as np\n",
    "import matplotlib.pyplot as plt"
   ]
  },
  {
   "cell_type": "code",
   "execution_count": 59,
   "metadata": {
    "collapsed": true
   },
   "outputs": [],
   "source": [
    "s = pd.Series([1,3,5,np.nan,6,8])"
   ]
  },
  {
   "cell_type": "code",
   "execution_count": 60,
   "metadata": {
    "collapsed": false
   },
   "outputs": [],
   "source": [
    "dates = pd.date_range('20121011',periods=6)"
   ]
  },
  {
   "cell_type": "code",
   "execution_count": 61,
   "metadata": {
    "collapsed": false
   },
   "outputs": [],
   "source": [
    "df = pd.DataFrame(np.random.randn(6,4),index=dates, columns=list('ABCD'))\n",
    "df2 = pd.DataFrame({'A': 1,\n",
    "                    'B': pd.Timestamp('20121209'),\n",
    "                    'C': pd.Series(1,index=list(range(4)), dtype='float32'),\n",
    "                    'D': np.array([3]*4, dtype= 'int32'),\n",
    "                    'E': pd.Categorical([\"test\",\"train\",\"test\",\"train\"]),\n",
    "                    'F': 'foo'})"
   ]
  },
  {
   "cell_type": "code",
   "execution_count": 62,
   "metadata": {
    "collapsed": false
   },
   "outputs": [
    {
     "data": {
      "text/html": [
       "<div style=\"max-height:1000px;max-width:1500px;overflow:auto;\">\n",
       "<table border=\"1\" class=\"dataframe\">\n",
       "  <thead>\n",
       "    <tr style=\"text-align: right;\">\n",
       "      <th></th>\n",
       "      <th>A</th>\n",
       "      <th>C</th>\n",
       "      <th>D</th>\n",
       "    </tr>\n",
       "  </thead>\n",
       "  <tbody>\n",
       "    <tr>\n",
       "      <th>count</th>\n",
       "      <td> 4</td>\n",
       "      <td> 4</td>\n",
       "      <td> 4</td>\n",
       "    </tr>\n",
       "    <tr>\n",
       "      <th>mean</th>\n",
       "      <td> 1</td>\n",
       "      <td> 1</td>\n",
       "      <td> 3</td>\n",
       "    </tr>\n",
       "    <tr>\n",
       "      <th>std</th>\n",
       "      <td> 0</td>\n",
       "      <td> 0</td>\n",
       "      <td> 0</td>\n",
       "    </tr>\n",
       "    <tr>\n",
       "      <th>min</th>\n",
       "      <td> 1</td>\n",
       "      <td> 1</td>\n",
       "      <td> 3</td>\n",
       "    </tr>\n",
       "    <tr>\n",
       "      <th>25%</th>\n",
       "      <td> 1</td>\n",
       "      <td> 1</td>\n",
       "      <td> 3</td>\n",
       "    </tr>\n",
       "    <tr>\n",
       "      <th>50%</th>\n",
       "      <td> 1</td>\n",
       "      <td> 1</td>\n",
       "      <td> 3</td>\n",
       "    </tr>\n",
       "    <tr>\n",
       "      <th>75%</th>\n",
       "      <td> 1</td>\n",
       "      <td> 1</td>\n",
       "      <td> 3</td>\n",
       "    </tr>\n",
       "    <tr>\n",
       "      <th>max</th>\n",
       "      <td> 1</td>\n",
       "      <td> 1</td>\n",
       "      <td> 3</td>\n",
       "    </tr>\n",
       "  </tbody>\n",
       "</table>\n",
       "<p>8 rows × 3 columns</p>\n",
       "</div>"
      ],
      "text/plain": [
       "       A  C  D\n",
       "count  4  4  4\n",
       "mean   1  1  3\n",
       "std    0  0  0\n",
       "min    1  1  3\n",
       "25%    1  1  3\n",
       "50%    1  1  3\n",
       "75%    1  1  3\n",
       "max    1  1  3\n",
       "\n",
       "[8 rows x 3 columns]"
      ]
     },
     "execution_count": 62,
     "metadata": {},
     "output_type": "execute_result"
    }
   ],
   "source": [
    "df2.describe()"
   ]
  },
  {
   "cell_type": "code",
   "execution_count": 63,
   "metadata": {
    "collapsed": false
   },
   "outputs": [
    {
     "data": {
      "text/html": [
       "<div style=\"max-height:1000px;max-width:1500px;overflow:auto;\">\n",
       "<table border=\"1\" class=\"dataframe\">\n",
       "  <thead>\n",
       "    <tr style=\"text-align: right;\">\n",
       "      <th></th>\n",
       "      <th>0</th>\n",
       "      <th>1</th>\n",
       "      <th>2</th>\n",
       "      <th>3</th>\n",
       "    </tr>\n",
       "  </thead>\n",
       "  <tbody>\n",
       "    <tr>\n",
       "      <th>A</th>\n",
       "      <td>                   1</td>\n",
       "      <td>                   1</td>\n",
       "      <td>                   1</td>\n",
       "      <td>                   1</td>\n",
       "    </tr>\n",
       "    <tr>\n",
       "      <th>B</th>\n",
       "      <td> 2012-12-09 00:00:00</td>\n",
       "      <td> 2012-12-09 00:00:00</td>\n",
       "      <td> 2012-12-09 00:00:00</td>\n",
       "      <td> 2012-12-09 00:00:00</td>\n",
       "    </tr>\n",
       "    <tr>\n",
       "      <th>C</th>\n",
       "      <td>                   1</td>\n",
       "      <td>                   1</td>\n",
       "      <td>                   1</td>\n",
       "      <td>                   1</td>\n",
       "    </tr>\n",
       "    <tr>\n",
       "      <th>D</th>\n",
       "      <td>                   3</td>\n",
       "      <td>                   3</td>\n",
       "      <td>                   3</td>\n",
       "      <td>                   3</td>\n",
       "    </tr>\n",
       "    <tr>\n",
       "      <th>E</th>\n",
       "      <td>                test</td>\n",
       "      <td>               train</td>\n",
       "      <td>                test</td>\n",
       "      <td>               train</td>\n",
       "    </tr>\n",
       "    <tr>\n",
       "      <th>F</th>\n",
       "      <td>                 foo</td>\n",
       "      <td>                 foo</td>\n",
       "      <td>                 foo</td>\n",
       "      <td>                 foo</td>\n",
       "    </tr>\n",
       "  </tbody>\n",
       "</table>\n",
       "<p>6 rows × 4 columns</p>\n",
       "</div>"
      ],
      "text/plain": [
       "                     0                    1                    2  \\\n",
       "A                    1                    1                    1   \n",
       "B  2012-12-09 00:00:00  2012-12-09 00:00:00  2012-12-09 00:00:00   \n",
       "C                    1                    1                    1   \n",
       "D                    3                    3                    3   \n",
       "E                 test                train                 test   \n",
       "F                  foo                  foo                  foo   \n",
       "\n",
       "                     3  \n",
       "A                    1  \n",
       "B  2012-12-09 00:00:00  \n",
       "C                    1  \n",
       "D                    3  \n",
       "E                train  \n",
       "F                  foo  \n",
       "\n",
       "[6 rows x 4 columns]"
      ]
     },
     "execution_count": 63,
     "metadata": {},
     "output_type": "execute_result"
    }
   ],
   "source": [
    "df2.T"
   ]
  },
  {
   "cell_type": "code",
   "execution_count": 64,
   "metadata": {
    "collapsed": false
   },
   "outputs": [
    {
     "data": {
      "text/html": [
       "<div style=\"max-height:1000px;max-width:1500px;overflow:auto;\">\n",
       "<table border=\"1\" class=\"dataframe\">\n",
       "  <thead>\n",
       "    <tr style=\"text-align: right;\">\n",
       "      <th></th>\n",
       "      <th>A</th>\n",
       "      <th>B</th>\n",
       "      <th>C</th>\n",
       "      <th>D</th>\n",
       "    </tr>\n",
       "  </thead>\n",
       "  <tbody>\n",
       "    <tr>\n",
       "      <th>2012-10-16</th>\n",
       "      <td> 0.435172</td>\n",
       "      <td>-1.142791</td>\n",
       "      <td>-0.890486</td>\n",
       "      <td>-1.940987</td>\n",
       "    </tr>\n",
       "    <tr>\n",
       "      <th>2012-10-15</th>\n",
       "      <td> 1.014091</td>\n",
       "      <td>-0.099907</td>\n",
       "      <td> 0.697485</td>\n",
       "      <td> 0.197782</td>\n",
       "    </tr>\n",
       "    <tr>\n",
       "      <th>2012-10-14</th>\n",
       "      <td>-2.263782</td>\n",
       "      <td> 0.685659</td>\n",
       "      <td>-1.743518</td>\n",
       "      <td>-0.203282</td>\n",
       "    </tr>\n",
       "    <tr>\n",
       "      <th>2012-10-13</th>\n",
       "      <td> 0.224242</td>\n",
       "      <td> 0.602250</td>\n",
       "      <td> 0.202450</td>\n",
       "      <td>-1.100560</td>\n",
       "    </tr>\n",
       "    <tr>\n",
       "      <th>2012-10-12</th>\n",
       "      <td> 0.382369</td>\n",
       "      <td>-0.656363</td>\n",
       "      <td>-1.590964</td>\n",
       "      <td> 0.252743</td>\n",
       "    </tr>\n",
       "    <tr>\n",
       "      <th>2012-10-11</th>\n",
       "      <td> 1.629087</td>\n",
       "      <td> 0.184613</td>\n",
       "      <td>-0.413143</td>\n",
       "      <td>-0.020178</td>\n",
       "    </tr>\n",
       "  </tbody>\n",
       "</table>\n",
       "<p>6 rows × 4 columns</p>\n",
       "</div>"
      ],
      "text/plain": [
       "                   A         B         C         D\n",
       "2012-10-16  0.435172 -1.142791 -0.890486 -1.940987\n",
       "2012-10-15  1.014091 -0.099907  0.697485  0.197782\n",
       "2012-10-14 -2.263782  0.685659 -1.743518 -0.203282\n",
       "2012-10-13  0.224242  0.602250  0.202450 -1.100560\n",
       "2012-10-12  0.382369 -0.656363 -1.590964  0.252743\n",
       "2012-10-11  1.629087  0.184613 -0.413143 -0.020178\n",
       "\n",
       "[6 rows x 4 columns]"
      ]
     },
     "execution_count": 64,
     "metadata": {},
     "output_type": "execute_result"
    }
   ],
   "source": [
    "df.sort_index(axis=0,ascending=False)"
   ]
  },
  {
   "cell_type": "markdown",
   "metadata": {},
   "source": [
    "### sort(columns, axis, ascending, inplace, kind, na_position)\n"
   ]
  },
  {
   "cell_type": "code",
   "execution_count": 65,
   "metadata": {
    "collapsed": false
   },
   "outputs": [
    {
     "data": {
      "text/html": [
       "<div style=\"max-height:1000px;max-width:1500px;overflow:auto;\">\n",
       "<table border=\"1\" class=\"dataframe\">\n",
       "  <thead>\n",
       "    <tr style=\"text-align: right;\">\n",
       "      <th></th>\n",
       "      <th>A</th>\n",
       "      <th>B</th>\n",
       "      <th>C</th>\n",
       "      <th>D</th>\n",
       "    </tr>\n",
       "  </thead>\n",
       "  <tbody>\n",
       "    <tr>\n",
       "      <th>2012-10-16</th>\n",
       "      <td> 0.435172</td>\n",
       "      <td>-1.142791</td>\n",
       "      <td>-0.890486</td>\n",
       "      <td>-1.940987</td>\n",
       "    </tr>\n",
       "    <tr>\n",
       "      <th>2012-10-12</th>\n",
       "      <td> 0.382369</td>\n",
       "      <td>-0.656363</td>\n",
       "      <td>-1.590964</td>\n",
       "      <td> 0.252743</td>\n",
       "    </tr>\n",
       "    <tr>\n",
       "      <th>2012-10-15</th>\n",
       "      <td> 1.014091</td>\n",
       "      <td>-0.099907</td>\n",
       "      <td> 0.697485</td>\n",
       "      <td> 0.197782</td>\n",
       "    </tr>\n",
       "    <tr>\n",
       "      <th>2012-10-11</th>\n",
       "      <td> 1.629087</td>\n",
       "      <td> 0.184613</td>\n",
       "      <td>-0.413143</td>\n",
       "      <td>-0.020178</td>\n",
       "    </tr>\n",
       "    <tr>\n",
       "      <th>2012-10-13</th>\n",
       "      <td> 0.224242</td>\n",
       "      <td> 0.602250</td>\n",
       "      <td> 0.202450</td>\n",
       "      <td>-1.100560</td>\n",
       "    </tr>\n",
       "    <tr>\n",
       "      <th>2012-10-14</th>\n",
       "      <td>-2.263782</td>\n",
       "      <td> 0.685659</td>\n",
       "      <td>-1.743518</td>\n",
       "      <td>-0.203282</td>\n",
       "    </tr>\n",
       "  </tbody>\n",
       "</table>\n",
       "<p>6 rows × 4 columns</p>\n",
       "</div>"
      ],
      "text/plain": [
       "                   A         B         C         D\n",
       "2012-10-16  0.435172 -1.142791 -0.890486 -1.940987\n",
       "2012-10-12  0.382369 -0.656363 -1.590964  0.252743\n",
       "2012-10-15  1.014091 -0.099907  0.697485  0.197782\n",
       "2012-10-11  1.629087  0.184613 -0.413143 -0.020178\n",
       "2012-10-13  0.224242  0.602250  0.202450 -1.100560\n",
       "2012-10-14 -2.263782  0.685659 -1.743518 -0.203282\n",
       "\n",
       "[6 rows x 4 columns]"
      ]
     },
     "execution_count": 65,
     "metadata": {},
     "output_type": "execute_result"
    }
   ],
   "source": [
    "df.sort(columns='B',axis=0,ascending=True,)"
   ]
  },
  {
   "cell_type": "code",
   "execution_count": 66,
   "metadata": {
    "collapsed": false
   },
   "outputs": [
    {
     "data": {
      "text/plain": [
       "<bound method DataFrame.sort of                    A         B         C         D\n",
       "2012-10-11  1.629087  0.184613 -0.413143 -0.020178\n",
       "2012-10-12  0.382369 -0.656363 -1.590964  0.252743\n",
       "2012-10-13  0.224242  0.602250  0.202450 -1.100560\n",
       "2012-10-14 -2.263782  0.685659 -1.743518 -0.203282\n",
       "2012-10-15  1.014091 -0.099907  0.697485  0.197782\n",
       "2012-10-16  0.435172 -1.142791 -0.890486 -1.940987\n",
       "\n",
       "[6 rows x 4 columns]>"
      ]
     },
     "execution_count": 66,
     "metadata": {},
     "output_type": "execute_result"
    }
   ],
   "source": [
    "df.sort"
   ]
  },
  {
   "cell_type": "code",
   "execution_count": 67,
   "metadata": {
    "collapsed": false
   },
   "outputs": [
    {
     "data": {
      "text/plain": [
       "2012-10-11    0.184613\n",
       "2012-10-12   -0.656363\n",
       "2012-10-13    0.602250\n",
       "2012-10-14    0.685659\n",
       "2012-10-15   -0.099907\n",
       "2012-10-16   -1.142791\n",
       "Freq: D, Name: B, dtype: float64"
      ]
     },
     "execution_count": 67,
     "metadata": {},
     "output_type": "execute_result"
    }
   ],
   "source": [
    "df['B']"
   ]
  },
  {
   "cell_type": "code",
   "execution_count": 68,
   "metadata": {
    "collapsed": false
   },
   "outputs": [
    {
     "data": {
      "text/html": [
       "<div style=\"max-height:1000px;max-width:1500px;overflow:auto;\">\n",
       "<table border=\"1\" class=\"dataframe\">\n",
       "  <thead>\n",
       "    <tr style=\"text-align: right;\">\n",
       "      <th></th>\n",
       "      <th>A</th>\n",
       "      <th>B</th>\n",
       "      <th>C</th>\n",
       "      <th>D</th>\n",
       "    </tr>\n",
       "  </thead>\n",
       "  <tbody>\n",
       "    <tr>\n",
       "      <th>2012-10-11</th>\n",
       "      <td> 1.629087</td>\n",
       "      <td> 0.184613</td>\n",
       "      <td>-0.413143</td>\n",
       "      <td>-0.020178</td>\n",
       "    </tr>\n",
       "    <tr>\n",
       "      <th>2012-10-12</th>\n",
       "      <td> 0.382369</td>\n",
       "      <td>-0.656363</td>\n",
       "      <td>-1.590964</td>\n",
       "      <td> 0.252743</td>\n",
       "    </tr>\n",
       "    <tr>\n",
       "      <th>2012-10-13</th>\n",
       "      <td> 0.224242</td>\n",
       "      <td> 0.602250</td>\n",
       "      <td> 0.202450</td>\n",
       "      <td>-1.100560</td>\n",
       "    </tr>\n",
       "  </tbody>\n",
       "</table>\n",
       "<p>3 rows × 4 columns</p>\n",
       "</div>"
      ],
      "text/plain": [
       "                   A         B         C         D\n",
       "2012-10-11  1.629087  0.184613 -0.413143 -0.020178\n",
       "2012-10-12  0.382369 -0.656363 -1.590964  0.252743\n",
       "2012-10-13  0.224242  0.602250  0.202450 -1.100560\n",
       "\n",
       "[3 rows x 4 columns]"
      ]
     },
     "execution_count": 68,
     "metadata": {},
     "output_type": "execute_result"
    }
   ],
   "source": [
    "df[0:3]"
   ]
  },
  {
   "cell_type": "code",
   "execution_count": 69,
   "metadata": {
    "collapsed": false
   },
   "outputs": [
    {
     "data": {
      "text/html": [
       "<div style=\"max-height:1000px;max-width:1500px;overflow:auto;\">\n",
       "<table border=\"1\" class=\"dataframe\">\n",
       "  <thead>\n",
       "    <tr style=\"text-align: right;\">\n",
       "      <th></th>\n",
       "      <th>A</th>\n",
       "      <th>B</th>\n",
       "      <th>C</th>\n",
       "      <th>D</th>\n",
       "    </tr>\n",
       "  </thead>\n",
       "  <tbody>\n",
       "    <tr>\n",
       "      <th>2012-10-11</th>\n",
       "      <td> 1.629087</td>\n",
       "      <td> 0.184613</td>\n",
       "      <td>-0.413143</td>\n",
       "      <td>-0.020178</td>\n",
       "    </tr>\n",
       "    <tr>\n",
       "      <th>2012-10-12</th>\n",
       "      <td> 0.382369</td>\n",
       "      <td>-0.656363</td>\n",
       "      <td>-1.590964</td>\n",
       "      <td> 0.252743</td>\n",
       "    </tr>\n",
       "    <tr>\n",
       "      <th>2012-10-13</th>\n",
       "      <td> 0.224242</td>\n",
       "      <td> 0.602250</td>\n",
       "      <td> 0.202450</td>\n",
       "      <td>-1.100560</td>\n",
       "    </tr>\n",
       "    <tr>\n",
       "      <th>2012-10-14</th>\n",
       "      <td>-2.263782</td>\n",
       "      <td> 0.685659</td>\n",
       "      <td>-1.743518</td>\n",
       "      <td>-0.203282</td>\n",
       "    </tr>\n",
       "  </tbody>\n",
       "</table>\n",
       "<p>4 rows × 4 columns</p>\n",
       "</div>"
      ],
      "text/plain": [
       "                   A         B         C         D\n",
       "2012-10-11  1.629087  0.184613 -0.413143 -0.020178\n",
       "2012-10-12  0.382369 -0.656363 -1.590964  0.252743\n",
       "2012-10-13  0.224242  0.602250  0.202450 -1.100560\n",
       "2012-10-14 -2.263782  0.685659 -1.743518 -0.203282\n",
       "\n",
       "[4 rows x 4 columns]"
      ]
     },
     "execution_count": 69,
     "metadata": {},
     "output_type": "execute_result"
    }
   ],
   "source": [
    "df[dates[0]:dates[3]]"
   ]
  },
  {
   "cell_type": "code",
   "execution_count": 70,
   "metadata": {
    "collapsed": false
   },
   "outputs": [
    {
     "data": {
      "text/plain": [
       "A    1.629087\n",
       "B    0.184613\n",
       "C   -0.413143\n",
       "D   -0.020178\n",
       "Name: 2012-10-11 00:00:00, dtype: float64"
      ]
     },
     "execution_count": 70,
     "metadata": {},
     "output_type": "execute_result"
    }
   ],
   "source": [
    "df.loc[dates[0]]"
   ]
  },
  {
   "cell_type": "code",
   "execution_count": 71,
   "metadata": {
    "collapsed": false
   },
   "outputs": [
    {
     "data": {
      "text/html": [
       "<div style=\"max-height:1000px;max-width:1500px;overflow:auto;\">\n",
       "<table border=\"1\" class=\"dataframe\">\n",
       "  <thead>\n",
       "    <tr style=\"text-align: right;\">\n",
       "      <th></th>\n",
       "      <th>A</th>\n",
       "      <th>B</th>\n",
       "    </tr>\n",
       "  </thead>\n",
       "  <tbody>\n",
       "    <tr>\n",
       "      <th>2012-10-11</th>\n",
       "      <td> 1.629087</td>\n",
       "      <td> 0.184613</td>\n",
       "    </tr>\n",
       "    <tr>\n",
       "      <th>2012-10-12</th>\n",
       "      <td> 0.382369</td>\n",
       "      <td>-0.656363</td>\n",
       "    </tr>\n",
       "    <tr>\n",
       "      <th>2012-10-13</th>\n",
       "      <td> 0.224242</td>\n",
       "      <td> 0.602250</td>\n",
       "    </tr>\n",
       "    <tr>\n",
       "      <th>2012-10-14</th>\n",
       "      <td>-2.263782</td>\n",
       "      <td> 0.685659</td>\n",
       "    </tr>\n",
       "    <tr>\n",
       "      <th>2012-10-15</th>\n",
       "      <td> 1.014091</td>\n",
       "      <td>-0.099907</td>\n",
       "    </tr>\n",
       "    <tr>\n",
       "      <th>2012-10-16</th>\n",
       "      <td> 0.435172</td>\n",
       "      <td>-1.142791</td>\n",
       "    </tr>\n",
       "  </tbody>\n",
       "</table>\n",
       "<p>6 rows × 2 columns</p>\n",
       "</div>"
      ],
      "text/plain": [
       "                   A         B\n",
       "2012-10-11  1.629087  0.184613\n",
       "2012-10-12  0.382369 -0.656363\n",
       "2012-10-13  0.224242  0.602250\n",
       "2012-10-14 -2.263782  0.685659\n",
       "2012-10-15  1.014091 -0.099907\n",
       "2012-10-16  0.435172 -1.142791\n",
       "\n",
       "[6 rows x 2 columns]"
      ]
     },
     "execution_count": 71,
     "metadata": {},
     "output_type": "execute_result"
    }
   ],
   "source": [
    "df.loc[:,['A','B']]"
   ]
  },
  {
   "cell_type": "code",
   "execution_count": 72,
   "metadata": {
    "collapsed": false
   },
   "outputs": [
    {
     "data": {
      "text/html": [
       "<div style=\"max-height:1000px;max-width:1500px;overflow:auto;\">\n",
       "<table border=\"1\" class=\"dataframe\">\n",
       "  <thead>\n",
       "    <tr style=\"text-align: right;\">\n",
       "      <th></th>\n",
       "      <th>A</th>\n",
       "      <th>B</th>\n",
       "      <th>C</th>\n",
       "    </tr>\n",
       "  </thead>\n",
       "  <tbody>\n",
       "    <tr>\n",
       "      <th>2012-10-11</th>\n",
       "      <td> 1.629087</td>\n",
       "      <td> 0.184613</td>\n",
       "      <td>-0.413143</td>\n",
       "    </tr>\n",
       "    <tr>\n",
       "      <th>2012-10-12</th>\n",
       "      <td> 0.382369</td>\n",
       "      <td>-0.656363</td>\n",
       "      <td>-1.590964</td>\n",
       "    </tr>\n",
       "    <tr>\n",
       "      <th>2012-10-13</th>\n",
       "      <td> 0.224242</td>\n",
       "      <td> 0.602250</td>\n",
       "      <td> 0.202450</td>\n",
       "    </tr>\n",
       "  </tbody>\n",
       "</table>\n",
       "<p>3 rows × 3 columns</p>\n",
       "</div>"
      ],
      "text/plain": [
       "                   A         B         C\n",
       "2012-10-11  1.629087  0.184613 -0.413143\n",
       "2012-10-12  0.382369 -0.656363 -1.590964\n",
       "2012-10-13  0.224242  0.602250  0.202450\n",
       "\n",
       "[3 rows x 3 columns]"
      ]
     },
     "execution_count": 72,
     "metadata": {},
     "output_type": "execute_result"
    }
   ],
   "source": [
    "df.iloc[0:3,0:3]"
   ]
  },
  {
   "cell_type": "code",
   "execution_count": 73,
   "metadata": {
    "collapsed": false
   },
   "outputs": [
    {
     "data": {
      "text/plain": [
       "1.6290870555679988"
      ]
     },
     "execution_count": 73,
     "metadata": {},
     "output_type": "execute_result"
    }
   ],
   "source": [
    "df.at[dates[0],'A']"
   ]
  },
  {
   "cell_type": "code",
   "execution_count": 74,
   "metadata": {
    "collapsed": false
   },
   "outputs": [
    {
     "data": {
      "text/html": [
       "<div style=\"max-height:1000px;max-width:1500px;overflow:auto;\">\n",
       "<table border=\"1\" class=\"dataframe\">\n",
       "  <thead>\n",
       "    <tr style=\"text-align: right;\">\n",
       "      <th></th>\n",
       "      <th>A</th>\n",
       "      <th>B</th>\n",
       "      <th>C</th>\n",
       "      <th>D</th>\n",
       "    </tr>\n",
       "  </thead>\n",
       "  <tbody>\n",
       "    <tr>\n",
       "      <th>2012-10-14</th>\n",
       "      <td>-2.263782</td>\n",
       "      <td> 0.685659</td>\n",
       "      <td>-1.743518</td>\n",
       "      <td>-0.203282</td>\n",
       "    </tr>\n",
       "    <tr>\n",
       "      <th>2012-10-15</th>\n",
       "      <td> 1.014091</td>\n",
       "      <td>-0.099907</td>\n",
       "      <td> 0.697485</td>\n",
       "      <td> 0.197782</td>\n",
       "    </tr>\n",
       "  </tbody>\n",
       "</table>\n",
       "<p>2 rows × 4 columns</p>\n",
       "</div>"
      ],
      "text/plain": [
       "                   A         B         C         D\n",
       "2012-10-14 -2.263782  0.685659 -1.743518 -0.203282\n",
       "2012-10-15  1.014091 -0.099907  0.697485  0.197782\n",
       "\n",
       "[2 rows x 4 columns]"
      ]
     },
     "execution_count": 74,
     "metadata": {},
     "output_type": "execute_result"
    }
   ],
   "source": [
    "df.iloc[3:5]"
   ]
  },
  {
   "cell_type": "code",
   "execution_count": 75,
   "metadata": {
    "collapsed": false
   },
   "outputs": [
    {
     "data": {
      "text/html": [
       "<div style=\"max-height:1000px;max-width:1500px;overflow:auto;\">\n",
       "<table border=\"1\" class=\"dataframe\">\n",
       "  <thead>\n",
       "    <tr style=\"text-align: right;\">\n",
       "      <th></th>\n",
       "      <th>A</th>\n",
       "      <th>B</th>\n",
       "      <th>C</th>\n",
       "      <th>D</th>\n",
       "    </tr>\n",
       "  </thead>\n",
       "  <tbody>\n",
       "    <tr>\n",
       "      <th>2012-10-11</th>\n",
       "      <td> 1.629087</td>\n",
       "      <td> 0.184613</td>\n",
       "      <td>-0.413143</td>\n",
       "      <td>-0.020178</td>\n",
       "    </tr>\n",
       "    <tr>\n",
       "      <th>2012-10-12</th>\n",
       "      <td> 0.382369</td>\n",
       "      <td>-0.656363</td>\n",
       "      <td>-1.590964</td>\n",
       "      <td> 0.252743</td>\n",
       "    </tr>\n",
       "    <tr>\n",
       "      <th>2012-10-13</th>\n",
       "      <td> 0.224242</td>\n",
       "      <td> 0.602250</td>\n",
       "      <td> 0.202450</td>\n",
       "      <td>-1.100560</td>\n",
       "    </tr>\n",
       "    <tr>\n",
       "      <th>2012-10-15</th>\n",
       "      <td> 1.014091</td>\n",
       "      <td>-0.099907</td>\n",
       "      <td> 0.697485</td>\n",
       "      <td> 0.197782</td>\n",
       "    </tr>\n",
       "    <tr>\n",
       "      <th>2012-10-16</th>\n",
       "      <td> 0.435172</td>\n",
       "      <td>-1.142791</td>\n",
       "      <td>-0.890486</td>\n",
       "      <td>-1.940987</td>\n",
       "    </tr>\n",
       "  </tbody>\n",
       "</table>\n",
       "<p>5 rows × 4 columns</p>\n",
       "</div>"
      ],
      "text/plain": [
       "                   A         B         C         D\n",
       "2012-10-11  1.629087  0.184613 -0.413143 -0.020178\n",
       "2012-10-12  0.382369 -0.656363 -1.590964  0.252743\n",
       "2012-10-13  0.224242  0.602250  0.202450 -1.100560\n",
       "2012-10-15  1.014091 -0.099907  0.697485  0.197782\n",
       "2012-10-16  0.435172 -1.142791 -0.890486 -1.940987\n",
       "\n",
       "[5 rows x 4 columns]"
      ]
     },
     "execution_count": 75,
     "metadata": {},
     "output_type": "execute_result"
    }
   ],
   "source": [
    "df[df.A > 0]"
   ]
  },
  {
   "cell_type": "code",
   "execution_count": 76,
   "metadata": {
    "collapsed": false
   },
   "outputs": [
    {
     "data": {
      "text/html": [
       "<div style=\"max-height:1000px;max-width:1500px;overflow:auto;\">\n",
       "<table border=\"1\" class=\"dataframe\">\n",
       "  <thead>\n",
       "    <tr style=\"text-align: right;\">\n",
       "      <th></th>\n",
       "      <th>A</th>\n",
       "      <th>B</th>\n",
       "      <th>C</th>\n",
       "      <th>D</th>\n",
       "    </tr>\n",
       "  </thead>\n",
       "  <tbody>\n",
       "    <tr>\n",
       "      <th>2012-10-11</th>\n",
       "      <td> 1.629087</td>\n",
       "      <td> 0.184613</td>\n",
       "      <td>      NaN</td>\n",
       "      <td>      NaN</td>\n",
       "    </tr>\n",
       "    <tr>\n",
       "      <th>2012-10-12</th>\n",
       "      <td> 0.382369</td>\n",
       "      <td>      NaN</td>\n",
       "      <td>      NaN</td>\n",
       "      <td> 0.252743</td>\n",
       "    </tr>\n",
       "    <tr>\n",
       "      <th>2012-10-13</th>\n",
       "      <td> 0.224242</td>\n",
       "      <td> 0.602250</td>\n",
       "      <td> 0.202450</td>\n",
       "      <td>      NaN</td>\n",
       "    </tr>\n",
       "    <tr>\n",
       "      <th>2012-10-14</th>\n",
       "      <td>      NaN</td>\n",
       "      <td> 0.685659</td>\n",
       "      <td>      NaN</td>\n",
       "      <td>      NaN</td>\n",
       "    </tr>\n",
       "    <tr>\n",
       "      <th>2012-10-15</th>\n",
       "      <td> 1.014091</td>\n",
       "      <td>      NaN</td>\n",
       "      <td> 0.697485</td>\n",
       "      <td> 0.197782</td>\n",
       "    </tr>\n",
       "    <tr>\n",
       "      <th>2012-10-16</th>\n",
       "      <td> 0.435172</td>\n",
       "      <td>      NaN</td>\n",
       "      <td>      NaN</td>\n",
       "      <td>      NaN</td>\n",
       "    </tr>\n",
       "  </tbody>\n",
       "</table>\n",
       "<p>6 rows × 4 columns</p>\n",
       "</div>"
      ],
      "text/plain": [
       "                   A         B         C         D\n",
       "2012-10-11  1.629087  0.184613       NaN       NaN\n",
       "2012-10-12  0.382369       NaN       NaN  0.252743\n",
       "2012-10-13  0.224242  0.602250  0.202450       NaN\n",
       "2012-10-14       NaN  0.685659       NaN       NaN\n",
       "2012-10-15  1.014091       NaN  0.697485  0.197782\n",
       "2012-10-16  0.435172       NaN       NaN       NaN\n",
       "\n",
       "[6 rows x 4 columns]"
      ]
     },
     "execution_count": 76,
     "metadata": {},
     "output_type": "execute_result"
    }
   ],
   "source": [
    "df[df>0]"
   ]
  },
  {
   "cell_type": "code",
   "execution_count": 77,
   "metadata": {
    "collapsed": false
   },
   "outputs": [],
   "source": [
    "df['E']= ['one','two','three','four','five','six']"
   ]
  },
  {
   "cell_type": "code",
   "execution_count": 78,
   "metadata": {
    "collapsed": false
   },
   "outputs": [
    {
     "data": {
      "text/html": [
       "<div style=\"max-height:1000px;max-width:1500px;overflow:auto;\">\n",
       "<table border=\"1\" class=\"dataframe\">\n",
       "  <thead>\n",
       "    <tr style=\"text-align: right;\">\n",
       "      <th></th>\n",
       "      <th>A</th>\n",
       "      <th>B</th>\n",
       "      <th>C</th>\n",
       "      <th>D</th>\n",
       "      <th>E</th>\n",
       "    </tr>\n",
       "  </thead>\n",
       "  <tbody>\n",
       "    <tr>\n",
       "      <th>2012-10-11</th>\n",
       "      <td> 1.629087</td>\n",
       "      <td> 0.184613</td>\n",
       "      <td>-0.413143</td>\n",
       "      <td>-0.020178</td>\n",
       "      <td> one</td>\n",
       "    </tr>\n",
       "    <tr>\n",
       "      <th>2012-10-12</th>\n",
       "      <td> 0.382369</td>\n",
       "      <td>-0.656363</td>\n",
       "      <td>-1.590964</td>\n",
       "      <td> 0.252743</td>\n",
       "      <td> two</td>\n",
       "    </tr>\n",
       "  </tbody>\n",
       "</table>\n",
       "<p>2 rows × 5 columns</p>\n",
       "</div>"
      ],
      "text/plain": [
       "                   A         B         C         D    E\n",
       "2012-10-11  1.629087  0.184613 -0.413143 -0.020178  one\n",
       "2012-10-12  0.382369 -0.656363 -1.590964  0.252743  two\n",
       "\n",
       "[2 rows x 5 columns]"
      ]
     },
     "execution_count": 78,
     "metadata": {},
     "output_type": "execute_result"
    }
   ],
   "source": [
    "df[df.E.isin(['one','two'])]"
   ]
  },
  {
   "cell_type": "code",
   "execution_count": 79,
   "metadata": {
    "collapsed": false
   },
   "outputs": [],
   "source": [
    "df.loc[:,'D'] = np.array([5] * len(df))"
   ]
  },
  {
   "cell_type": "code",
   "execution_count": 80,
   "metadata": {
    "collapsed": false
   },
   "outputs": [
    {
     "data": {
      "text/html": [
       "<div style=\"max-height:1000px;max-width:1500px;overflow:auto;\">\n",
       "<table border=\"1\" class=\"dataframe\">\n",
       "  <thead>\n",
       "    <tr style=\"text-align: right;\">\n",
       "      <th></th>\n",
       "      <th>A</th>\n",
       "      <th>B</th>\n",
       "      <th>C</th>\n",
       "      <th>D</th>\n",
       "      <th>E</th>\n",
       "    </tr>\n",
       "  </thead>\n",
       "  <tbody>\n",
       "    <tr>\n",
       "      <th>2012-10-11</th>\n",
       "      <td> 1.629087</td>\n",
       "      <td> 0.184613</td>\n",
       "      <td>-0.413143</td>\n",
       "      <td> 5</td>\n",
       "      <td>   one</td>\n",
       "    </tr>\n",
       "    <tr>\n",
       "      <th>2012-10-12</th>\n",
       "      <td> 0.382369</td>\n",
       "      <td>-0.656363</td>\n",
       "      <td>-1.590964</td>\n",
       "      <td> 5</td>\n",
       "      <td>   two</td>\n",
       "    </tr>\n",
       "    <tr>\n",
       "      <th>2012-10-13</th>\n",
       "      <td> 0.224242</td>\n",
       "      <td> 0.602250</td>\n",
       "      <td> 0.202450</td>\n",
       "      <td> 5</td>\n",
       "      <td> three</td>\n",
       "    </tr>\n",
       "    <tr>\n",
       "      <th>2012-10-14</th>\n",
       "      <td>-2.263782</td>\n",
       "      <td> 0.685659</td>\n",
       "      <td>-1.743518</td>\n",
       "      <td> 5</td>\n",
       "      <td>  four</td>\n",
       "    </tr>\n",
       "    <tr>\n",
       "      <th>2012-10-15</th>\n",
       "      <td> 1.014091</td>\n",
       "      <td>-0.099907</td>\n",
       "      <td> 0.697485</td>\n",
       "      <td> 5</td>\n",
       "      <td>  five</td>\n",
       "    </tr>\n",
       "    <tr>\n",
       "      <th>2012-10-16</th>\n",
       "      <td> 0.435172</td>\n",
       "      <td>-1.142791</td>\n",
       "      <td>-0.890486</td>\n",
       "      <td> 5</td>\n",
       "      <td>   six</td>\n",
       "    </tr>\n",
       "  </tbody>\n",
       "</table>\n",
       "<p>6 rows × 5 columns</p>\n",
       "</div>"
      ],
      "text/plain": [
       "                   A         B         C  D      E\n",
       "2012-10-11  1.629087  0.184613 -0.413143  5    one\n",
       "2012-10-12  0.382369 -0.656363 -1.590964  5    two\n",
       "2012-10-13  0.224242  0.602250  0.202450  5  three\n",
       "2012-10-14 -2.263782  0.685659 -1.743518  5   four\n",
       "2012-10-15  1.014091 -0.099907  0.697485  5   five\n",
       "2012-10-16  0.435172 -1.142791 -0.890486  5    six\n",
       "\n",
       "[6 rows x 5 columns]"
      ]
     },
     "execution_count": 80,
     "metadata": {},
     "output_type": "execute_result"
    }
   ],
   "source": [
    "df"
   ]
  },
  {
   "cell_type": "code",
   "execution_count": 81,
   "metadata": {
    "collapsed": false
   },
   "outputs": [
    {
     "data": {
      "text/html": [
       "<div style=\"max-height:1000px;max-width:1500px;overflow:auto;\">\n",
       "<table border=\"1\" class=\"dataframe\">\n",
       "  <thead>\n",
       "    <tr style=\"text-align: right;\">\n",
       "      <th></th>\n",
       "      <th>A</th>\n",
       "      <th>B</th>\n",
       "      <th>C</th>\n",
       "      <th>D</th>\n",
       "      <th>E</th>\n",
       "    </tr>\n",
       "  </thead>\n",
       "  <tbody>\n",
       "    <tr>\n",
       "      <th>2012-10-11</th>\n",
       "      <td> 1.629087</td>\n",
       "      <td> 0.184613</td>\n",
       "      <td>-0.413143</td>\n",
       "      <td> 5</td>\n",
       "      <td>   one</td>\n",
       "    </tr>\n",
       "    <tr>\n",
       "      <th>2012-10-12</th>\n",
       "      <td> 0.382369</td>\n",
       "      <td>-0.656363</td>\n",
       "      <td>-1.590964</td>\n",
       "      <td> 5</td>\n",
       "      <td>   two</td>\n",
       "    </tr>\n",
       "    <tr>\n",
       "      <th>2012-10-13</th>\n",
       "      <td> 0.224242</td>\n",
       "      <td> 0.602250</td>\n",
       "      <td> 0.202450</td>\n",
       "      <td> 5</td>\n",
       "      <td> three</td>\n",
       "    </tr>\n",
       "    <tr>\n",
       "      <th>2012-10-14</th>\n",
       "      <td>-2.263782</td>\n",
       "      <td> 0.685659</td>\n",
       "      <td>-1.743518</td>\n",
       "      <td> 5</td>\n",
       "      <td>  four</td>\n",
       "    </tr>\n",
       "    <tr>\n",
       "      <th>2012-10-15</th>\n",
       "      <td> 1.014091</td>\n",
       "      <td>-0.099907</td>\n",
       "      <td> 0.697485</td>\n",
       "      <td> 5</td>\n",
       "      <td>  five</td>\n",
       "    </tr>\n",
       "    <tr>\n",
       "      <th>2012-10-16</th>\n",
       "      <td> 0.435172</td>\n",
       "      <td>-1.142791</td>\n",
       "      <td>-0.890486</td>\n",
       "      <td> 5</td>\n",
       "      <td>   six</td>\n",
       "    </tr>\n",
       "  </tbody>\n",
       "</table>\n",
       "<p>6 rows × 5 columns</p>\n",
       "</div>"
      ],
      "text/plain": [
       "                   A         B         C  D      E\n",
       "2012-10-11  1.629087  0.184613 -0.413143  5    one\n",
       "2012-10-12  0.382369 -0.656363 -1.590964  5    two\n",
       "2012-10-13  0.224242  0.602250  0.202450  5  three\n",
       "2012-10-14 -2.263782  0.685659 -1.743518  5   four\n",
       "2012-10-15  1.014091 -0.099907  0.697485  5   five\n",
       "2012-10-16  0.435172 -1.142791 -0.890486  5    six\n",
       "\n",
       "[6 rows x 5 columns]"
      ]
     },
     "execution_count": 81,
     "metadata": {},
     "output_type": "execute_result"
    }
   ],
   "source": [
    "df"
   ]
  },
  {
   "cell_type": "code",
   "execution_count": 82,
   "metadata": {
    "collapsed": true
   },
   "outputs": [],
   "source": [
    "df1 = df.copy"
   ]
  },
  {
   "cell_type": "code",
   "execution_count": 83,
   "metadata": {
    "collapsed": false
   },
   "outputs": [],
   "source": [
    "df1 = df.reindex(index= dates[0:4], columns= list(df.columns) + ['F'])"
   ]
  },
  {
   "cell_type": "code",
   "execution_count": 84,
   "metadata": {
    "collapsed": false
   },
   "outputs": [
    {
     "data": {
      "text/html": [
       "<div style=\"max-height:1000px;max-width:1500px;overflow:auto;\">\n",
       "<table border=\"1\" class=\"dataframe\">\n",
       "  <thead>\n",
       "    <tr style=\"text-align: right;\">\n",
       "      <th></th>\n",
       "      <th>A</th>\n",
       "      <th>B</th>\n",
       "      <th>C</th>\n",
       "      <th>D</th>\n",
       "      <th>E</th>\n",
       "      <th>F</th>\n",
       "    </tr>\n",
       "  </thead>\n",
       "  <tbody>\n",
       "    <tr>\n",
       "      <th>2012-10-11</th>\n",
       "      <td> 1.629087</td>\n",
       "      <td> 0.184613</td>\n",
       "      <td>-0.413143</td>\n",
       "      <td> 5</td>\n",
       "      <td>   one</td>\n",
       "      <td>NaN</td>\n",
       "    </tr>\n",
       "    <tr>\n",
       "      <th>2012-10-12</th>\n",
       "      <td> 0.382369</td>\n",
       "      <td>-0.656363</td>\n",
       "      <td>-1.590964</td>\n",
       "      <td> 5</td>\n",
       "      <td>   two</td>\n",
       "      <td>NaN</td>\n",
       "    </tr>\n",
       "    <tr>\n",
       "      <th>2012-10-13</th>\n",
       "      <td> 0.224242</td>\n",
       "      <td> 0.602250</td>\n",
       "      <td> 0.202450</td>\n",
       "      <td> 5</td>\n",
       "      <td> three</td>\n",
       "      <td>NaN</td>\n",
       "    </tr>\n",
       "    <tr>\n",
       "      <th>2012-10-14</th>\n",
       "      <td>-2.263782</td>\n",
       "      <td> 0.685659</td>\n",
       "      <td>-1.743518</td>\n",
       "      <td> 5</td>\n",
       "      <td>  four</td>\n",
       "      <td>NaN</td>\n",
       "    </tr>\n",
       "  </tbody>\n",
       "</table>\n",
       "<p>4 rows × 6 columns</p>\n",
       "</div>"
      ],
      "text/plain": [
       "                   A         B         C  D      E   F\n",
       "2012-10-11  1.629087  0.184613 -0.413143  5    one NaN\n",
       "2012-10-12  0.382369 -0.656363 -1.590964  5    two NaN\n",
       "2012-10-13  0.224242  0.602250  0.202450  5  three NaN\n",
       "2012-10-14 -2.263782  0.685659 -1.743518  5   four NaN\n",
       "\n",
       "[4 rows x 6 columns]"
      ]
     },
     "execution_count": 84,
     "metadata": {},
     "output_type": "execute_result"
    }
   ],
   "source": [
    "df1"
   ]
  },
  {
   "cell_type": "code",
   "execution_count": 85,
   "metadata": {
    "collapsed": true
   },
   "outputs": [],
   "source": [
    "df1.loc[dates[0]:dates[2],'F'] = 11"
   ]
  },
  {
   "cell_type": "code",
   "execution_count": 86,
   "metadata": {
    "collapsed": false
   },
   "outputs": [
    {
     "data": {
      "text/html": [
       "<div style=\"max-height:1000px;max-width:1500px;overflow:auto;\">\n",
       "<table border=\"1\" class=\"dataframe\">\n",
       "  <thead>\n",
       "    <tr style=\"text-align: right;\">\n",
       "      <th></th>\n",
       "      <th>A</th>\n",
       "      <th>B</th>\n",
       "      <th>C</th>\n",
       "      <th>D</th>\n",
       "      <th>E</th>\n",
       "      <th>F</th>\n",
       "    </tr>\n",
       "  </thead>\n",
       "  <tbody>\n",
       "    <tr>\n",
       "      <th>2012-10-11</th>\n",
       "      <td> 1.629087</td>\n",
       "      <td> 0.184613</td>\n",
       "      <td>-0.413143</td>\n",
       "      <td> 5</td>\n",
       "      <td>   one</td>\n",
       "      <td> 11</td>\n",
       "    </tr>\n",
       "    <tr>\n",
       "      <th>2012-10-12</th>\n",
       "      <td> 0.382369</td>\n",
       "      <td>-0.656363</td>\n",
       "      <td>-1.590964</td>\n",
       "      <td> 5</td>\n",
       "      <td>   two</td>\n",
       "      <td> 11</td>\n",
       "    </tr>\n",
       "    <tr>\n",
       "      <th>2012-10-13</th>\n",
       "      <td> 0.224242</td>\n",
       "      <td> 0.602250</td>\n",
       "      <td> 0.202450</td>\n",
       "      <td> 5</td>\n",
       "      <td> three</td>\n",
       "      <td> 11</td>\n",
       "    </tr>\n",
       "    <tr>\n",
       "      <th>2012-10-14</th>\n",
       "      <td>-2.263782</td>\n",
       "      <td> 0.685659</td>\n",
       "      <td>-1.743518</td>\n",
       "      <td> 5</td>\n",
       "      <td>  four</td>\n",
       "      <td>NaN</td>\n",
       "    </tr>\n",
       "  </tbody>\n",
       "</table>\n",
       "<p>4 rows × 6 columns</p>\n",
       "</div>"
      ],
      "text/plain": [
       "                   A         B         C  D      E   F\n",
       "2012-10-11  1.629087  0.184613 -0.413143  5    one  11\n",
       "2012-10-12  0.382369 -0.656363 -1.590964  5    two  11\n",
       "2012-10-13  0.224242  0.602250  0.202450  5  three  11\n",
       "2012-10-14 -2.263782  0.685659 -1.743518  5   four NaN\n",
       "\n",
       "[4 rows x 6 columns]"
      ]
     },
     "execution_count": 86,
     "metadata": {},
     "output_type": "execute_result"
    }
   ],
   "source": [
    "df1"
   ]
  },
  {
   "cell_type": "code",
   "execution_count": 87,
   "metadata": {
    "collapsed": false
   },
   "outputs": [],
   "source": [
    "test = df1[:]"
   ]
  },
  {
   "cell_type": "markdown",
   "metadata": {},
   "source": [
    "### dropna(axis, how, inplace, subset, threshold)"
   ]
  },
  {
   "cell_type": "code",
   "execution_count": 88,
   "metadata": {
    "collapsed": false
   },
   "outputs": [],
   "source": [
    "test.dropna(axis=0, how='all',inplace=True,subset=['B','F'])"
   ]
  },
  {
   "cell_type": "code",
   "execution_count": 89,
   "metadata": {
    "collapsed": false
   },
   "outputs": [
    {
     "data": {
      "text/html": [
       "<div style=\"max-height:1000px;max-width:1500px;overflow:auto;\">\n",
       "<table border=\"1\" class=\"dataframe\">\n",
       "  <thead>\n",
       "    <tr style=\"text-align: right;\">\n",
       "      <th></th>\n",
       "      <th>A</th>\n",
       "      <th>B</th>\n",
       "      <th>C</th>\n",
       "      <th>D</th>\n",
       "      <th>E</th>\n",
       "      <th>F</th>\n",
       "    </tr>\n",
       "  </thead>\n",
       "  <tbody>\n",
       "    <tr>\n",
       "      <th>2012-10-11</th>\n",
       "      <td> 1.629087</td>\n",
       "      <td> 0.184613</td>\n",
       "      <td>-0.413143</td>\n",
       "      <td> 5</td>\n",
       "      <td>   one</td>\n",
       "      <td> 11</td>\n",
       "    </tr>\n",
       "    <tr>\n",
       "      <th>2012-10-12</th>\n",
       "      <td> 0.382369</td>\n",
       "      <td>-0.656363</td>\n",
       "      <td>-1.590964</td>\n",
       "      <td> 5</td>\n",
       "      <td>   two</td>\n",
       "      <td> 11</td>\n",
       "    </tr>\n",
       "    <tr>\n",
       "      <th>2012-10-13</th>\n",
       "      <td> 0.224242</td>\n",
       "      <td> 0.602250</td>\n",
       "      <td> 0.202450</td>\n",
       "      <td> 5</td>\n",
       "      <td> three</td>\n",
       "      <td> 11</td>\n",
       "    </tr>\n",
       "    <tr>\n",
       "      <th>2012-10-14</th>\n",
       "      <td>-2.263782</td>\n",
       "      <td> 0.685659</td>\n",
       "      <td>-1.743518</td>\n",
       "      <td> 5</td>\n",
       "      <td>  four</td>\n",
       "      <td>NaN</td>\n",
       "    </tr>\n",
       "  </tbody>\n",
       "</table>\n",
       "<p>4 rows × 6 columns</p>\n",
       "</div>"
      ],
      "text/plain": [
       "                   A         B         C  D      E   F\n",
       "2012-10-11  1.629087  0.184613 -0.413143  5    one  11\n",
       "2012-10-12  0.382369 -0.656363 -1.590964  5    two  11\n",
       "2012-10-13  0.224242  0.602250  0.202450  5  three  11\n",
       "2012-10-14 -2.263782  0.685659 -1.743518  5   four NaN\n",
       "\n",
       "[4 rows x 6 columns]"
      ]
     },
     "execution_count": 89,
     "metadata": {},
     "output_type": "execute_result"
    }
   ],
   "source": [
    "test"
   ]
  },
  {
   "cell_type": "code",
   "execution_count": 90,
   "metadata": {
    "collapsed": false
   },
   "outputs": [
    {
     "data": {
      "text/plain": [
       "2012-10-11    1.600139\n",
       "2012-10-12    0.783760\n",
       "2012-10-13    1.507236\n",
       "2012-10-14    0.419590\n",
       "2012-10-15    1.652917\n",
       "2012-10-16    0.850474\n",
       "Freq: D, dtype: float64"
      ]
     },
     "execution_count": 90,
     "metadata": {},
     "output_type": "execute_result"
    }
   ],
   "source": [
    "df.mean(1)"
   ]
  },
  {
   "cell_type": "code",
   "execution_count": 91,
   "metadata": {
    "collapsed": true
   },
   "outputs": [],
   "source": [
    "df = pd.DataFrame(np.random.randn(10,5))"
   ]
  },
  {
   "cell_type": "code",
   "execution_count": 92,
   "metadata": {
    "collapsed": false
   },
   "outputs": [],
   "source": [
    "pieces = [df[:3],df[5:8]]"
   ]
  },
  {
   "cell_type": "code",
   "execution_count": 93,
   "metadata": {
    "collapsed": false
   },
   "outputs": [
    {
     "data": {
      "text/html": [
       "<div style=\"max-height:1000px;max-width:1500px;overflow:auto;\">\n",
       "<table border=\"1\" class=\"dataframe\">\n",
       "  <thead>\n",
       "    <tr style=\"text-align: right;\">\n",
       "      <th></th>\n",
       "      <th>0</th>\n",
       "      <th>1</th>\n",
       "      <th>2</th>\n",
       "      <th>3</th>\n",
       "      <th>4</th>\n",
       "    </tr>\n",
       "  </thead>\n",
       "  <tbody>\n",
       "    <tr>\n",
       "      <th>0</th>\n",
       "      <td>-0.309611</td>\n",
       "      <td>-0.576440</td>\n",
       "      <td> 0.059261</td>\n",
       "      <td> 0.257339</td>\n",
       "      <td> 1.906764</td>\n",
       "    </tr>\n",
       "    <tr>\n",
       "      <th>1</th>\n",
       "      <td> 1.217016</td>\n",
       "      <td> 0.259339</td>\n",
       "      <td>-1.420509</td>\n",
       "      <td> 0.307885</td>\n",
       "      <td>-1.309865</td>\n",
       "    </tr>\n",
       "    <tr>\n",
       "      <th>2</th>\n",
       "      <td> 0.493065</td>\n",
       "      <td>-1.491218</td>\n",
       "      <td>-1.116332</td>\n",
       "      <td>-1.101412</td>\n",
       "      <td> 0.901365</td>\n",
       "    </tr>\n",
       "    <tr>\n",
       "      <th>5</th>\n",
       "      <td> 0.643053</td>\n",
       "      <td> 1.050598</td>\n",
       "      <td>-0.149735</td>\n",
       "      <td> 0.470044</td>\n",
       "      <td> 0.465056</td>\n",
       "    </tr>\n",
       "    <tr>\n",
       "      <th>6</th>\n",
       "      <td>-1.092290</td>\n",
       "      <td> 1.411690</td>\n",
       "      <td> 0.663958</td>\n",
       "      <td> 0.300809</td>\n",
       "      <td>-1.165811</td>\n",
       "    </tr>\n",
       "    <tr>\n",
       "      <th>7</th>\n",
       "      <td> 1.806841</td>\n",
       "      <td> 0.704050</td>\n",
       "      <td> 1.746535</td>\n",
       "      <td>-0.234482</td>\n",
       "      <td> 0.699518</td>\n",
       "    </tr>\n",
       "  </tbody>\n",
       "</table>\n",
       "<p>6 rows × 5 columns</p>\n",
       "</div>"
      ],
      "text/plain": [
       "          0         1         2         3         4\n",
       "0 -0.309611 -0.576440  0.059261  0.257339  1.906764\n",
       "1  1.217016  0.259339 -1.420509  0.307885 -1.309865\n",
       "2  0.493065 -1.491218 -1.116332 -1.101412  0.901365\n",
       "5  0.643053  1.050598 -0.149735  0.470044  0.465056\n",
       "6 -1.092290  1.411690  0.663958  0.300809 -1.165811\n",
       "7  1.806841  0.704050  1.746535 -0.234482  0.699518\n",
       "\n",
       "[6 rows x 5 columns]"
      ]
     },
     "execution_count": 93,
     "metadata": {},
     "output_type": "execute_result"
    }
   ],
   "source": [
    "pd.concat(pieces)"
   ]
  },
  {
   "cell_type": "code",
   "execution_count": 94,
   "metadata": {
    "collapsed": false
   },
   "outputs": [],
   "source": [
    "df1 = pd.DataFrame({'A': [1,2,3,4,5], 'B': [2,3,4,5,6]},index=[0,1,2,3,4])"
   ]
  },
  {
   "cell_type": "code",
   "execution_count": 95,
   "metadata": {
    "collapsed": true
   },
   "outputs": [],
   "source": [
    "df2 = pd.DataFrame({'A': [1,2,3,4,5], 'B': [10,11,12,14,15]},index= [10,11,12,13,15])"
   ]
  },
  {
   "cell_type": "code",
   "execution_count": 96,
   "metadata": {
    "collapsed": false
   },
   "outputs": [
    {
     "data": {
      "text/html": [
       "<div style=\"max-height:1000px;max-width:1500px;overflow:auto;\">\n",
       "<table border=\"1\" class=\"dataframe\">\n",
       "  <thead>\n",
       "    <tr style=\"text-align: right;\">\n",
       "      <th></th>\n",
       "      <th></th>\n",
       "      <th>A</th>\n",
       "      <th>B</th>\n",
       "    </tr>\n",
       "  </thead>\n",
       "  <tbody>\n",
       "    <tr>\n",
       "      <th rowspan=\"5\" valign=\"top\">x</th>\n",
       "      <th>0 </th>\n",
       "      <td> 1</td>\n",
       "      <td>  2</td>\n",
       "    </tr>\n",
       "    <tr>\n",
       "      <th>1 </th>\n",
       "      <td> 2</td>\n",
       "      <td>  3</td>\n",
       "    </tr>\n",
       "    <tr>\n",
       "      <th>2 </th>\n",
       "      <td> 3</td>\n",
       "      <td>  4</td>\n",
       "    </tr>\n",
       "    <tr>\n",
       "      <th>3 </th>\n",
       "      <td> 4</td>\n",
       "      <td>  5</td>\n",
       "    </tr>\n",
       "    <tr>\n",
       "      <th>4 </th>\n",
       "      <td> 5</td>\n",
       "      <td>  6</td>\n",
       "    </tr>\n",
       "    <tr>\n",
       "      <th rowspan=\"5\" valign=\"top\">y</th>\n",
       "      <th>10</th>\n",
       "      <td> 1</td>\n",
       "      <td> 10</td>\n",
       "    </tr>\n",
       "    <tr>\n",
       "      <th>11</th>\n",
       "      <td> 2</td>\n",
       "      <td> 11</td>\n",
       "    </tr>\n",
       "    <tr>\n",
       "      <th>12</th>\n",
       "      <td> 3</td>\n",
       "      <td> 12</td>\n",
       "    </tr>\n",
       "    <tr>\n",
       "      <th>13</th>\n",
       "      <td> 4</td>\n",
       "      <td> 14</td>\n",
       "    </tr>\n",
       "    <tr>\n",
       "      <th>15</th>\n",
       "      <td> 5</td>\n",
       "      <td> 15</td>\n",
       "    </tr>\n",
       "  </tbody>\n",
       "</table>\n",
       "<p>10 rows × 2 columns</p>\n",
       "</div>"
      ],
      "text/plain": [
       "      A   B\n",
       "x 0   1   2\n",
       "  1   2   3\n",
       "  2   3   4\n",
       "  3   4   5\n",
       "  4   5   6\n",
       "y 10  1  10\n",
       "  11  2  11\n",
       "  12  3  12\n",
       "  13  4  14\n",
       "  15  5  15\n",
       "\n",
       "[10 rows x 2 columns]"
      ]
     },
     "execution_count": 96,
     "metadata": {},
     "output_type": "execute_result"
    }
   ],
   "source": [
    "pd.concat([df1,df2],keys=['x','y','z'])"
   ]
  },
  {
   "cell_type": "code",
   "execution_count": 129,
   "metadata": {
    "collapsed": false
   },
   "outputs": [],
   "source": [
    "df1 = pd.DataFrame({'A': ['A0','A1','A2','A3'], 'B':['B0','B1','B2','B3'], \n",
    "                    'C': ['C0','C1','C2','C3'], 'D':['D0','D1','D2','D3']}, index=[0,1,2,3])\n",
    "df2 = pd.DataFrame({'A': ['A0','A5','A6','A7'], 'B':['B0','B5','B6','B7'], \n",
    "                    'C': ['C0','C5','C6','C7'], 'D':['D0','D5','D6','D7']}, index=[0,5,6,7])\n",
    "df3 = pd.DataFrame({'A': ['A0','A9','A10','A11'], 'B':['B0','B9','B10','B11'], \n",
    "                    'C': ['C0','C9','C10','C11'], 'D':['D0','D9','D10','D11']}, index=[0,9,10,11])"
   ]
  },
  {
   "cell_type": "code",
   "execution_count": 136,
   "metadata": {
    "collapsed": false
   },
   "outputs": [],
   "source": [
    "test = pd.concat([df1,df2], keys = ['x','y']).ix['x']"
   ]
  },
  {
   "cell_type": "raw",
   "metadata": {},
   "source": []
  },
  {
   "cell_type": "code",
   "execution_count": 138,
   "metadata": {
    "collapsed": false
   },
   "outputs": [],
   "source": [
    "df4 = pd.DataFrame({'B':['B4','B5','B6','B7'],'D':['D2','D3','D4','D5'],\n",
    "                   'F':['F4','F5','F6','F7']}, index = [2,4,6,7])"
   ]
  },
  {
   "cell_type": "code",
   "execution_count": 151,
   "metadata": {
    "collapsed": false
   },
   "outputs": [
    {
     "data": {
      "text/html": [
       "<div style=\"max-height:1000px;max-width:1500px;overflow:auto;\">\n",
       "<table border=\"1\" class=\"dataframe\">\n",
       "  <thead>\n",
       "    <tr style=\"text-align: right;\">\n",
       "      <th></th>\n",
       "      <th>A</th>\n",
       "      <th>B</th>\n",
       "      <th>C</th>\n",
       "      <th>D</th>\n",
       "      <th>F</th>\n",
       "    </tr>\n",
       "  </thead>\n",
       "  <tbody>\n",
       "    <tr>\n",
       "      <th>0</th>\n",
       "      <td>  A0</td>\n",
       "      <td> B0</td>\n",
       "      <td>  C0</td>\n",
       "      <td> D0</td>\n",
       "      <td> NaN</td>\n",
       "    </tr>\n",
       "    <tr>\n",
       "      <th>1</th>\n",
       "      <td>  A1</td>\n",
       "      <td> B1</td>\n",
       "      <td>  C1</td>\n",
       "      <td> D1</td>\n",
       "      <td> NaN</td>\n",
       "    </tr>\n",
       "    <tr>\n",
       "      <th>2</th>\n",
       "      <td>  A2</td>\n",
       "      <td> B2</td>\n",
       "      <td>  C2</td>\n",
       "      <td> D2</td>\n",
       "      <td> NaN</td>\n",
       "    </tr>\n",
       "    <tr>\n",
       "      <th>3</th>\n",
       "      <td>  A3</td>\n",
       "      <td> B3</td>\n",
       "      <td>  C3</td>\n",
       "      <td> D3</td>\n",
       "      <td> NaN</td>\n",
       "    </tr>\n",
       "    <tr>\n",
       "      <th>2</th>\n",
       "      <td> NaN</td>\n",
       "      <td> B4</td>\n",
       "      <td> NaN</td>\n",
       "      <td> D2</td>\n",
       "      <td>  F4</td>\n",
       "    </tr>\n",
       "    <tr>\n",
       "      <th>4</th>\n",
       "      <td> NaN</td>\n",
       "      <td> B5</td>\n",
       "      <td> NaN</td>\n",
       "      <td> D3</td>\n",
       "      <td>  F5</td>\n",
       "    </tr>\n",
       "    <tr>\n",
       "      <th>6</th>\n",
       "      <td> NaN</td>\n",
       "      <td> B6</td>\n",
       "      <td> NaN</td>\n",
       "      <td> D4</td>\n",
       "      <td>  F6</td>\n",
       "    </tr>\n",
       "    <tr>\n",
       "      <th>7</th>\n",
       "      <td> NaN</td>\n",
       "      <td> B7</td>\n",
       "      <td> NaN</td>\n",
       "      <td> D5</td>\n",
       "      <td>  F7</td>\n",
       "    </tr>\n",
       "  </tbody>\n",
       "</table>\n",
       "<p>8 rows × 5 columns</p>\n",
       "</div>"
      ],
      "text/plain": [
       "     A   B    C   D    F\n",
       "0   A0  B0   C0  D0  NaN\n",
       "1   A1  B1   C1  D1  NaN\n",
       "2   A2  B2   C2  D2  NaN\n",
       "3   A3  B3   C3  D3  NaN\n",
       "2  NaN  B4  NaN  D2   F4\n",
       "4  NaN  B5  NaN  D3   F5\n",
       "6  NaN  B6  NaN  D4   F6\n",
       "7  NaN  B7  NaN  D5   F7\n",
       "\n",
       "[8 rows x 5 columns]"
      ]
     },
     "execution_count": 151,
     "metadata": {},
     "output_type": "execute_result"
    }
   ],
   "source": [
    "pd.concat([df1,df4],axis=0,join='outer')"
   ]
  },
  {
   "cell_type": "code",
   "execution_count": 141,
   "metadata": {
    "collapsed": false
   },
   "outputs": [
    {
     "data": {
      "text/html": [
       "<div style=\"max-height:1000px;max-width:1500px;overflow:auto;\">\n",
       "<table border=\"1\" class=\"dataframe\">\n",
       "  <thead>\n",
       "    <tr style=\"text-align: right;\">\n",
       "      <th></th>\n",
       "      <th>A</th>\n",
       "      <th>B</th>\n",
       "      <th>C</th>\n",
       "      <th>D</th>\n",
       "      <th>F</th>\n",
       "    </tr>\n",
       "  </thead>\n",
       "  <tbody>\n",
       "    <tr>\n",
       "      <th>0</th>\n",
       "      <td>  A0</td>\n",
       "      <td> B0</td>\n",
       "      <td>  C0</td>\n",
       "      <td> D0</td>\n",
       "      <td> NaN</td>\n",
       "    </tr>\n",
       "    <tr>\n",
       "      <th>1</th>\n",
       "      <td>  A1</td>\n",
       "      <td> B1</td>\n",
       "      <td>  C1</td>\n",
       "      <td> D1</td>\n",
       "      <td> NaN</td>\n",
       "    </tr>\n",
       "    <tr>\n",
       "      <th>2</th>\n",
       "      <td>  A2</td>\n",
       "      <td> B2</td>\n",
       "      <td>  C2</td>\n",
       "      <td> D2</td>\n",
       "      <td> NaN</td>\n",
       "    </tr>\n",
       "    <tr>\n",
       "      <th>3</th>\n",
       "      <td>  A3</td>\n",
       "      <td> B3</td>\n",
       "      <td>  C3</td>\n",
       "      <td> D3</td>\n",
       "      <td> NaN</td>\n",
       "    </tr>\n",
       "    <tr>\n",
       "      <th>2</th>\n",
       "      <td> NaN</td>\n",
       "      <td> B4</td>\n",
       "      <td> NaN</td>\n",
       "      <td> D2</td>\n",
       "      <td>  F4</td>\n",
       "    </tr>\n",
       "    <tr>\n",
       "      <th>4</th>\n",
       "      <td> NaN</td>\n",
       "      <td> B5</td>\n",
       "      <td> NaN</td>\n",
       "      <td> D3</td>\n",
       "      <td>  F5</td>\n",
       "    </tr>\n",
       "    <tr>\n",
       "      <th>6</th>\n",
       "      <td> NaN</td>\n",
       "      <td> B6</td>\n",
       "      <td> NaN</td>\n",
       "      <td> D4</td>\n",
       "      <td>  F6</td>\n",
       "    </tr>\n",
       "    <tr>\n",
       "      <th>7</th>\n",
       "      <td> NaN</td>\n",
       "      <td> B7</td>\n",
       "      <td> NaN</td>\n",
       "      <td> D5</td>\n",
       "      <td>  F7</td>\n",
       "    </tr>\n",
       "  </tbody>\n",
       "</table>\n",
       "<p>8 rows × 5 columns</p>\n",
       "</div>"
      ],
      "text/plain": [
       "     A   B    C   D    F\n",
       "0   A0  B0   C0  D0  NaN\n",
       "1   A1  B1   C1  D1  NaN\n",
       "2   A2  B2   C2  D2  NaN\n",
       "3   A3  B3   C3  D3  NaN\n",
       "2  NaN  B4  NaN  D2   F4\n",
       "4  NaN  B5  NaN  D3   F5\n",
       "6  NaN  B6  NaN  D4   F6\n",
       "7  NaN  B7  NaN  D5   F7\n",
       "\n",
       "[8 rows x 5 columns]"
      ]
     },
     "execution_count": 141,
     "metadata": {},
     "output_type": "execute_result"
    }
   ],
   "source": [
    "pd.concat([df1,df4],axis=0)"
   ]
  },
  {
   "cell_type": "code",
   "execution_count": 145,
   "metadata": {
    "collapsed": false
   },
   "outputs": [
    {
     "data": {
      "text/html": [
       "<div style=\"max-height:1000px;max-width:1500px;overflow:auto;\">\n",
       "<table border=\"1\" class=\"dataframe\">\n",
       "  <thead>\n",
       "    <tr style=\"text-align: right;\">\n",
       "      <th></th>\n",
       "      <th>A</th>\n",
       "      <th>B</th>\n",
       "      <th>C</th>\n",
       "      <th>D</th>\n",
       "    </tr>\n",
       "  </thead>\n",
       "  <tbody>\n",
       "    <tr>\n",
       "      <th>0</th>\n",
       "      <td> A0</td>\n",
       "      <td> B0</td>\n",
       "      <td> C0</td>\n",
       "      <td> D0</td>\n",
       "    </tr>\n",
       "    <tr>\n",
       "      <th>1</th>\n",
       "      <td> A1</td>\n",
       "      <td> B1</td>\n",
       "      <td> C1</td>\n",
       "      <td> D1</td>\n",
       "    </tr>\n",
       "    <tr>\n",
       "      <th>2</th>\n",
       "      <td> A2</td>\n",
       "      <td> B2</td>\n",
       "      <td> C2</td>\n",
       "      <td> D2</td>\n",
       "    </tr>\n",
       "    <tr>\n",
       "      <th>3</th>\n",
       "      <td> A3</td>\n",
       "      <td> B3</td>\n",
       "      <td> C3</td>\n",
       "      <td> D3</td>\n",
       "    </tr>\n",
       "    <tr>\n",
       "      <th>0</th>\n",
       "      <td> A0</td>\n",
       "      <td> B0</td>\n",
       "      <td> C0</td>\n",
       "      <td> D0</td>\n",
       "    </tr>\n",
       "    <tr>\n",
       "      <th>5</th>\n",
       "      <td> A5</td>\n",
       "      <td> B5</td>\n",
       "      <td> C5</td>\n",
       "      <td> D5</td>\n",
       "    </tr>\n",
       "    <tr>\n",
       "      <th>6</th>\n",
       "      <td> A6</td>\n",
       "      <td> B6</td>\n",
       "      <td> C6</td>\n",
       "      <td> D6</td>\n",
       "    </tr>\n",
       "    <tr>\n",
       "      <th>7</th>\n",
       "      <td> A7</td>\n",
       "      <td> B7</td>\n",
       "      <td> C7</td>\n",
       "      <td> D7</td>\n",
       "    </tr>\n",
       "  </tbody>\n",
       "</table>\n",
       "<p>8 rows × 4 columns</p>\n",
       "</div>"
      ],
      "text/plain": [
       "    A   B   C   D\n",
       "0  A0  B0  C0  D0\n",
       "1  A1  B1  C1  D1\n",
       "2  A2  B2  C2  D2\n",
       "3  A3  B3  C3  D3\n",
       "0  A0  B0  C0  D0\n",
       "5  A5  B5  C5  D5\n",
       "6  A6  B6  C6  D6\n",
       "7  A7  B7  C7  D7\n",
       "\n",
       "[8 rows x 4 columns]"
      ]
     },
     "execution_count": 145,
     "metadata": {},
     "output_type": "execute_result"
    }
   ],
   "source": [
    "pd.concat([df1,df2],join= 'outer')"
   ]
  },
  {
   "cell_type": "code",
   "execution_count": 148,
   "metadata": {
    "collapsed": false
   },
   "outputs": [
    {
     "data": {
      "text/html": [
       "<div style=\"max-height:1000px;max-width:1500px;overflow:auto;\">\n",
       "<table border=\"1\" class=\"dataframe\">\n",
       "  <thead>\n",
       "    <tr style=\"text-align: right;\">\n",
       "      <th></th>\n",
       "      <th>A</th>\n",
       "      <th>B</th>\n",
       "      <th>C</th>\n",
       "      <th>D</th>\n",
       "    </tr>\n",
       "  </thead>\n",
       "  <tbody>\n",
       "    <tr>\n",
       "      <th>0</th>\n",
       "      <td> A0</td>\n",
       "      <td> B0</td>\n",
       "      <td> C0</td>\n",
       "      <td> D0</td>\n",
       "    </tr>\n",
       "    <tr>\n",
       "      <th>1</th>\n",
       "      <td> A1</td>\n",
       "      <td> B1</td>\n",
       "      <td> C1</td>\n",
       "      <td> D1</td>\n",
       "    </tr>\n",
       "    <tr>\n",
       "      <th>2</th>\n",
       "      <td> A2</td>\n",
       "      <td> B2</td>\n",
       "      <td> C2</td>\n",
       "      <td> D2</td>\n",
       "    </tr>\n",
       "    <tr>\n",
       "      <th>3</th>\n",
       "      <td> A3</td>\n",
       "      <td> B3</td>\n",
       "      <td> C3</td>\n",
       "      <td> D3</td>\n",
       "    </tr>\n",
       "    <tr>\n",
       "      <th>0</th>\n",
       "      <td> A0</td>\n",
       "      <td> B0</td>\n",
       "      <td> C0</td>\n",
       "      <td> D0</td>\n",
       "    </tr>\n",
       "    <tr>\n",
       "      <th>5</th>\n",
       "      <td> A5</td>\n",
       "      <td> B5</td>\n",
       "      <td> C5</td>\n",
       "      <td> D5</td>\n",
       "    </tr>\n",
       "    <tr>\n",
       "      <th>6</th>\n",
       "      <td> A6</td>\n",
       "      <td> B6</td>\n",
       "      <td> C6</td>\n",
       "      <td> D6</td>\n",
       "    </tr>\n",
       "    <tr>\n",
       "      <th>7</th>\n",
       "      <td> A7</td>\n",
       "      <td> B7</td>\n",
       "      <td> C7</td>\n",
       "      <td> D7</td>\n",
       "    </tr>\n",
       "  </tbody>\n",
       "</table>\n",
       "<p>8 rows × 4 columns</p>\n",
       "</div>"
      ],
      "text/plain": [
       "    A   B   C   D\n",
       "0  A0  B0  C0  D0\n",
       "1  A1  B1  C1  D1\n",
       "2  A2  B2  C2  D2\n",
       "3  A3  B3  C3  D3\n",
       "0  A0  B0  C0  D0\n",
       "5  A5  B5  C5  D5\n",
       "6  A6  B6  C6  D6\n",
       "7  A7  B7  C7  D7\n",
       "\n",
       "[8 rows x 4 columns]"
      ]
     },
     "execution_count": 148,
     "metadata": {},
     "output_type": "execute_result"
    }
   ],
   "source": [
    "pd.concat([df1,df2],join= 'inner')"
   ]
  },
  {
   "cell_type": "code",
   "execution_count": null,
   "metadata": {
    "collapsed": true
   },
   "outputs": [],
   "source": []
  }
 ],
 "metadata": {
  "kernelspec": {
   "display_name": "Python 2",
   "language": "python",
   "name": "python2"
  },
  "language_info": {
   "codemirror_mode": {
    "name": "ipython",
    "version": 2
   },
   "file_extension": ".py",
   "mimetype": "text/x-python",
   "name": "python",
   "nbconvert_exporter": "python",
   "pygments_lexer": "ipython2",
   "version": "2.7.6"
  }
 },
 "nbformat": 4,
 "nbformat_minor": 0
}
