{
 "cells": [
  {
   "cell_type": "code",
   "execution_count": 1,
   "metadata": {
    "collapsed": true
   },
   "outputs": [],
   "source": [
    "import pandas as pd\n",
    "import numpy as np\n",
    "import matplotlib.pyplot as plt"
   ]
  },
  {
   "cell_type": "code",
   "execution_count": 2,
   "metadata": {
    "collapsed": true
   },
   "outputs": [],
   "source": [
    "s = pd.Series([1,3,5,np.nan,6,8])"
   ]
  },
  {
   "cell_type": "code",
   "execution_count": 3,
   "metadata": {
    "collapsed": false
   },
   "outputs": [],
   "source": [
    "dates = pd.date_range('20121011',periods=6)"
   ]
  },
  {
   "cell_type": "code",
   "execution_count": 4,
   "metadata": {
    "collapsed": false
   },
   "outputs": [],
   "source": [
    "df = pd.DataFrame(np.random.randn(6,4),index=dates, columns=list('ABCD'))\n",
    "df2 = pd.DataFrame({'A': 1,\n",
    "                    'B': pd.Timestamp('20121209'),\n",
    "                    'C': pd.Series(1,index=list(range(4)), dtype='float32'),\n",
    "                    'D': np.array([3]*4, dtype= 'int32'),\n",
    "                    'E': pd.Categorical([\"test\",\"train\",\"test\",\"train\"]),\n",
    "                    'F': 'foo'})"
   ]
  },
  {
   "cell_type": "code",
   "execution_count": 5,
   "metadata": {
    "collapsed": false
   },
   "outputs": [
    {
     "data": {
      "text/html": [
       "<div style=\"max-height:1000px;max-width:1500px;overflow:auto;\">\n",
       "<table border=\"1\" class=\"dataframe\">\n",
       "  <thead>\n",
       "    <tr style=\"text-align: right;\">\n",
       "      <th></th>\n",
       "      <th>A</th>\n",
       "      <th>C</th>\n",
       "      <th>D</th>\n",
       "    </tr>\n",
       "  </thead>\n",
       "  <tbody>\n",
       "    <tr>\n",
       "      <th>count</th>\n",
       "      <td> 4</td>\n",
       "      <td> 4</td>\n",
       "      <td> 4</td>\n",
       "    </tr>\n",
       "    <tr>\n",
       "      <th>mean</th>\n",
       "      <td> 1</td>\n",
       "      <td> 1</td>\n",
       "      <td> 3</td>\n",
       "    </tr>\n",
       "    <tr>\n",
       "      <th>std</th>\n",
       "      <td> 0</td>\n",
       "      <td> 0</td>\n",
       "      <td> 0</td>\n",
       "    </tr>\n",
       "    <tr>\n",
       "      <th>min</th>\n",
       "      <td> 1</td>\n",
       "      <td> 1</td>\n",
       "      <td> 3</td>\n",
       "    </tr>\n",
       "    <tr>\n",
       "      <th>25%</th>\n",
       "      <td> 1</td>\n",
       "      <td> 1</td>\n",
       "      <td> 3</td>\n",
       "    </tr>\n",
       "    <tr>\n",
       "      <th>50%</th>\n",
       "      <td> 1</td>\n",
       "      <td> 1</td>\n",
       "      <td> 3</td>\n",
       "    </tr>\n",
       "    <tr>\n",
       "      <th>75%</th>\n",
       "      <td> 1</td>\n",
       "      <td> 1</td>\n",
       "      <td> 3</td>\n",
       "    </tr>\n",
       "    <tr>\n",
       "      <th>max</th>\n",
       "      <td> 1</td>\n",
       "      <td> 1</td>\n",
       "      <td> 3</td>\n",
       "    </tr>\n",
       "  </tbody>\n",
       "</table>\n",
       "<p>8 rows × 3 columns</p>\n",
       "</div>"
      ],
      "text/plain": [
       "       A  C  D\n",
       "count  4  4  4\n",
       "mean   1  1  3\n",
       "std    0  0  0\n",
       "min    1  1  3\n",
       "25%    1  1  3\n",
       "50%    1  1  3\n",
       "75%    1  1  3\n",
       "max    1  1  3\n",
       "\n",
       "[8 rows x 3 columns]"
      ]
     },
     "execution_count": 5,
     "metadata": {},
     "output_type": "execute_result"
    }
   ],
   "source": [
    "df2.describe()"
   ]
  },
  {
   "cell_type": "code",
   "execution_count": 6,
   "metadata": {
    "collapsed": false
   },
   "outputs": [
    {
     "data": {
      "text/html": [
       "<div style=\"max-height:1000px;max-width:1500px;overflow:auto;\">\n",
       "<table border=\"1\" class=\"dataframe\">\n",
       "  <thead>\n",
       "    <tr style=\"text-align: right;\">\n",
       "      <th></th>\n",
       "      <th>0</th>\n",
       "      <th>1</th>\n",
       "      <th>2</th>\n",
       "      <th>3</th>\n",
       "    </tr>\n",
       "  </thead>\n",
       "  <tbody>\n",
       "    <tr>\n",
       "      <th>A</th>\n",
       "      <td>                   1</td>\n",
       "      <td>                   1</td>\n",
       "      <td>                   1</td>\n",
       "      <td>                   1</td>\n",
       "    </tr>\n",
       "    <tr>\n",
       "      <th>B</th>\n",
       "      <td> 2012-12-09 00:00:00</td>\n",
       "      <td> 2012-12-09 00:00:00</td>\n",
       "      <td> 2012-12-09 00:00:00</td>\n",
       "      <td> 2012-12-09 00:00:00</td>\n",
       "    </tr>\n",
       "    <tr>\n",
       "      <th>C</th>\n",
       "      <td>                   1</td>\n",
       "      <td>                   1</td>\n",
       "      <td>                   1</td>\n",
       "      <td>                   1</td>\n",
       "    </tr>\n",
       "    <tr>\n",
       "      <th>D</th>\n",
       "      <td>                   3</td>\n",
       "      <td>                   3</td>\n",
       "      <td>                   3</td>\n",
       "      <td>                   3</td>\n",
       "    </tr>\n",
       "    <tr>\n",
       "      <th>E</th>\n",
       "      <td>                test</td>\n",
       "      <td>               train</td>\n",
       "      <td>                test</td>\n",
       "      <td>               train</td>\n",
       "    </tr>\n",
       "    <tr>\n",
       "      <th>F</th>\n",
       "      <td>                 foo</td>\n",
       "      <td>                 foo</td>\n",
       "      <td>                 foo</td>\n",
       "      <td>                 foo</td>\n",
       "    </tr>\n",
       "  </tbody>\n",
       "</table>\n",
       "<p>6 rows × 4 columns</p>\n",
       "</div>"
      ],
      "text/plain": [
       "                     0                    1                    2  \\\n",
       "A                    1                    1                    1   \n",
       "B  2012-12-09 00:00:00  2012-12-09 00:00:00  2012-12-09 00:00:00   \n",
       "C                    1                    1                    1   \n",
       "D                    3                    3                    3   \n",
       "E                 test                train                 test   \n",
       "F                  foo                  foo                  foo   \n",
       "\n",
       "                     3  \n",
       "A                    1  \n",
       "B  2012-12-09 00:00:00  \n",
       "C                    1  \n",
       "D                    3  \n",
       "E                train  \n",
       "F                  foo  \n",
       "\n",
       "[6 rows x 4 columns]"
      ]
     },
     "execution_count": 6,
     "metadata": {},
     "output_type": "execute_result"
    }
   ],
   "source": [
    "df2.T"
   ]
  },
  {
   "cell_type": "code",
   "execution_count": 7,
   "metadata": {
    "collapsed": false
   },
   "outputs": [
    {
     "data": {
      "text/html": [
       "<div style=\"max-height:1000px;max-width:1500px;overflow:auto;\">\n",
       "<table border=\"1\" class=\"dataframe\">\n",
       "  <thead>\n",
       "    <tr style=\"text-align: right;\">\n",
       "      <th></th>\n",
       "      <th>A</th>\n",
       "      <th>B</th>\n",
       "      <th>C</th>\n",
       "      <th>D</th>\n",
       "    </tr>\n",
       "  </thead>\n",
       "  <tbody>\n",
       "    <tr>\n",
       "      <th>2012-10-16</th>\n",
       "      <td> 0.311674</td>\n",
       "      <td> 0.304745</td>\n",
       "      <td>-0.557879</td>\n",
       "      <td>-0.711589</td>\n",
       "    </tr>\n",
       "    <tr>\n",
       "      <th>2012-10-15</th>\n",
       "      <td>-1.748140</td>\n",
       "      <td>-2.356421</td>\n",
       "      <td> 1.369883</td>\n",
       "      <td>-0.910872</td>\n",
       "    </tr>\n",
       "    <tr>\n",
       "      <th>2012-10-14</th>\n",
       "      <td> 0.926252</td>\n",
       "      <td> 0.162590</td>\n",
       "      <td>-1.171410</td>\n",
       "      <td>-0.044998</td>\n",
       "    </tr>\n",
       "    <tr>\n",
       "      <th>2012-10-13</th>\n",
       "      <td>-0.949771</td>\n",
       "      <td>-0.933680</td>\n",
       "      <td> 1.633457</td>\n",
       "      <td> 0.757899</td>\n",
       "    </tr>\n",
       "    <tr>\n",
       "      <th>2012-10-12</th>\n",
       "      <td> 0.329459</td>\n",
       "      <td>-1.856734</td>\n",
       "      <td> 0.849606</td>\n",
       "      <td>-0.472203</td>\n",
       "    </tr>\n",
       "    <tr>\n",
       "      <th>2012-10-11</th>\n",
       "      <td>-0.280001</td>\n",
       "      <td> 0.688982</td>\n",
       "      <td>-0.080654</td>\n",
       "      <td> 0.175942</td>\n",
       "    </tr>\n",
       "  </tbody>\n",
       "</table>\n",
       "<p>6 rows × 4 columns</p>\n",
       "</div>"
      ],
      "text/plain": [
       "                   A         B         C         D\n",
       "2012-10-16  0.311674  0.304745 -0.557879 -0.711589\n",
       "2012-10-15 -1.748140 -2.356421  1.369883 -0.910872\n",
       "2012-10-14  0.926252  0.162590 -1.171410 -0.044998\n",
       "2012-10-13 -0.949771 -0.933680  1.633457  0.757899\n",
       "2012-10-12  0.329459 -1.856734  0.849606 -0.472203\n",
       "2012-10-11 -0.280001  0.688982 -0.080654  0.175942\n",
       "\n",
       "[6 rows x 4 columns]"
      ]
     },
     "execution_count": 7,
     "metadata": {},
     "output_type": "execute_result"
    }
   ],
   "source": [
    "df.sort_index(axis=0,ascending=False)"
   ]
  },
  {
   "cell_type": "markdown",
   "metadata": {},
   "source": [
    "### sort(columns, axis, ascending, inplace, kind, na_position)\n"
   ]
  },
  {
   "cell_type": "code",
   "execution_count": 8,
   "metadata": {
    "collapsed": false
   },
   "outputs": [
    {
     "data": {
      "text/html": [
       "<div style=\"max-height:1000px;max-width:1500px;overflow:auto;\">\n",
       "<table border=\"1\" class=\"dataframe\">\n",
       "  <thead>\n",
       "    <tr style=\"text-align: right;\">\n",
       "      <th></th>\n",
       "      <th>A</th>\n",
       "      <th>B</th>\n",
       "      <th>C</th>\n",
       "      <th>D</th>\n",
       "    </tr>\n",
       "  </thead>\n",
       "  <tbody>\n",
       "    <tr>\n",
       "      <th>2012-10-15</th>\n",
       "      <td>-1.748140</td>\n",
       "      <td>-2.356421</td>\n",
       "      <td> 1.369883</td>\n",
       "      <td>-0.910872</td>\n",
       "    </tr>\n",
       "    <tr>\n",
       "      <th>2012-10-12</th>\n",
       "      <td> 0.329459</td>\n",
       "      <td>-1.856734</td>\n",
       "      <td> 0.849606</td>\n",
       "      <td>-0.472203</td>\n",
       "    </tr>\n",
       "    <tr>\n",
       "      <th>2012-10-13</th>\n",
       "      <td>-0.949771</td>\n",
       "      <td>-0.933680</td>\n",
       "      <td> 1.633457</td>\n",
       "      <td> 0.757899</td>\n",
       "    </tr>\n",
       "    <tr>\n",
       "      <th>2012-10-14</th>\n",
       "      <td> 0.926252</td>\n",
       "      <td> 0.162590</td>\n",
       "      <td>-1.171410</td>\n",
       "      <td>-0.044998</td>\n",
       "    </tr>\n",
       "    <tr>\n",
       "      <th>2012-10-16</th>\n",
       "      <td> 0.311674</td>\n",
       "      <td> 0.304745</td>\n",
       "      <td>-0.557879</td>\n",
       "      <td>-0.711589</td>\n",
       "    </tr>\n",
       "    <tr>\n",
       "      <th>2012-10-11</th>\n",
       "      <td>-0.280001</td>\n",
       "      <td> 0.688982</td>\n",
       "      <td>-0.080654</td>\n",
       "      <td> 0.175942</td>\n",
       "    </tr>\n",
       "  </tbody>\n",
       "</table>\n",
       "<p>6 rows × 4 columns</p>\n",
       "</div>"
      ],
      "text/plain": [
       "                   A         B         C         D\n",
       "2012-10-15 -1.748140 -2.356421  1.369883 -0.910872\n",
       "2012-10-12  0.329459 -1.856734  0.849606 -0.472203\n",
       "2012-10-13 -0.949771 -0.933680  1.633457  0.757899\n",
       "2012-10-14  0.926252  0.162590 -1.171410 -0.044998\n",
       "2012-10-16  0.311674  0.304745 -0.557879 -0.711589\n",
       "2012-10-11 -0.280001  0.688982 -0.080654  0.175942\n",
       "\n",
       "[6 rows x 4 columns]"
      ]
     },
     "execution_count": 8,
     "metadata": {},
     "output_type": "execute_result"
    }
   ],
   "source": [
    "df.sort(columns='B',axis=0,ascending=True,)"
   ]
  },
  {
   "cell_type": "code",
   "execution_count": 9,
   "metadata": {
    "collapsed": false
   },
   "outputs": [
    {
     "data": {
      "text/plain": [
       "<bound method DataFrame.sort of                    A         B         C         D\n",
       "2012-10-11 -0.280001  0.688982 -0.080654  0.175942\n",
       "2012-10-12  0.329459 -1.856734  0.849606 -0.472203\n",
       "2012-10-13 -0.949771 -0.933680  1.633457  0.757899\n",
       "2012-10-14  0.926252  0.162590 -1.171410 -0.044998\n",
       "2012-10-15 -1.748140 -2.356421  1.369883 -0.910872\n",
       "2012-10-16  0.311674  0.304745 -0.557879 -0.711589\n",
       "\n",
       "[6 rows x 4 columns]>"
      ]
     },
     "execution_count": 9,
     "metadata": {},
     "output_type": "execute_result"
    }
   ],
   "source": [
    "df.sort"
   ]
  },
  {
   "cell_type": "code",
   "execution_count": 10,
   "metadata": {
    "collapsed": false
   },
   "outputs": [
    {
     "data": {
      "text/plain": [
       "2012-10-11    0.688982\n",
       "2012-10-12   -1.856734\n",
       "2012-10-13   -0.933680\n",
       "2012-10-14    0.162590\n",
       "2012-10-15   -2.356421\n",
       "2012-10-16    0.304745\n",
       "Freq: D, Name: B, dtype: float64"
      ]
     },
     "execution_count": 10,
     "metadata": {},
     "output_type": "execute_result"
    }
   ],
   "source": [
    "df['B']"
   ]
  },
  {
   "cell_type": "code",
   "execution_count": 11,
   "metadata": {
    "collapsed": false
   },
   "outputs": [
    {
     "data": {
      "text/html": [
       "<div style=\"max-height:1000px;max-width:1500px;overflow:auto;\">\n",
       "<table border=\"1\" class=\"dataframe\">\n",
       "  <thead>\n",
       "    <tr style=\"text-align: right;\">\n",
       "      <th></th>\n",
       "      <th>A</th>\n",
       "      <th>B</th>\n",
       "      <th>C</th>\n",
       "      <th>D</th>\n",
       "    </tr>\n",
       "  </thead>\n",
       "  <tbody>\n",
       "    <tr>\n",
       "      <th>2012-10-11</th>\n",
       "      <td>-0.280001</td>\n",
       "      <td> 0.688982</td>\n",
       "      <td>-0.080654</td>\n",
       "      <td> 0.175942</td>\n",
       "    </tr>\n",
       "    <tr>\n",
       "      <th>2012-10-12</th>\n",
       "      <td> 0.329459</td>\n",
       "      <td>-1.856734</td>\n",
       "      <td> 0.849606</td>\n",
       "      <td>-0.472203</td>\n",
       "    </tr>\n",
       "    <tr>\n",
       "      <th>2012-10-13</th>\n",
       "      <td>-0.949771</td>\n",
       "      <td>-0.933680</td>\n",
       "      <td> 1.633457</td>\n",
       "      <td> 0.757899</td>\n",
       "    </tr>\n",
       "  </tbody>\n",
       "</table>\n",
       "<p>3 rows × 4 columns</p>\n",
       "</div>"
      ],
      "text/plain": [
       "                   A         B         C         D\n",
       "2012-10-11 -0.280001  0.688982 -0.080654  0.175942\n",
       "2012-10-12  0.329459 -1.856734  0.849606 -0.472203\n",
       "2012-10-13 -0.949771 -0.933680  1.633457  0.757899\n",
       "\n",
       "[3 rows x 4 columns]"
      ]
     },
     "execution_count": 11,
     "metadata": {},
     "output_type": "execute_result"
    }
   ],
   "source": [
    "df[0:3]"
   ]
  },
  {
   "cell_type": "code",
   "execution_count": 12,
   "metadata": {
    "collapsed": false
   },
   "outputs": [
    {
     "data": {
      "text/html": [
       "<div style=\"max-height:1000px;max-width:1500px;overflow:auto;\">\n",
       "<table border=\"1\" class=\"dataframe\">\n",
       "  <thead>\n",
       "    <tr style=\"text-align: right;\">\n",
       "      <th></th>\n",
       "      <th>A</th>\n",
       "      <th>B</th>\n",
       "      <th>C</th>\n",
       "      <th>D</th>\n",
       "    </tr>\n",
       "  </thead>\n",
       "  <tbody>\n",
       "    <tr>\n",
       "      <th>2012-10-11</th>\n",
       "      <td>-0.280001</td>\n",
       "      <td> 0.688982</td>\n",
       "      <td>-0.080654</td>\n",
       "      <td> 0.175942</td>\n",
       "    </tr>\n",
       "    <tr>\n",
       "      <th>2012-10-12</th>\n",
       "      <td> 0.329459</td>\n",
       "      <td>-1.856734</td>\n",
       "      <td> 0.849606</td>\n",
       "      <td>-0.472203</td>\n",
       "    </tr>\n",
       "    <tr>\n",
       "      <th>2012-10-13</th>\n",
       "      <td>-0.949771</td>\n",
       "      <td>-0.933680</td>\n",
       "      <td> 1.633457</td>\n",
       "      <td> 0.757899</td>\n",
       "    </tr>\n",
       "    <tr>\n",
       "      <th>2012-10-14</th>\n",
       "      <td> 0.926252</td>\n",
       "      <td> 0.162590</td>\n",
       "      <td>-1.171410</td>\n",
       "      <td>-0.044998</td>\n",
       "    </tr>\n",
       "  </tbody>\n",
       "</table>\n",
       "<p>4 rows × 4 columns</p>\n",
       "</div>"
      ],
      "text/plain": [
       "                   A         B         C         D\n",
       "2012-10-11 -0.280001  0.688982 -0.080654  0.175942\n",
       "2012-10-12  0.329459 -1.856734  0.849606 -0.472203\n",
       "2012-10-13 -0.949771 -0.933680  1.633457  0.757899\n",
       "2012-10-14  0.926252  0.162590 -1.171410 -0.044998\n",
       "\n",
       "[4 rows x 4 columns]"
      ]
     },
     "execution_count": 12,
     "metadata": {},
     "output_type": "execute_result"
    }
   ],
   "source": [
    "df[dates[0]:dates[3]]"
   ]
  },
  {
   "cell_type": "code",
   "execution_count": 13,
   "metadata": {
    "collapsed": false
   },
   "outputs": [
    {
     "data": {
      "text/plain": [
       "A   -0.280001\n",
       "B    0.688982\n",
       "C   -0.080654\n",
       "D    0.175942\n",
       "Name: 2012-10-11 00:00:00, dtype: float64"
      ]
     },
     "execution_count": 13,
     "metadata": {},
     "output_type": "execute_result"
    }
   ],
   "source": [
    "df.loc[dates[0]]"
   ]
  },
  {
   "cell_type": "code",
   "execution_count": 14,
   "metadata": {
    "collapsed": false
   },
   "outputs": [
    {
     "data": {
      "text/html": [
       "<div style=\"max-height:1000px;max-width:1500px;overflow:auto;\">\n",
       "<table border=\"1\" class=\"dataframe\">\n",
       "  <thead>\n",
       "    <tr style=\"text-align: right;\">\n",
       "      <th></th>\n",
       "      <th>A</th>\n",
       "      <th>B</th>\n",
       "    </tr>\n",
       "  </thead>\n",
       "  <tbody>\n",
       "    <tr>\n",
       "      <th>2012-10-11</th>\n",
       "      <td>-0.280001</td>\n",
       "      <td> 0.688982</td>\n",
       "    </tr>\n",
       "    <tr>\n",
       "      <th>2012-10-12</th>\n",
       "      <td> 0.329459</td>\n",
       "      <td>-1.856734</td>\n",
       "    </tr>\n",
       "    <tr>\n",
       "      <th>2012-10-13</th>\n",
       "      <td>-0.949771</td>\n",
       "      <td>-0.933680</td>\n",
       "    </tr>\n",
       "    <tr>\n",
       "      <th>2012-10-14</th>\n",
       "      <td> 0.926252</td>\n",
       "      <td> 0.162590</td>\n",
       "    </tr>\n",
       "    <tr>\n",
       "      <th>2012-10-15</th>\n",
       "      <td>-1.748140</td>\n",
       "      <td>-2.356421</td>\n",
       "    </tr>\n",
       "    <tr>\n",
       "      <th>2012-10-16</th>\n",
       "      <td> 0.311674</td>\n",
       "      <td> 0.304745</td>\n",
       "    </tr>\n",
       "  </tbody>\n",
       "</table>\n",
       "<p>6 rows × 2 columns</p>\n",
       "</div>"
      ],
      "text/plain": [
       "                   A         B\n",
       "2012-10-11 -0.280001  0.688982\n",
       "2012-10-12  0.329459 -1.856734\n",
       "2012-10-13 -0.949771 -0.933680\n",
       "2012-10-14  0.926252  0.162590\n",
       "2012-10-15 -1.748140 -2.356421\n",
       "2012-10-16  0.311674  0.304745\n",
       "\n",
       "[6 rows x 2 columns]"
      ]
     },
     "execution_count": 14,
     "metadata": {},
     "output_type": "execute_result"
    }
   ],
   "source": [
    "df.loc[:,['A','B']]"
   ]
  },
  {
   "cell_type": "code",
   "execution_count": 15,
   "metadata": {
    "collapsed": false
   },
   "outputs": [
    {
     "data": {
      "text/html": [
       "<div style=\"max-height:1000px;max-width:1500px;overflow:auto;\">\n",
       "<table border=\"1\" class=\"dataframe\">\n",
       "  <thead>\n",
       "    <tr style=\"text-align: right;\">\n",
       "      <th></th>\n",
       "      <th>A</th>\n",
       "      <th>B</th>\n",
       "      <th>C</th>\n",
       "    </tr>\n",
       "  </thead>\n",
       "  <tbody>\n",
       "    <tr>\n",
       "      <th>2012-10-11</th>\n",
       "      <td>-0.280001</td>\n",
       "      <td> 0.688982</td>\n",
       "      <td>-0.080654</td>\n",
       "    </tr>\n",
       "    <tr>\n",
       "      <th>2012-10-12</th>\n",
       "      <td> 0.329459</td>\n",
       "      <td>-1.856734</td>\n",
       "      <td> 0.849606</td>\n",
       "    </tr>\n",
       "    <tr>\n",
       "      <th>2012-10-13</th>\n",
       "      <td>-0.949771</td>\n",
       "      <td>-0.933680</td>\n",
       "      <td> 1.633457</td>\n",
       "    </tr>\n",
       "  </tbody>\n",
       "</table>\n",
       "<p>3 rows × 3 columns</p>\n",
       "</div>"
      ],
      "text/plain": [
       "                   A         B         C\n",
       "2012-10-11 -0.280001  0.688982 -0.080654\n",
       "2012-10-12  0.329459 -1.856734  0.849606\n",
       "2012-10-13 -0.949771 -0.933680  1.633457\n",
       "\n",
       "[3 rows x 3 columns]"
      ]
     },
     "execution_count": 15,
     "metadata": {},
     "output_type": "execute_result"
    }
   ],
   "source": [
    "df.iloc[0:3,0:3]"
   ]
  },
  {
   "cell_type": "code",
   "execution_count": 16,
   "metadata": {
    "collapsed": false
   },
   "outputs": [
    {
     "data": {
      "text/plain": [
       "-0.28000104564262634"
      ]
     },
     "execution_count": 16,
     "metadata": {},
     "output_type": "execute_result"
    }
   ],
   "source": [
    "df.at[dates[0],'A']"
   ]
  },
  {
   "cell_type": "code",
   "execution_count": 17,
   "metadata": {
    "collapsed": false
   },
   "outputs": [
    {
     "data": {
      "text/html": [
       "<div style=\"max-height:1000px;max-width:1500px;overflow:auto;\">\n",
       "<table border=\"1\" class=\"dataframe\">\n",
       "  <thead>\n",
       "    <tr style=\"text-align: right;\">\n",
       "      <th></th>\n",
       "      <th>A</th>\n",
       "      <th>B</th>\n",
       "      <th>C</th>\n",
       "      <th>D</th>\n",
       "    </tr>\n",
       "  </thead>\n",
       "  <tbody>\n",
       "    <tr>\n",
       "      <th>2012-10-14</th>\n",
       "      <td> 0.926252</td>\n",
       "      <td> 0.162590</td>\n",
       "      <td>-1.171410</td>\n",
       "      <td>-0.044998</td>\n",
       "    </tr>\n",
       "    <tr>\n",
       "      <th>2012-10-15</th>\n",
       "      <td>-1.748140</td>\n",
       "      <td>-2.356421</td>\n",
       "      <td> 1.369883</td>\n",
       "      <td>-0.910872</td>\n",
       "    </tr>\n",
       "  </tbody>\n",
       "</table>\n",
       "<p>2 rows × 4 columns</p>\n",
       "</div>"
      ],
      "text/plain": [
       "                   A         B         C         D\n",
       "2012-10-14  0.926252  0.162590 -1.171410 -0.044998\n",
       "2012-10-15 -1.748140 -2.356421  1.369883 -0.910872\n",
       "\n",
       "[2 rows x 4 columns]"
      ]
     },
     "execution_count": 17,
     "metadata": {},
     "output_type": "execute_result"
    }
   ],
   "source": [
    "df.iloc[3:5]"
   ]
  },
  {
   "cell_type": "code",
   "execution_count": 18,
   "metadata": {
    "collapsed": false
   },
   "outputs": [
    {
     "data": {
      "text/html": [
       "<div style=\"max-height:1000px;max-width:1500px;overflow:auto;\">\n",
       "<table border=\"1\" class=\"dataframe\">\n",
       "  <thead>\n",
       "    <tr style=\"text-align: right;\">\n",
       "      <th></th>\n",
       "      <th>A</th>\n",
       "      <th>B</th>\n",
       "      <th>C</th>\n",
       "      <th>D</th>\n",
       "    </tr>\n",
       "  </thead>\n",
       "  <tbody>\n",
       "    <tr>\n",
       "      <th>2012-10-12</th>\n",
       "      <td> 0.329459</td>\n",
       "      <td>-1.856734</td>\n",
       "      <td> 0.849606</td>\n",
       "      <td>-0.472203</td>\n",
       "    </tr>\n",
       "    <tr>\n",
       "      <th>2012-10-14</th>\n",
       "      <td> 0.926252</td>\n",
       "      <td> 0.162590</td>\n",
       "      <td>-1.171410</td>\n",
       "      <td>-0.044998</td>\n",
       "    </tr>\n",
       "    <tr>\n",
       "      <th>2012-10-16</th>\n",
       "      <td> 0.311674</td>\n",
       "      <td> 0.304745</td>\n",
       "      <td>-0.557879</td>\n",
       "      <td>-0.711589</td>\n",
       "    </tr>\n",
       "  </tbody>\n",
       "</table>\n",
       "<p>3 rows × 4 columns</p>\n",
       "</div>"
      ],
      "text/plain": [
       "                   A         B         C         D\n",
       "2012-10-12  0.329459 -1.856734  0.849606 -0.472203\n",
       "2012-10-14  0.926252  0.162590 -1.171410 -0.044998\n",
       "2012-10-16  0.311674  0.304745 -0.557879 -0.711589\n",
       "\n",
       "[3 rows x 4 columns]"
      ]
     },
     "execution_count": 18,
     "metadata": {},
     "output_type": "execute_result"
    }
   ],
   "source": [
    "df[df.A > 0]"
   ]
  },
  {
   "cell_type": "code",
   "execution_count": 19,
   "metadata": {
    "collapsed": false
   },
   "outputs": [
    {
     "data": {
      "text/html": [
       "<div style=\"max-height:1000px;max-width:1500px;overflow:auto;\">\n",
       "<table border=\"1\" class=\"dataframe\">\n",
       "  <thead>\n",
       "    <tr style=\"text-align: right;\">\n",
       "      <th></th>\n",
       "      <th>A</th>\n",
       "      <th>B</th>\n",
       "      <th>C</th>\n",
       "      <th>D</th>\n",
       "    </tr>\n",
       "  </thead>\n",
       "  <tbody>\n",
       "    <tr>\n",
       "      <th>2012-10-11</th>\n",
       "      <td>      NaN</td>\n",
       "      <td> 0.688982</td>\n",
       "      <td>      NaN</td>\n",
       "      <td> 0.175942</td>\n",
       "    </tr>\n",
       "    <tr>\n",
       "      <th>2012-10-12</th>\n",
       "      <td> 0.329459</td>\n",
       "      <td>      NaN</td>\n",
       "      <td> 0.849606</td>\n",
       "      <td>      NaN</td>\n",
       "    </tr>\n",
       "    <tr>\n",
       "      <th>2012-10-13</th>\n",
       "      <td>      NaN</td>\n",
       "      <td>      NaN</td>\n",
       "      <td> 1.633457</td>\n",
       "      <td> 0.757899</td>\n",
       "    </tr>\n",
       "    <tr>\n",
       "      <th>2012-10-14</th>\n",
       "      <td> 0.926252</td>\n",
       "      <td> 0.162590</td>\n",
       "      <td>      NaN</td>\n",
       "      <td>      NaN</td>\n",
       "    </tr>\n",
       "    <tr>\n",
       "      <th>2012-10-15</th>\n",
       "      <td>      NaN</td>\n",
       "      <td>      NaN</td>\n",
       "      <td> 1.369883</td>\n",
       "      <td>      NaN</td>\n",
       "    </tr>\n",
       "    <tr>\n",
       "      <th>2012-10-16</th>\n",
       "      <td> 0.311674</td>\n",
       "      <td> 0.304745</td>\n",
       "      <td>      NaN</td>\n",
       "      <td>      NaN</td>\n",
       "    </tr>\n",
       "  </tbody>\n",
       "</table>\n",
       "<p>6 rows × 4 columns</p>\n",
       "</div>"
      ],
      "text/plain": [
       "                   A         B         C         D\n",
       "2012-10-11       NaN  0.688982       NaN  0.175942\n",
       "2012-10-12  0.329459       NaN  0.849606       NaN\n",
       "2012-10-13       NaN       NaN  1.633457  0.757899\n",
       "2012-10-14  0.926252  0.162590       NaN       NaN\n",
       "2012-10-15       NaN       NaN  1.369883       NaN\n",
       "2012-10-16  0.311674  0.304745       NaN       NaN\n",
       "\n",
       "[6 rows x 4 columns]"
      ]
     },
     "execution_count": 19,
     "metadata": {},
     "output_type": "execute_result"
    }
   ],
   "source": [
    "df[df>0]"
   ]
  },
  {
   "cell_type": "code",
   "execution_count": 20,
   "metadata": {
    "collapsed": false
   },
   "outputs": [],
   "source": [
    "df['E']= ['one','two','three','four','five','six']"
   ]
  },
  {
   "cell_type": "code",
   "execution_count": 21,
   "metadata": {
    "collapsed": false
   },
   "outputs": [
    {
     "data": {
      "text/html": [
       "<div style=\"max-height:1000px;max-width:1500px;overflow:auto;\">\n",
       "<table border=\"1\" class=\"dataframe\">\n",
       "  <thead>\n",
       "    <tr style=\"text-align: right;\">\n",
       "      <th></th>\n",
       "      <th>A</th>\n",
       "      <th>B</th>\n",
       "      <th>C</th>\n",
       "      <th>D</th>\n",
       "      <th>E</th>\n",
       "    </tr>\n",
       "  </thead>\n",
       "  <tbody>\n",
       "    <tr>\n",
       "      <th>2012-10-11</th>\n",
       "      <td>-0.280001</td>\n",
       "      <td> 0.688982</td>\n",
       "      <td>-0.080654</td>\n",
       "      <td> 0.175942</td>\n",
       "      <td> one</td>\n",
       "    </tr>\n",
       "    <tr>\n",
       "      <th>2012-10-12</th>\n",
       "      <td> 0.329459</td>\n",
       "      <td>-1.856734</td>\n",
       "      <td> 0.849606</td>\n",
       "      <td>-0.472203</td>\n",
       "      <td> two</td>\n",
       "    </tr>\n",
       "  </tbody>\n",
       "</table>\n",
       "<p>2 rows × 5 columns</p>\n",
       "</div>"
      ],
      "text/plain": [
       "                   A         B         C         D    E\n",
       "2012-10-11 -0.280001  0.688982 -0.080654  0.175942  one\n",
       "2012-10-12  0.329459 -1.856734  0.849606 -0.472203  two\n",
       "\n",
       "[2 rows x 5 columns]"
      ]
     },
     "execution_count": 21,
     "metadata": {},
     "output_type": "execute_result"
    }
   ],
   "source": [
    "df[df.E.isin(['one','two'])]"
   ]
  },
  {
   "cell_type": "code",
   "execution_count": 22,
   "metadata": {
    "collapsed": false
   },
   "outputs": [],
   "source": [
    "df.loc[:,'D'] = np.array([5] * len(df))"
   ]
  },
  {
   "cell_type": "code",
   "execution_count": 23,
   "metadata": {
    "collapsed": false
   },
   "outputs": [
    {
     "data": {
      "text/html": [
       "<div style=\"max-height:1000px;max-width:1500px;overflow:auto;\">\n",
       "<table border=\"1\" class=\"dataframe\">\n",
       "  <thead>\n",
       "    <tr style=\"text-align: right;\">\n",
       "      <th></th>\n",
       "      <th>A</th>\n",
       "      <th>B</th>\n",
       "      <th>C</th>\n",
       "      <th>D</th>\n",
       "      <th>E</th>\n",
       "    </tr>\n",
       "  </thead>\n",
       "  <tbody>\n",
       "    <tr>\n",
       "      <th>2012-10-11</th>\n",
       "      <td>-0.280001</td>\n",
       "      <td> 0.688982</td>\n",
       "      <td>-0.080654</td>\n",
       "      <td> 5</td>\n",
       "      <td>   one</td>\n",
       "    </tr>\n",
       "    <tr>\n",
       "      <th>2012-10-12</th>\n",
       "      <td> 0.329459</td>\n",
       "      <td>-1.856734</td>\n",
       "      <td> 0.849606</td>\n",
       "      <td> 5</td>\n",
       "      <td>   two</td>\n",
       "    </tr>\n",
       "    <tr>\n",
       "      <th>2012-10-13</th>\n",
       "      <td>-0.949771</td>\n",
       "      <td>-0.933680</td>\n",
       "      <td> 1.633457</td>\n",
       "      <td> 5</td>\n",
       "      <td> three</td>\n",
       "    </tr>\n",
       "    <tr>\n",
       "      <th>2012-10-14</th>\n",
       "      <td> 0.926252</td>\n",
       "      <td> 0.162590</td>\n",
       "      <td>-1.171410</td>\n",
       "      <td> 5</td>\n",
       "      <td>  four</td>\n",
       "    </tr>\n",
       "    <tr>\n",
       "      <th>2012-10-15</th>\n",
       "      <td>-1.748140</td>\n",
       "      <td>-2.356421</td>\n",
       "      <td> 1.369883</td>\n",
       "      <td> 5</td>\n",
       "      <td>  five</td>\n",
       "    </tr>\n",
       "    <tr>\n",
       "      <th>2012-10-16</th>\n",
       "      <td> 0.311674</td>\n",
       "      <td> 0.304745</td>\n",
       "      <td>-0.557879</td>\n",
       "      <td> 5</td>\n",
       "      <td>   six</td>\n",
       "    </tr>\n",
       "  </tbody>\n",
       "</table>\n",
       "<p>6 rows × 5 columns</p>\n",
       "</div>"
      ],
      "text/plain": [
       "                   A         B         C  D      E\n",
       "2012-10-11 -0.280001  0.688982 -0.080654  5    one\n",
       "2012-10-12  0.329459 -1.856734  0.849606  5    two\n",
       "2012-10-13 -0.949771 -0.933680  1.633457  5  three\n",
       "2012-10-14  0.926252  0.162590 -1.171410  5   four\n",
       "2012-10-15 -1.748140 -2.356421  1.369883  5   five\n",
       "2012-10-16  0.311674  0.304745 -0.557879  5    six\n",
       "\n",
       "[6 rows x 5 columns]"
      ]
     },
     "execution_count": 23,
     "metadata": {},
     "output_type": "execute_result"
    }
   ],
   "source": [
    "df"
   ]
  },
  {
   "cell_type": "code",
   "execution_count": 24,
   "metadata": {
    "collapsed": false
   },
   "outputs": [
    {
     "data": {
      "text/html": [
       "<div style=\"max-height:1000px;max-width:1500px;overflow:auto;\">\n",
       "<table border=\"1\" class=\"dataframe\">\n",
       "  <thead>\n",
       "    <tr style=\"text-align: right;\">\n",
       "      <th></th>\n",
       "      <th>A</th>\n",
       "      <th>B</th>\n",
       "      <th>C</th>\n",
       "      <th>D</th>\n",
       "      <th>E</th>\n",
       "    </tr>\n",
       "  </thead>\n",
       "  <tbody>\n",
       "    <tr>\n",
       "      <th>2012-10-11</th>\n",
       "      <td>-0.280001</td>\n",
       "      <td> 0.688982</td>\n",
       "      <td>-0.080654</td>\n",
       "      <td> 5</td>\n",
       "      <td>   one</td>\n",
       "    </tr>\n",
       "    <tr>\n",
       "      <th>2012-10-12</th>\n",
       "      <td> 0.329459</td>\n",
       "      <td>-1.856734</td>\n",
       "      <td> 0.849606</td>\n",
       "      <td> 5</td>\n",
       "      <td>   two</td>\n",
       "    </tr>\n",
       "    <tr>\n",
       "      <th>2012-10-13</th>\n",
       "      <td>-0.949771</td>\n",
       "      <td>-0.933680</td>\n",
       "      <td> 1.633457</td>\n",
       "      <td> 5</td>\n",
       "      <td> three</td>\n",
       "    </tr>\n",
       "    <tr>\n",
       "      <th>2012-10-14</th>\n",
       "      <td> 0.926252</td>\n",
       "      <td> 0.162590</td>\n",
       "      <td>-1.171410</td>\n",
       "      <td> 5</td>\n",
       "      <td>  four</td>\n",
       "    </tr>\n",
       "    <tr>\n",
       "      <th>2012-10-15</th>\n",
       "      <td>-1.748140</td>\n",
       "      <td>-2.356421</td>\n",
       "      <td> 1.369883</td>\n",
       "      <td> 5</td>\n",
       "      <td>  five</td>\n",
       "    </tr>\n",
       "    <tr>\n",
       "      <th>2012-10-16</th>\n",
       "      <td> 0.311674</td>\n",
       "      <td> 0.304745</td>\n",
       "      <td>-0.557879</td>\n",
       "      <td> 5</td>\n",
       "      <td>   six</td>\n",
       "    </tr>\n",
       "  </tbody>\n",
       "</table>\n",
       "<p>6 rows × 5 columns</p>\n",
       "</div>"
      ],
      "text/plain": [
       "                   A         B         C  D      E\n",
       "2012-10-11 -0.280001  0.688982 -0.080654  5    one\n",
       "2012-10-12  0.329459 -1.856734  0.849606  5    two\n",
       "2012-10-13 -0.949771 -0.933680  1.633457  5  three\n",
       "2012-10-14  0.926252  0.162590 -1.171410  5   four\n",
       "2012-10-15 -1.748140 -2.356421  1.369883  5   five\n",
       "2012-10-16  0.311674  0.304745 -0.557879  5    six\n",
       "\n",
       "[6 rows x 5 columns]"
      ]
     },
     "execution_count": 24,
     "metadata": {},
     "output_type": "execute_result"
    }
   ],
   "source": [
    "df"
   ]
  },
  {
   "cell_type": "code",
   "execution_count": 25,
   "metadata": {
    "collapsed": true
   },
   "outputs": [],
   "source": [
    "df1 = df.copy"
   ]
  },
  {
   "cell_type": "code",
   "execution_count": 26,
   "metadata": {
    "collapsed": false
   },
   "outputs": [],
   "source": [
    "df1 = df.reindex(index= dates[0:4], columns= list(df.columns) + ['F'])"
   ]
  },
  {
   "cell_type": "code",
   "execution_count": 27,
   "metadata": {
    "collapsed": false
   },
   "outputs": [
    {
     "data": {
      "text/html": [
       "<div style=\"max-height:1000px;max-width:1500px;overflow:auto;\">\n",
       "<table border=\"1\" class=\"dataframe\">\n",
       "  <thead>\n",
       "    <tr style=\"text-align: right;\">\n",
       "      <th></th>\n",
       "      <th>A</th>\n",
       "      <th>B</th>\n",
       "      <th>C</th>\n",
       "      <th>D</th>\n",
       "      <th>E</th>\n",
       "      <th>F</th>\n",
       "    </tr>\n",
       "  </thead>\n",
       "  <tbody>\n",
       "    <tr>\n",
       "      <th>2012-10-11</th>\n",
       "      <td>-0.280001</td>\n",
       "      <td> 0.688982</td>\n",
       "      <td>-0.080654</td>\n",
       "      <td> 5</td>\n",
       "      <td>   one</td>\n",
       "      <td>NaN</td>\n",
       "    </tr>\n",
       "    <tr>\n",
       "      <th>2012-10-12</th>\n",
       "      <td> 0.329459</td>\n",
       "      <td>-1.856734</td>\n",
       "      <td> 0.849606</td>\n",
       "      <td> 5</td>\n",
       "      <td>   two</td>\n",
       "      <td>NaN</td>\n",
       "    </tr>\n",
       "    <tr>\n",
       "      <th>2012-10-13</th>\n",
       "      <td>-0.949771</td>\n",
       "      <td>-0.933680</td>\n",
       "      <td> 1.633457</td>\n",
       "      <td> 5</td>\n",
       "      <td> three</td>\n",
       "      <td>NaN</td>\n",
       "    </tr>\n",
       "    <tr>\n",
       "      <th>2012-10-14</th>\n",
       "      <td> 0.926252</td>\n",
       "      <td> 0.162590</td>\n",
       "      <td>-1.171410</td>\n",
       "      <td> 5</td>\n",
       "      <td>  four</td>\n",
       "      <td>NaN</td>\n",
       "    </tr>\n",
       "  </tbody>\n",
       "</table>\n",
       "<p>4 rows × 6 columns</p>\n",
       "</div>"
      ],
      "text/plain": [
       "                   A         B         C  D      E   F\n",
       "2012-10-11 -0.280001  0.688982 -0.080654  5    one NaN\n",
       "2012-10-12  0.329459 -1.856734  0.849606  5    two NaN\n",
       "2012-10-13 -0.949771 -0.933680  1.633457  5  three NaN\n",
       "2012-10-14  0.926252  0.162590 -1.171410  5   four NaN\n",
       "\n",
       "[4 rows x 6 columns]"
      ]
     },
     "execution_count": 27,
     "metadata": {},
     "output_type": "execute_result"
    }
   ],
   "source": [
    "df1"
   ]
  },
  {
   "cell_type": "code",
   "execution_count": 28,
   "metadata": {
    "collapsed": true
   },
   "outputs": [],
   "source": [
    "df1.loc[dates[0]:dates[2],'F'] = 11"
   ]
  },
  {
   "cell_type": "code",
   "execution_count": 29,
   "metadata": {
    "collapsed": false
   },
   "outputs": [
    {
     "data": {
      "text/html": [
       "<div style=\"max-height:1000px;max-width:1500px;overflow:auto;\">\n",
       "<table border=\"1\" class=\"dataframe\">\n",
       "  <thead>\n",
       "    <tr style=\"text-align: right;\">\n",
       "      <th></th>\n",
       "      <th>A</th>\n",
       "      <th>B</th>\n",
       "      <th>C</th>\n",
       "      <th>D</th>\n",
       "      <th>E</th>\n",
       "      <th>F</th>\n",
       "    </tr>\n",
       "  </thead>\n",
       "  <tbody>\n",
       "    <tr>\n",
       "      <th>2012-10-11</th>\n",
       "      <td>-0.280001</td>\n",
       "      <td> 0.688982</td>\n",
       "      <td>-0.080654</td>\n",
       "      <td> 5</td>\n",
       "      <td>   one</td>\n",
       "      <td> 11</td>\n",
       "    </tr>\n",
       "    <tr>\n",
       "      <th>2012-10-12</th>\n",
       "      <td> 0.329459</td>\n",
       "      <td>-1.856734</td>\n",
       "      <td> 0.849606</td>\n",
       "      <td> 5</td>\n",
       "      <td>   two</td>\n",
       "      <td> 11</td>\n",
       "    </tr>\n",
       "    <tr>\n",
       "      <th>2012-10-13</th>\n",
       "      <td>-0.949771</td>\n",
       "      <td>-0.933680</td>\n",
       "      <td> 1.633457</td>\n",
       "      <td> 5</td>\n",
       "      <td> three</td>\n",
       "      <td> 11</td>\n",
       "    </tr>\n",
       "    <tr>\n",
       "      <th>2012-10-14</th>\n",
       "      <td> 0.926252</td>\n",
       "      <td> 0.162590</td>\n",
       "      <td>-1.171410</td>\n",
       "      <td> 5</td>\n",
       "      <td>  four</td>\n",
       "      <td>NaN</td>\n",
       "    </tr>\n",
       "  </tbody>\n",
       "</table>\n",
       "<p>4 rows × 6 columns</p>\n",
       "</div>"
      ],
      "text/plain": [
       "                   A         B         C  D      E   F\n",
       "2012-10-11 -0.280001  0.688982 -0.080654  5    one  11\n",
       "2012-10-12  0.329459 -1.856734  0.849606  5    two  11\n",
       "2012-10-13 -0.949771 -0.933680  1.633457  5  three  11\n",
       "2012-10-14  0.926252  0.162590 -1.171410  5   four NaN\n",
       "\n",
       "[4 rows x 6 columns]"
      ]
     },
     "execution_count": 29,
     "metadata": {},
     "output_type": "execute_result"
    }
   ],
   "source": [
    "df1"
   ]
  },
  {
   "cell_type": "code",
   "execution_count": 30,
   "metadata": {
    "collapsed": false
   },
   "outputs": [],
   "source": [
    "test = df1[:]"
   ]
  },
  {
   "cell_type": "markdown",
   "metadata": {},
   "source": [
    "### dropna(axis, how, inplace, subset, threshold)"
   ]
  },
  {
   "cell_type": "code",
   "execution_count": 31,
   "metadata": {
    "collapsed": false
   },
   "outputs": [],
   "source": [
    "test.dropna(axis=0, how='all',inplace=True,subset=['B','F'])"
   ]
  },
  {
   "cell_type": "code",
   "execution_count": 32,
   "metadata": {
    "collapsed": false
   },
   "outputs": [
    {
     "data": {
      "text/html": [
       "<div style=\"max-height:1000px;max-width:1500px;overflow:auto;\">\n",
       "<table border=\"1\" class=\"dataframe\">\n",
       "  <thead>\n",
       "    <tr style=\"text-align: right;\">\n",
       "      <th></th>\n",
       "      <th>A</th>\n",
       "      <th>B</th>\n",
       "      <th>C</th>\n",
       "      <th>D</th>\n",
       "      <th>E</th>\n",
       "      <th>F</th>\n",
       "    </tr>\n",
       "  </thead>\n",
       "  <tbody>\n",
       "    <tr>\n",
       "      <th>2012-10-11</th>\n",
       "      <td>-0.280001</td>\n",
       "      <td> 0.688982</td>\n",
       "      <td>-0.080654</td>\n",
       "      <td> 5</td>\n",
       "      <td>   one</td>\n",
       "      <td> 11</td>\n",
       "    </tr>\n",
       "    <tr>\n",
       "      <th>2012-10-12</th>\n",
       "      <td> 0.329459</td>\n",
       "      <td>-1.856734</td>\n",
       "      <td> 0.849606</td>\n",
       "      <td> 5</td>\n",
       "      <td>   two</td>\n",
       "      <td> 11</td>\n",
       "    </tr>\n",
       "    <tr>\n",
       "      <th>2012-10-13</th>\n",
       "      <td>-0.949771</td>\n",
       "      <td>-0.933680</td>\n",
       "      <td> 1.633457</td>\n",
       "      <td> 5</td>\n",
       "      <td> three</td>\n",
       "      <td> 11</td>\n",
       "    </tr>\n",
       "    <tr>\n",
       "      <th>2012-10-14</th>\n",
       "      <td> 0.926252</td>\n",
       "      <td> 0.162590</td>\n",
       "      <td>-1.171410</td>\n",
       "      <td> 5</td>\n",
       "      <td>  four</td>\n",
       "      <td>NaN</td>\n",
       "    </tr>\n",
       "  </tbody>\n",
       "</table>\n",
       "<p>4 rows × 6 columns</p>\n",
       "</div>"
      ],
      "text/plain": [
       "                   A         B         C  D      E   F\n",
       "2012-10-11 -0.280001  0.688982 -0.080654  5    one  11\n",
       "2012-10-12  0.329459 -1.856734  0.849606  5    two  11\n",
       "2012-10-13 -0.949771 -0.933680  1.633457  5  three  11\n",
       "2012-10-14  0.926252  0.162590 -1.171410  5   four NaN\n",
       "\n",
       "[4 rows x 6 columns]"
      ]
     },
     "execution_count": 32,
     "metadata": {},
     "output_type": "execute_result"
    }
   ],
   "source": [
    "test"
   ]
  },
  {
   "cell_type": "code",
   "execution_count": 33,
   "metadata": {
    "collapsed": false
   },
   "outputs": [
    {
     "data": {
      "text/plain": [
       "2012-10-11    1.332082\n",
       "2012-10-12    1.080583\n",
       "2012-10-13    1.187501\n",
       "2012-10-14    1.229358\n",
       "2012-10-15    0.566331\n",
       "2012-10-16    1.264635\n",
       "Freq: D, dtype: float64"
      ]
     },
     "execution_count": 33,
     "metadata": {},
     "output_type": "execute_result"
    }
   ],
   "source": [
    "df.mean(1)"
   ]
  },
  {
   "cell_type": "code",
   "execution_count": 34,
   "metadata": {
    "collapsed": true
   },
   "outputs": [],
   "source": [
    "df = pd.DataFrame(np.random.randn(10,5))"
   ]
  },
  {
   "cell_type": "code",
   "execution_count": 35,
   "metadata": {
    "collapsed": false
   },
   "outputs": [],
   "source": [
    "pieces = [df[:3],df[5:8]]"
   ]
  },
  {
   "cell_type": "code",
   "execution_count": 36,
   "metadata": {
    "collapsed": false
   },
   "outputs": [
    {
     "data": {
      "text/html": [
       "<div style=\"max-height:1000px;max-width:1500px;overflow:auto;\">\n",
       "<table border=\"1\" class=\"dataframe\">\n",
       "  <thead>\n",
       "    <tr style=\"text-align: right;\">\n",
       "      <th></th>\n",
       "      <th>0</th>\n",
       "      <th>1</th>\n",
       "      <th>2</th>\n",
       "      <th>3</th>\n",
       "      <th>4</th>\n",
       "    </tr>\n",
       "  </thead>\n",
       "  <tbody>\n",
       "    <tr>\n",
       "      <th>0</th>\n",
       "      <td> 0.573791</td>\n",
       "      <td> 0.444856</td>\n",
       "      <td> 0.370537</td>\n",
       "      <td>-0.565213</td>\n",
       "      <td> 0.401580</td>\n",
       "    </tr>\n",
       "    <tr>\n",
       "      <th>1</th>\n",
       "      <td> 0.435726</td>\n",
       "      <td> 1.234888</td>\n",
       "      <td> 1.665073</td>\n",
       "      <td>-2.008286</td>\n",
       "      <td>-0.370557</td>\n",
       "    </tr>\n",
       "    <tr>\n",
       "      <th>2</th>\n",
       "      <td> 0.151036</td>\n",
       "      <td> 0.072930</td>\n",
       "      <td> 1.540224</td>\n",
       "      <td>-1.447098</td>\n",
       "      <td> 0.709303</td>\n",
       "    </tr>\n",
       "    <tr>\n",
       "      <th>5</th>\n",
       "      <td> 0.122903</td>\n",
       "      <td>-2.554574</td>\n",
       "      <td> 1.528952</td>\n",
       "      <td> 0.163301</td>\n",
       "      <td>-0.664179</td>\n",
       "    </tr>\n",
       "    <tr>\n",
       "      <th>6</th>\n",
       "      <td>-0.966511</td>\n",
       "      <td>-1.094782</td>\n",
       "      <td>-0.263844</td>\n",
       "      <td> 0.511091</td>\n",
       "      <td>-1.187625</td>\n",
       "    </tr>\n",
       "    <tr>\n",
       "      <th>7</th>\n",
       "      <td> 0.006235</td>\n",
       "      <td> 0.677457</td>\n",
       "      <td>-0.690530</td>\n",
       "      <td>-4.303545</td>\n",
       "      <td> 0.055226</td>\n",
       "    </tr>\n",
       "  </tbody>\n",
       "</table>\n",
       "<p>6 rows × 5 columns</p>\n",
       "</div>"
      ],
      "text/plain": [
       "          0         1         2         3         4\n",
       "0  0.573791  0.444856  0.370537 -0.565213  0.401580\n",
       "1  0.435726  1.234888  1.665073 -2.008286 -0.370557\n",
       "2  0.151036  0.072930  1.540224 -1.447098  0.709303\n",
       "5  0.122903 -2.554574  1.528952  0.163301 -0.664179\n",
       "6 -0.966511 -1.094782 -0.263844  0.511091 -1.187625\n",
       "7  0.006235  0.677457 -0.690530 -4.303545  0.055226\n",
       "\n",
       "[6 rows x 5 columns]"
      ]
     },
     "execution_count": 36,
     "metadata": {},
     "output_type": "execute_result"
    }
   ],
   "source": [
    "pd.concat(pieces)"
   ]
  },
  {
   "cell_type": "code",
   "execution_count": 37,
   "metadata": {
    "collapsed": false
   },
   "outputs": [],
   "source": [
    "df1 = pd.DataFrame({'A': [1,2,3,4,5], 'B': [2,3,4,5,6]},index=[0,1,2,3,4])"
   ]
  },
  {
   "cell_type": "code",
   "execution_count": 38,
   "metadata": {
    "collapsed": true
   },
   "outputs": [],
   "source": [
    "df2 = pd.DataFrame({'A': [1,2,3,4,5], 'B': [10,11,12,14,15]},index= [10,11,12,13,15])"
   ]
  },
  {
   "cell_type": "code",
   "execution_count": 39,
   "metadata": {
    "collapsed": false
   },
   "outputs": [
    {
     "data": {
      "text/html": [
       "<div style=\"max-height:1000px;max-width:1500px;overflow:auto;\">\n",
       "<table border=\"1\" class=\"dataframe\">\n",
       "  <thead>\n",
       "    <tr style=\"text-align: right;\">\n",
       "      <th></th>\n",
       "      <th></th>\n",
       "      <th>A</th>\n",
       "      <th>B</th>\n",
       "    </tr>\n",
       "  </thead>\n",
       "  <tbody>\n",
       "    <tr>\n",
       "      <th rowspan=\"5\" valign=\"top\">x</th>\n",
       "      <th>0 </th>\n",
       "      <td> 1</td>\n",
       "      <td>  2</td>\n",
       "    </tr>\n",
       "    <tr>\n",
       "      <th>1 </th>\n",
       "      <td> 2</td>\n",
       "      <td>  3</td>\n",
       "    </tr>\n",
       "    <tr>\n",
       "      <th>2 </th>\n",
       "      <td> 3</td>\n",
       "      <td>  4</td>\n",
       "    </tr>\n",
       "    <tr>\n",
       "      <th>3 </th>\n",
       "      <td> 4</td>\n",
       "      <td>  5</td>\n",
       "    </tr>\n",
       "    <tr>\n",
       "      <th>4 </th>\n",
       "      <td> 5</td>\n",
       "      <td>  6</td>\n",
       "    </tr>\n",
       "    <tr>\n",
       "      <th rowspan=\"5\" valign=\"top\">y</th>\n",
       "      <th>10</th>\n",
       "      <td> 1</td>\n",
       "      <td> 10</td>\n",
       "    </tr>\n",
       "    <tr>\n",
       "      <th>11</th>\n",
       "      <td> 2</td>\n",
       "      <td> 11</td>\n",
       "    </tr>\n",
       "    <tr>\n",
       "      <th>12</th>\n",
       "      <td> 3</td>\n",
       "      <td> 12</td>\n",
       "    </tr>\n",
       "    <tr>\n",
       "      <th>13</th>\n",
       "      <td> 4</td>\n",
       "      <td> 14</td>\n",
       "    </tr>\n",
       "    <tr>\n",
       "      <th>15</th>\n",
       "      <td> 5</td>\n",
       "      <td> 15</td>\n",
       "    </tr>\n",
       "  </tbody>\n",
       "</table>\n",
       "<p>10 rows × 2 columns</p>\n",
       "</div>"
      ],
      "text/plain": [
       "      A   B\n",
       "x 0   1   2\n",
       "  1   2   3\n",
       "  2   3   4\n",
       "  3   4   5\n",
       "  4   5   6\n",
       "y 10  1  10\n",
       "  11  2  11\n",
       "  12  3  12\n",
       "  13  4  14\n",
       "  15  5  15\n",
       "\n",
       "[10 rows x 2 columns]"
      ]
     },
     "execution_count": 39,
     "metadata": {},
     "output_type": "execute_result"
    }
   ],
   "source": [
    "pd.concat([df1,df2],keys=['x','y','z'])"
   ]
  },
  {
   "cell_type": "code",
   "execution_count": 40,
   "metadata": {
    "collapsed": false
   },
   "outputs": [],
   "source": [
    "df1 = pd.DataFrame({'A': ['A0','A1','A2','A3'], 'B':['B0','B1','B2','B3'], \n",
    "                    'C': ['C0','C1','C2','C3'], 'D':['D0','D1','D2','D3']}, index=[0,1,2,3])\n",
    "df2 = pd.DataFrame({'A': ['A0','A5','A6','A7'], 'B':['B0','B5','B6','B7'], \n",
    "                    'C': ['C0','C5','C6','C7'], 'D':['D0','D5','D6','D7']}, index=[0,5,6,7])\n",
    "df3 = pd.DataFrame({'A': ['A0','A9','A10','A11'], 'B':['B0','B9','B10','B11'], \n",
    "                    'C': ['C0','C9','C10','C11'], 'D':['D0','D9','D10','D11']}, index=[0,9,10,11])"
   ]
  },
  {
   "cell_type": "code",
   "execution_count": 41,
   "metadata": {
    "collapsed": false
   },
   "outputs": [],
   "source": [
    "test = pd.concat([df1,df2], keys = ['x','y']).ix['x']"
   ]
  },
  {
   "cell_type": "raw",
   "metadata": {},
   "source": []
  },
  {
   "cell_type": "code",
   "execution_count": 42,
   "metadata": {
    "collapsed": false
   },
   "outputs": [],
   "source": [
    "df4 = pd.DataFrame({'B':['B4','B5','B6','B7'],'D':['D2','D3','D4','D5'],\n",
    "                   'F':['F4','F5','F6','F7']}, index = [2,4,6,7])"
   ]
  },
  {
   "cell_type": "code",
   "execution_count": 43,
   "metadata": {
    "collapsed": false
   },
   "outputs": [
    {
     "data": {
      "text/html": [
       "<div style=\"max-height:1000px;max-width:1500px;overflow:auto;\">\n",
       "<table border=\"1\" class=\"dataframe\">\n",
       "  <thead>\n",
       "    <tr style=\"text-align: right;\">\n",
       "      <th></th>\n",
       "      <th>A</th>\n",
       "      <th>B</th>\n",
       "      <th>C</th>\n",
       "      <th>D</th>\n",
       "      <th>F</th>\n",
       "    </tr>\n",
       "  </thead>\n",
       "  <tbody>\n",
       "    <tr>\n",
       "      <th>0</th>\n",
       "      <td>  A0</td>\n",
       "      <td> B0</td>\n",
       "      <td>  C0</td>\n",
       "      <td> D0</td>\n",
       "      <td> NaN</td>\n",
       "    </tr>\n",
       "    <tr>\n",
       "      <th>1</th>\n",
       "      <td>  A1</td>\n",
       "      <td> B1</td>\n",
       "      <td>  C1</td>\n",
       "      <td> D1</td>\n",
       "      <td> NaN</td>\n",
       "    </tr>\n",
       "    <tr>\n",
       "      <th>2</th>\n",
       "      <td>  A2</td>\n",
       "      <td> B2</td>\n",
       "      <td>  C2</td>\n",
       "      <td> D2</td>\n",
       "      <td> NaN</td>\n",
       "    </tr>\n",
       "    <tr>\n",
       "      <th>3</th>\n",
       "      <td>  A3</td>\n",
       "      <td> B3</td>\n",
       "      <td>  C3</td>\n",
       "      <td> D3</td>\n",
       "      <td> NaN</td>\n",
       "    </tr>\n",
       "    <tr>\n",
       "      <th>2</th>\n",
       "      <td> NaN</td>\n",
       "      <td> B4</td>\n",
       "      <td> NaN</td>\n",
       "      <td> D2</td>\n",
       "      <td>  F4</td>\n",
       "    </tr>\n",
       "    <tr>\n",
       "      <th>4</th>\n",
       "      <td> NaN</td>\n",
       "      <td> B5</td>\n",
       "      <td> NaN</td>\n",
       "      <td> D3</td>\n",
       "      <td>  F5</td>\n",
       "    </tr>\n",
       "    <tr>\n",
       "      <th>6</th>\n",
       "      <td> NaN</td>\n",
       "      <td> B6</td>\n",
       "      <td> NaN</td>\n",
       "      <td> D4</td>\n",
       "      <td>  F6</td>\n",
       "    </tr>\n",
       "    <tr>\n",
       "      <th>7</th>\n",
       "      <td> NaN</td>\n",
       "      <td> B7</td>\n",
       "      <td> NaN</td>\n",
       "      <td> D5</td>\n",
       "      <td>  F7</td>\n",
       "    </tr>\n",
       "  </tbody>\n",
       "</table>\n",
       "<p>8 rows × 5 columns</p>\n",
       "</div>"
      ],
      "text/plain": [
       "     A   B    C   D    F\n",
       "0   A0  B0   C0  D0  NaN\n",
       "1   A1  B1   C1  D1  NaN\n",
       "2   A2  B2   C2  D2  NaN\n",
       "3   A3  B3   C3  D3  NaN\n",
       "2  NaN  B4  NaN  D2   F4\n",
       "4  NaN  B5  NaN  D3   F5\n",
       "6  NaN  B6  NaN  D4   F6\n",
       "7  NaN  B7  NaN  D5   F7\n",
       "\n",
       "[8 rows x 5 columns]"
      ]
     },
     "execution_count": 43,
     "metadata": {},
     "output_type": "execute_result"
    }
   ],
   "source": [
    "pd.concat([df1,df4],axis=0,join='outer')"
   ]
  },
  {
   "cell_type": "code",
   "execution_count": 44,
   "metadata": {
    "collapsed": false
   },
   "outputs": [
    {
     "data": {
      "text/html": [
       "<div style=\"max-height:1000px;max-width:1500px;overflow:auto;\">\n",
       "<table border=\"1\" class=\"dataframe\">\n",
       "  <thead>\n",
       "    <tr style=\"text-align: right;\">\n",
       "      <th></th>\n",
       "      <th>A</th>\n",
       "      <th>B</th>\n",
       "      <th>C</th>\n",
       "      <th>D</th>\n",
       "      <th>F</th>\n",
       "    </tr>\n",
       "  </thead>\n",
       "  <tbody>\n",
       "    <tr>\n",
       "      <th>0</th>\n",
       "      <td>  A0</td>\n",
       "      <td> B0</td>\n",
       "      <td>  C0</td>\n",
       "      <td> D0</td>\n",
       "      <td> NaN</td>\n",
       "    </tr>\n",
       "    <tr>\n",
       "      <th>1</th>\n",
       "      <td>  A1</td>\n",
       "      <td> B1</td>\n",
       "      <td>  C1</td>\n",
       "      <td> D1</td>\n",
       "      <td> NaN</td>\n",
       "    </tr>\n",
       "    <tr>\n",
       "      <th>2</th>\n",
       "      <td>  A2</td>\n",
       "      <td> B2</td>\n",
       "      <td>  C2</td>\n",
       "      <td> D2</td>\n",
       "      <td> NaN</td>\n",
       "    </tr>\n",
       "    <tr>\n",
       "      <th>3</th>\n",
       "      <td>  A3</td>\n",
       "      <td> B3</td>\n",
       "      <td>  C3</td>\n",
       "      <td> D3</td>\n",
       "      <td> NaN</td>\n",
       "    </tr>\n",
       "    <tr>\n",
       "      <th>2</th>\n",
       "      <td> NaN</td>\n",
       "      <td> B4</td>\n",
       "      <td> NaN</td>\n",
       "      <td> D2</td>\n",
       "      <td>  F4</td>\n",
       "    </tr>\n",
       "    <tr>\n",
       "      <th>4</th>\n",
       "      <td> NaN</td>\n",
       "      <td> B5</td>\n",
       "      <td> NaN</td>\n",
       "      <td> D3</td>\n",
       "      <td>  F5</td>\n",
       "    </tr>\n",
       "    <tr>\n",
       "      <th>6</th>\n",
       "      <td> NaN</td>\n",
       "      <td> B6</td>\n",
       "      <td> NaN</td>\n",
       "      <td> D4</td>\n",
       "      <td>  F6</td>\n",
       "    </tr>\n",
       "    <tr>\n",
       "      <th>7</th>\n",
       "      <td> NaN</td>\n",
       "      <td> B7</td>\n",
       "      <td> NaN</td>\n",
       "      <td> D5</td>\n",
       "      <td>  F7</td>\n",
       "    </tr>\n",
       "  </tbody>\n",
       "</table>\n",
       "<p>8 rows × 5 columns</p>\n",
       "</div>"
      ],
      "text/plain": [
       "     A   B    C   D    F\n",
       "0   A0  B0   C0  D0  NaN\n",
       "1   A1  B1   C1  D1  NaN\n",
       "2   A2  B2   C2  D2  NaN\n",
       "3   A3  B3   C3  D3  NaN\n",
       "2  NaN  B4  NaN  D2   F4\n",
       "4  NaN  B5  NaN  D3   F5\n",
       "6  NaN  B6  NaN  D4   F6\n",
       "7  NaN  B7  NaN  D5   F7\n",
       "\n",
       "[8 rows x 5 columns]"
      ]
     },
     "execution_count": 44,
     "metadata": {},
     "output_type": "execute_result"
    }
   ],
   "source": [
    "pd.concat([df1,df4],axis=0)"
   ]
  },
  {
   "cell_type": "code",
   "execution_count": 45,
   "metadata": {
    "collapsed": false
   },
   "outputs": [
    {
     "data": {
      "text/html": [
       "<div style=\"max-height:1000px;max-width:1500px;overflow:auto;\">\n",
       "<table border=\"1\" class=\"dataframe\">\n",
       "  <thead>\n",
       "    <tr style=\"text-align: right;\">\n",
       "      <th></th>\n",
       "      <th>A</th>\n",
       "      <th>B</th>\n",
       "      <th>C</th>\n",
       "      <th>D</th>\n",
       "    </tr>\n",
       "  </thead>\n",
       "  <tbody>\n",
       "    <tr>\n",
       "      <th>0</th>\n",
       "      <td> A0</td>\n",
       "      <td> B0</td>\n",
       "      <td> C0</td>\n",
       "      <td> D0</td>\n",
       "    </tr>\n",
       "    <tr>\n",
       "      <th>1</th>\n",
       "      <td> A1</td>\n",
       "      <td> B1</td>\n",
       "      <td> C1</td>\n",
       "      <td> D1</td>\n",
       "    </tr>\n",
       "    <tr>\n",
       "      <th>2</th>\n",
       "      <td> A2</td>\n",
       "      <td> B2</td>\n",
       "      <td> C2</td>\n",
       "      <td> D2</td>\n",
       "    </tr>\n",
       "    <tr>\n",
       "      <th>3</th>\n",
       "      <td> A3</td>\n",
       "      <td> B3</td>\n",
       "      <td> C3</td>\n",
       "      <td> D3</td>\n",
       "    </tr>\n",
       "    <tr>\n",
       "      <th>0</th>\n",
       "      <td> A0</td>\n",
       "      <td> B0</td>\n",
       "      <td> C0</td>\n",
       "      <td> D0</td>\n",
       "    </tr>\n",
       "    <tr>\n",
       "      <th>5</th>\n",
       "      <td> A5</td>\n",
       "      <td> B5</td>\n",
       "      <td> C5</td>\n",
       "      <td> D5</td>\n",
       "    </tr>\n",
       "    <tr>\n",
       "      <th>6</th>\n",
       "      <td> A6</td>\n",
       "      <td> B6</td>\n",
       "      <td> C6</td>\n",
       "      <td> D6</td>\n",
       "    </tr>\n",
       "    <tr>\n",
       "      <th>7</th>\n",
       "      <td> A7</td>\n",
       "      <td> B7</td>\n",
       "      <td> C7</td>\n",
       "      <td> D7</td>\n",
       "    </tr>\n",
       "  </tbody>\n",
       "</table>\n",
       "<p>8 rows × 4 columns</p>\n",
       "</div>"
      ],
      "text/plain": [
       "    A   B   C   D\n",
       "0  A0  B0  C0  D0\n",
       "1  A1  B1  C1  D1\n",
       "2  A2  B2  C2  D2\n",
       "3  A3  B3  C3  D3\n",
       "0  A0  B0  C0  D0\n",
       "5  A5  B5  C5  D5\n",
       "6  A6  B6  C6  D6\n",
       "7  A7  B7  C7  D7\n",
       "\n",
       "[8 rows x 4 columns]"
      ]
     },
     "execution_count": 45,
     "metadata": {},
     "output_type": "execute_result"
    }
   ],
   "source": [
    "pd.concat([df1,df2],join= 'outer')"
   ]
  },
  {
   "cell_type": "code",
   "execution_count": 46,
   "metadata": {
    "collapsed": false
   },
   "outputs": [
    {
     "data": {
      "text/html": [
       "<div style=\"max-height:1000px;max-width:1500px;overflow:auto;\">\n",
       "<table border=\"1\" class=\"dataframe\">\n",
       "  <thead>\n",
       "    <tr style=\"text-align: right;\">\n",
       "      <th></th>\n",
       "      <th>A</th>\n",
       "      <th>B</th>\n",
       "      <th>C</th>\n",
       "      <th>D</th>\n",
       "    </tr>\n",
       "  </thead>\n",
       "  <tbody>\n",
       "    <tr>\n",
       "      <th>0</th>\n",
       "      <td> A0</td>\n",
       "      <td> B0</td>\n",
       "      <td> C0</td>\n",
       "      <td> D0</td>\n",
       "    </tr>\n",
       "    <tr>\n",
       "      <th>1</th>\n",
       "      <td> A1</td>\n",
       "      <td> B1</td>\n",
       "      <td> C1</td>\n",
       "      <td> D1</td>\n",
       "    </tr>\n",
       "    <tr>\n",
       "      <th>2</th>\n",
       "      <td> A2</td>\n",
       "      <td> B2</td>\n",
       "      <td> C2</td>\n",
       "      <td> D2</td>\n",
       "    </tr>\n",
       "    <tr>\n",
       "      <th>3</th>\n",
       "      <td> A3</td>\n",
       "      <td> B3</td>\n",
       "      <td> C3</td>\n",
       "      <td> D3</td>\n",
       "    </tr>\n",
       "    <tr>\n",
       "      <th>0</th>\n",
       "      <td> A0</td>\n",
       "      <td> B0</td>\n",
       "      <td> C0</td>\n",
       "      <td> D0</td>\n",
       "    </tr>\n",
       "    <tr>\n",
       "      <th>5</th>\n",
       "      <td> A5</td>\n",
       "      <td> B5</td>\n",
       "      <td> C5</td>\n",
       "      <td> D5</td>\n",
       "    </tr>\n",
       "    <tr>\n",
       "      <th>6</th>\n",
       "      <td> A6</td>\n",
       "      <td> B6</td>\n",
       "      <td> C6</td>\n",
       "      <td> D6</td>\n",
       "    </tr>\n",
       "    <tr>\n",
       "      <th>7</th>\n",
       "      <td> A7</td>\n",
       "      <td> B7</td>\n",
       "      <td> C7</td>\n",
       "      <td> D7</td>\n",
       "    </tr>\n",
       "  </tbody>\n",
       "</table>\n",
       "<p>8 rows × 4 columns</p>\n",
       "</div>"
      ],
      "text/plain": [
       "    A   B   C   D\n",
       "0  A0  B0  C0  D0\n",
       "1  A1  B1  C1  D1\n",
       "2  A2  B2  C2  D2\n",
       "3  A3  B3  C3  D3\n",
       "0  A0  B0  C0  D0\n",
       "5  A5  B5  C5  D5\n",
       "6  A6  B6  C6  D6\n",
       "7  A7  B7  C7  D7\n",
       "\n",
       "[8 rows x 4 columns]"
      ]
     },
     "execution_count": 46,
     "metadata": {},
     "output_type": "execute_result"
    }
   ],
   "source": [
    "pd.concat([df1,df2],join= 'inner')"
   ]
  },
  {
   "cell_type": "code",
   "execution_count": 47,
   "metadata": {
    "collapsed": false
   },
   "outputs": [
    {
     "data": {
      "text/html": [
       "<div style=\"max-height:1000px;max-width:1500px;overflow:auto;\">\n",
       "<table border=\"1\" class=\"dataframe\">\n",
       "  <thead>\n",
       "    <tr style=\"text-align: right;\">\n",
       "      <th></th>\n",
       "      <th>A</th>\n",
       "      <th>B</th>\n",
       "      <th>C</th>\n",
       "      <th>D</th>\n",
       "    </tr>\n",
       "  </thead>\n",
       "  <tbody>\n",
       "    <tr>\n",
       "      <th>0</th>\n",
       "      <td> A0</td>\n",
       "      <td> B0</td>\n",
       "      <td> C0</td>\n",
       "      <td> D0</td>\n",
       "    </tr>\n",
       "    <tr>\n",
       "      <th>1</th>\n",
       "      <td> A1</td>\n",
       "      <td> B1</td>\n",
       "      <td> C1</td>\n",
       "      <td> D1</td>\n",
       "    </tr>\n",
       "    <tr>\n",
       "      <th>2</th>\n",
       "      <td> A2</td>\n",
       "      <td> B2</td>\n",
       "      <td> C2</td>\n",
       "      <td> D2</td>\n",
       "    </tr>\n",
       "    <tr>\n",
       "      <th>3</th>\n",
       "      <td> A3</td>\n",
       "      <td> B3</td>\n",
       "      <td> C3</td>\n",
       "      <td> D3</td>\n",
       "    </tr>\n",
       "  </tbody>\n",
       "</table>\n",
       "<p>4 rows × 4 columns</p>\n",
       "</div>"
      ],
      "text/plain": [
       "    A   B   C   D\n",
       "0  A0  B0  C0  D0\n",
       "1  A1  B1  C1  D1\n",
       "2  A2  B2  C2  D2\n",
       "3  A3  B3  C3  D3\n",
       "\n",
       "[4 rows x 4 columns]"
      ]
     },
     "execution_count": 47,
     "metadata": {},
     "output_type": "execute_result"
    }
   ],
   "source": [
    "df1"
   ]
  },
  {
   "cell_type": "code",
   "execution_count": 48,
   "metadata": {
    "collapsed": false
   },
   "outputs": [
    {
     "data": {
      "text/html": [
       "<div style=\"max-height:1000px;max-width:1500px;overflow:auto;\">\n",
       "<table border=\"1\" class=\"dataframe\">\n",
       "  <thead>\n",
       "    <tr style=\"text-align: right;\">\n",
       "      <th></th>\n",
       "      <th>A</th>\n",
       "      <th>B</th>\n",
       "      <th>C</th>\n",
       "      <th>D</th>\n",
       "    </tr>\n",
       "  </thead>\n",
       "  <tbody>\n",
       "    <tr>\n",
       "      <th>0</th>\n",
       "      <td> A0</td>\n",
       "      <td> B0</td>\n",
       "      <td> C0</td>\n",
       "      <td> D0</td>\n",
       "    </tr>\n",
       "    <tr>\n",
       "      <th>5</th>\n",
       "      <td> A5</td>\n",
       "      <td> B5</td>\n",
       "      <td> C5</td>\n",
       "      <td> D5</td>\n",
       "    </tr>\n",
       "    <tr>\n",
       "      <th>6</th>\n",
       "      <td> A6</td>\n",
       "      <td> B6</td>\n",
       "      <td> C6</td>\n",
       "      <td> D6</td>\n",
       "    </tr>\n",
       "    <tr>\n",
       "      <th>7</th>\n",
       "      <td> A7</td>\n",
       "      <td> B7</td>\n",
       "      <td> C7</td>\n",
       "      <td> D7</td>\n",
       "    </tr>\n",
       "  </tbody>\n",
       "</table>\n",
       "<p>4 rows × 4 columns</p>\n",
       "</div>"
      ],
      "text/plain": [
       "    A   B   C   D\n",
       "0  A0  B0  C0  D0\n",
       "5  A5  B5  C5  D5\n",
       "6  A6  B6  C6  D6\n",
       "7  A7  B7  C7  D7\n",
       "\n",
       "[4 rows x 4 columns]"
      ]
     },
     "execution_count": 48,
     "metadata": {},
     "output_type": "execute_result"
    }
   ],
   "source": [
    "df2"
   ]
  },
  {
   "cell_type": "code",
   "execution_count": 49,
   "metadata": {
    "collapsed": false
   },
   "outputs": [
    {
     "data": {
      "text/html": [
       "<div style=\"max-height:1000px;max-width:1500px;overflow:auto;\">\n",
       "<table border=\"1\" class=\"dataframe\">\n",
       "  <thead>\n",
       "    <tr style=\"text-align: right;\">\n",
       "      <th></th>\n",
       "      <th>A</th>\n",
       "      <th>B</th>\n",
       "      <th>C</th>\n",
       "      <th>D</th>\n",
       "    </tr>\n",
       "  </thead>\n",
       "  <tbody>\n",
       "    <tr>\n",
       "      <th>0 </th>\n",
       "      <td>  A0</td>\n",
       "      <td>  B0</td>\n",
       "      <td>  C0</td>\n",
       "      <td>  D0</td>\n",
       "    </tr>\n",
       "    <tr>\n",
       "      <th>9 </th>\n",
       "      <td>  A9</td>\n",
       "      <td>  B9</td>\n",
       "      <td>  C9</td>\n",
       "      <td>  D9</td>\n",
       "    </tr>\n",
       "    <tr>\n",
       "      <th>10</th>\n",
       "      <td> A10</td>\n",
       "      <td> B10</td>\n",
       "      <td> C10</td>\n",
       "      <td> D10</td>\n",
       "    </tr>\n",
       "    <tr>\n",
       "      <th>11</th>\n",
       "      <td> A11</td>\n",
       "      <td> B11</td>\n",
       "      <td> C11</td>\n",
       "      <td> D11</td>\n",
       "    </tr>\n",
       "  </tbody>\n",
       "</table>\n",
       "<p>4 rows × 4 columns</p>\n",
       "</div>"
      ],
      "text/plain": [
       "      A    B    C    D\n",
       "0    A0   B0   C0   D0\n",
       "9    A9   B9   C9   D9\n",
       "10  A10  B10  C10  D10\n",
       "11  A11  B11  C11  D11\n",
       "\n",
       "[4 rows x 4 columns]"
      ]
     },
     "execution_count": 49,
     "metadata": {},
     "output_type": "execute_result"
    }
   ],
   "source": [
    "df3"
   ]
  },
  {
   "cell_type": "code",
   "execution_count": 61,
   "metadata": {
    "collapsed": false
   },
   "outputs": [],
   "source": [
    "result = pd.concat([df1,df2,df3], join = 'inner', axis = 0, keys = ['x','y','z'])"
   ]
  },
  {
   "cell_type": "code",
   "execution_count": 62,
   "metadata": {
    "collapsed": false
   },
   "outputs": [
    {
     "data": {
      "text/html": [
       "<div style=\"max-height:1000px;max-width:1500px;overflow:auto;\">\n",
       "<table border=\"1\" class=\"dataframe\">\n",
       "  <thead>\n",
       "    <tr style=\"text-align: right;\">\n",
       "      <th></th>\n",
       "      <th></th>\n",
       "      <th>A</th>\n",
       "      <th>B</th>\n",
       "      <th>C</th>\n",
       "      <th>D</th>\n",
       "    </tr>\n",
       "  </thead>\n",
       "  <tbody>\n",
       "    <tr>\n",
       "      <th rowspan=\"4\" valign=\"top\">x</th>\n",
       "      <th>0 </th>\n",
       "      <td>  A0</td>\n",
       "      <td>  B0</td>\n",
       "      <td>  C0</td>\n",
       "      <td>  D0</td>\n",
       "    </tr>\n",
       "    <tr>\n",
       "      <th>1 </th>\n",
       "      <td>  A1</td>\n",
       "      <td>  B1</td>\n",
       "      <td>  C1</td>\n",
       "      <td>  D1</td>\n",
       "    </tr>\n",
       "    <tr>\n",
       "      <th>2 </th>\n",
       "      <td>  A2</td>\n",
       "      <td>  B2</td>\n",
       "      <td>  C2</td>\n",
       "      <td>  D2</td>\n",
       "    </tr>\n",
       "    <tr>\n",
       "      <th>3 </th>\n",
       "      <td>  A3</td>\n",
       "      <td>  B3</td>\n",
       "      <td>  C3</td>\n",
       "      <td>  D3</td>\n",
       "    </tr>\n",
       "    <tr>\n",
       "      <th rowspan=\"4\" valign=\"top\">y</th>\n",
       "      <th>0 </th>\n",
       "      <td>  A0</td>\n",
       "      <td>  B0</td>\n",
       "      <td>  C0</td>\n",
       "      <td>  D0</td>\n",
       "    </tr>\n",
       "    <tr>\n",
       "      <th>5 </th>\n",
       "      <td>  A5</td>\n",
       "      <td>  B5</td>\n",
       "      <td>  C5</td>\n",
       "      <td>  D5</td>\n",
       "    </tr>\n",
       "    <tr>\n",
       "      <th>6 </th>\n",
       "      <td>  A6</td>\n",
       "      <td>  B6</td>\n",
       "      <td>  C6</td>\n",
       "      <td>  D6</td>\n",
       "    </tr>\n",
       "    <tr>\n",
       "      <th>7 </th>\n",
       "      <td>  A7</td>\n",
       "      <td>  B7</td>\n",
       "      <td>  C7</td>\n",
       "      <td>  D7</td>\n",
       "    </tr>\n",
       "    <tr>\n",
       "      <th rowspan=\"4\" valign=\"top\">z</th>\n",
       "      <th>0 </th>\n",
       "      <td>  A0</td>\n",
       "      <td>  B0</td>\n",
       "      <td>  C0</td>\n",
       "      <td>  D0</td>\n",
       "    </tr>\n",
       "    <tr>\n",
       "      <th>9 </th>\n",
       "      <td>  A9</td>\n",
       "      <td>  B9</td>\n",
       "      <td>  C9</td>\n",
       "      <td>  D9</td>\n",
       "    </tr>\n",
       "    <tr>\n",
       "      <th>10</th>\n",
       "      <td> A10</td>\n",
       "      <td> B10</td>\n",
       "      <td> C10</td>\n",
       "      <td> D10</td>\n",
       "    </tr>\n",
       "    <tr>\n",
       "      <th>11</th>\n",
       "      <td> A11</td>\n",
       "      <td> B11</td>\n",
       "      <td> C11</td>\n",
       "      <td> D11</td>\n",
       "    </tr>\n",
       "  </tbody>\n",
       "</table>\n",
       "<p>12 rows × 4 columns</p>\n",
       "</div>"
      ],
      "text/plain": [
       "        A    B    C    D\n",
       "x 0    A0   B0   C0   D0\n",
       "  1    A1   B1   C1   D1\n",
       "  2    A2   B2   C2   D2\n",
       "  3    A3   B3   C3   D3\n",
       "y 0    A0   B0   C0   D0\n",
       "  5    A5   B5   C5   D5\n",
       "  6    A6   B6   C6   D6\n",
       "  7    A7   B7   C7   D7\n",
       "z 0    A0   B0   C0   D0\n",
       "  9    A9   B9   C9   D9\n",
       "  10  A10  B10  C10  D10\n",
       "  11  A11  B11  C11  D11\n",
       "\n",
       "[12 rows x 4 columns]"
      ]
     },
     "execution_count": 62,
     "metadata": {},
     "output_type": "execute_result"
    }
   ],
   "source": [
    "result"
   ]
  },
  {
   "cell_type": "code",
   "execution_count": 73,
   "metadata": {
    "collapsed": false
   },
   "outputs": [
    {
     "data": {
      "text/html": [
       "<div style=\"max-height:1000px;max-width:1500px;overflow:auto;\">\n",
       "<table border=\"1\" class=\"dataframe\">\n",
       "  <thead>\n",
       "    <tr style=\"text-align: right;\">\n",
       "      <th></th>\n",
       "      <th>A</th>\n",
       "      <th>B</th>\n",
       "      <th>C</th>\n",
       "      <th>D</th>\n",
       "      <th>B</th>\n",
       "      <th>D</th>\n",
       "      <th>F</th>\n",
       "    </tr>\n",
       "  </thead>\n",
       "  <tbody>\n",
       "    <tr>\n",
       "      <th>0 </th>\n",
       "      <td>  A0</td>\n",
       "      <td>  B0</td>\n",
       "      <td>  C0</td>\n",
       "      <td>  D0</td>\n",
       "      <td> NaN</td>\n",
       "      <td> NaN</td>\n",
       "      <td> NaN</td>\n",
       "    </tr>\n",
       "    <tr>\n",
       "      <th>9 </th>\n",
       "      <td> NaN</td>\n",
       "      <td> NaN</td>\n",
       "      <td> NaN</td>\n",
       "      <td> NaN</td>\n",
       "      <td> NaN</td>\n",
       "      <td> NaN</td>\n",
       "      <td> NaN</td>\n",
       "    </tr>\n",
       "    <tr>\n",
       "      <th>10</th>\n",
       "      <td> NaN</td>\n",
       "      <td> NaN</td>\n",
       "      <td> NaN</td>\n",
       "      <td> NaN</td>\n",
       "      <td> NaN</td>\n",
       "      <td> NaN</td>\n",
       "      <td> NaN</td>\n",
       "    </tr>\n",
       "    <tr>\n",
       "      <th>11</th>\n",
       "      <td> NaN</td>\n",
       "      <td> NaN</td>\n",
       "      <td> NaN</td>\n",
       "      <td> NaN</td>\n",
       "      <td> NaN</td>\n",
       "      <td> NaN</td>\n",
       "      <td> NaN</td>\n",
       "    </tr>\n",
       "  </tbody>\n",
       "</table>\n",
       "<p>4 rows × 7 columns</p>\n",
       "</div>"
      ],
      "text/plain": [
       "      A    B    C    D    B    D    F\n",
       "0    A0   B0   C0   D0  NaN  NaN  NaN\n",
       "9   NaN  NaN  NaN  NaN  NaN  NaN  NaN\n",
       "10  NaN  NaN  NaN  NaN  NaN  NaN  NaN\n",
       "11  NaN  NaN  NaN  NaN  NaN  NaN  NaN\n",
       "\n",
       "[4 rows x 7 columns]"
      ]
     },
     "execution_count": 73,
     "metadata": {},
     "output_type": "execute_result"
    }
   ],
   "source": [
    "pd.concat([df1,df4],axis=1, join= 'inner', join_axes= [df3.index])"
   ]
  },
  {
   "cell_type": "code",
   "execution_count": 80,
   "metadata": {
    "collapsed": false
   },
   "outputs": [
    {
     "data": {
      "text/html": [
       "<div style=\"max-height:1000px;max-width:1500px;overflow:auto;\">\n",
       "<table border=\"1\" class=\"dataframe\">\n",
       "  <thead>\n",
       "    <tr style=\"text-align: right;\">\n",
       "      <th></th>\n",
       "      <th>A</th>\n",
       "      <th>B</th>\n",
       "      <th>C</th>\n",
       "      <th>D</th>\n",
       "    </tr>\n",
       "  </thead>\n",
       "  <tbody>\n",
       "    <tr>\n",
       "      <th>0 </th>\n",
       "      <td>  A0</td>\n",
       "      <td>  B0</td>\n",
       "      <td>  C0</td>\n",
       "      <td>  D0</td>\n",
       "    </tr>\n",
       "    <tr>\n",
       "      <th>1 </th>\n",
       "      <td>  A1</td>\n",
       "      <td>  B1</td>\n",
       "      <td>  C1</td>\n",
       "      <td>  D1</td>\n",
       "    </tr>\n",
       "    <tr>\n",
       "      <th>2 </th>\n",
       "      <td>  A2</td>\n",
       "      <td>  B2</td>\n",
       "      <td>  C2</td>\n",
       "      <td>  D2</td>\n",
       "    </tr>\n",
       "    <tr>\n",
       "      <th>3 </th>\n",
       "      <td>  A3</td>\n",
       "      <td>  B3</td>\n",
       "      <td>  C3</td>\n",
       "      <td>  D3</td>\n",
       "    </tr>\n",
       "    <tr>\n",
       "      <th>0 </th>\n",
       "      <td>  A0</td>\n",
       "      <td>  B0</td>\n",
       "      <td>  C0</td>\n",
       "      <td>  D0</td>\n",
       "    </tr>\n",
       "    <tr>\n",
       "      <th>9 </th>\n",
       "      <td>  A9</td>\n",
       "      <td>  B9</td>\n",
       "      <td>  C9</td>\n",
       "      <td>  D9</td>\n",
       "    </tr>\n",
       "    <tr>\n",
       "      <th>10</th>\n",
       "      <td> A10</td>\n",
       "      <td> B10</td>\n",
       "      <td> C10</td>\n",
       "      <td> D10</td>\n",
       "    </tr>\n",
       "    <tr>\n",
       "      <th>11</th>\n",
       "      <td> A11</td>\n",
       "      <td> B11</td>\n",
       "      <td> C11</td>\n",
       "      <td> D11</td>\n",
       "    </tr>\n",
       "  </tbody>\n",
       "</table>\n",
       "<p>8 rows × 4 columns</p>\n",
       "</div>"
      ],
      "text/plain": [
       "      A    B    C    D\n",
       "0    A0   B0   C0   D0\n",
       "1    A1   B1   C1   D1\n",
       "2    A2   B2   C2   D2\n",
       "3    A3   B3   C3   D3\n",
       "0    A0   B0   C0   D0\n",
       "9    A9   B9   C9   D9\n",
       "10  A10  B10  C10  D10\n",
       "11  A11  B11  C11  D11\n",
       "\n",
       "[8 rows x 4 columns]"
      ]
     },
     "execution_count": 80,
     "metadata": {},
     "output_type": "execute_result"
    }
   ],
   "source": [
    "pd.concat([df1, df3], ignore_index=False, join='inner')"
   ]
  },
  {
   "cell_type": "code",
   "execution_count": 83,
   "metadata": {
    "collapsed": false
   },
   "outputs": [
    {
     "data": {
      "text/html": [
       "<div style=\"max-height:1000px;max-width:1500px;overflow:auto;\">\n",
       "<table border=\"1\" class=\"dataframe\">\n",
       "  <thead>\n",
       "    <tr style=\"text-align: right;\">\n",
       "      <th></th>\n",
       "      <th>A</th>\n",
       "      <th>B</th>\n",
       "      <th>C</th>\n",
       "      <th>D</th>\n",
       "      <th>F</th>\n",
       "    </tr>\n",
       "  </thead>\n",
       "  <tbody>\n",
       "    <tr>\n",
       "      <th>0</th>\n",
       "      <td>  A0</td>\n",
       "      <td> B0</td>\n",
       "      <td>  C0</td>\n",
       "      <td> D0</td>\n",
       "      <td> NaN</td>\n",
       "    </tr>\n",
       "    <tr>\n",
       "      <th>1</th>\n",
       "      <td>  A1</td>\n",
       "      <td> B1</td>\n",
       "      <td>  C1</td>\n",
       "      <td> D1</td>\n",
       "      <td> NaN</td>\n",
       "    </tr>\n",
       "    <tr>\n",
       "      <th>2</th>\n",
       "      <td>  A2</td>\n",
       "      <td> B2</td>\n",
       "      <td>  C2</td>\n",
       "      <td> D2</td>\n",
       "      <td> NaN</td>\n",
       "    </tr>\n",
       "    <tr>\n",
       "      <th>3</th>\n",
       "      <td>  A3</td>\n",
       "      <td> B3</td>\n",
       "      <td>  C3</td>\n",
       "      <td> D3</td>\n",
       "      <td> NaN</td>\n",
       "    </tr>\n",
       "    <tr>\n",
       "      <th>4</th>\n",
       "      <td> NaN</td>\n",
       "      <td> B4</td>\n",
       "      <td> NaN</td>\n",
       "      <td> D2</td>\n",
       "      <td>  F4</td>\n",
       "    </tr>\n",
       "    <tr>\n",
       "      <th>5</th>\n",
       "      <td> NaN</td>\n",
       "      <td> B5</td>\n",
       "      <td> NaN</td>\n",
       "      <td> D3</td>\n",
       "      <td>  F5</td>\n",
       "    </tr>\n",
       "    <tr>\n",
       "      <th>6</th>\n",
       "      <td> NaN</td>\n",
       "      <td> B6</td>\n",
       "      <td> NaN</td>\n",
       "      <td> D4</td>\n",
       "      <td>  F6</td>\n",
       "    </tr>\n",
       "    <tr>\n",
       "      <th>7</th>\n",
       "      <td> NaN</td>\n",
       "      <td> B7</td>\n",
       "      <td> NaN</td>\n",
       "      <td> D5</td>\n",
       "      <td>  F7</td>\n",
       "    </tr>\n",
       "  </tbody>\n",
       "</table>\n",
       "<p>8 rows × 5 columns</p>\n",
       "</div>"
      ],
      "text/plain": [
       "     A   B    C   D    F\n",
       "0   A0  B0   C0  D0  NaN\n",
       "1   A1  B1   C1  D1  NaN\n",
       "2   A2  B2   C2  D2  NaN\n",
       "3   A3  B3   C3  D3  NaN\n",
       "4  NaN  B4  NaN  D2   F4\n",
       "5  NaN  B5  NaN  D3   F5\n",
       "6  NaN  B6  NaN  D4   F6\n",
       "7  NaN  B7  NaN  D5   F7\n",
       "\n",
       "[8 rows x 5 columns]"
      ]
     },
     "execution_count": 83,
     "metadata": {},
     "output_type": "execute_result"
    }
   ],
   "source": [
    "df1.append(df4,ignore_index=True)"
   ]
  },
  {
   "cell_type": "code",
   "execution_count": 89,
   "metadata": {
    "collapsed": false
   },
   "outputs": [
    {
     "data": {
      "text/html": [
       "<div style=\"max-height:1000px;max-width:1500px;overflow:auto;\">\n",
       "<table border=\"1\" class=\"dataframe\">\n",
       "  <thead>\n",
       "    <tr style=\"text-align: right;\">\n",
       "      <th></th>\n",
       "      <th>0</th>\n",
       "      <th>1</th>\n",
       "      <th>2</th>\n",
       "      <th>3</th>\n",
       "      <th>4</th>\n",
       "      <th>5</th>\n",
       "      <th>6</th>\n",
       "    </tr>\n",
       "  </thead>\n",
       "  <tbody>\n",
       "    <tr>\n",
       "      <th>0</th>\n",
       "      <td>  A0</td>\n",
       "      <td>  B0</td>\n",
       "      <td>  C0</td>\n",
       "      <td>  D0</td>\n",
       "      <td> NaN</td>\n",
       "      <td> NaN</td>\n",
       "      <td> NaN</td>\n",
       "    </tr>\n",
       "    <tr>\n",
       "      <th>1</th>\n",
       "      <td>  A1</td>\n",
       "      <td>  B1</td>\n",
       "      <td>  C1</td>\n",
       "      <td>  D1</td>\n",
       "      <td> NaN</td>\n",
       "      <td> NaN</td>\n",
       "      <td> NaN</td>\n",
       "    </tr>\n",
       "    <tr>\n",
       "      <th>2</th>\n",
       "      <td>  A2</td>\n",
       "      <td>  B2</td>\n",
       "      <td>  C2</td>\n",
       "      <td>  D2</td>\n",
       "      <td>  B4</td>\n",
       "      <td>  D2</td>\n",
       "      <td>  F4</td>\n",
       "    </tr>\n",
       "    <tr>\n",
       "      <th>3</th>\n",
       "      <td>  A3</td>\n",
       "      <td>  B3</td>\n",
       "      <td>  C3</td>\n",
       "      <td>  D3</td>\n",
       "      <td> NaN</td>\n",
       "      <td> NaN</td>\n",
       "      <td> NaN</td>\n",
       "    </tr>\n",
       "    <tr>\n",
       "      <th>4</th>\n",
       "      <td> NaN</td>\n",
       "      <td> NaN</td>\n",
       "      <td> NaN</td>\n",
       "      <td> NaN</td>\n",
       "      <td>  B5</td>\n",
       "      <td>  D3</td>\n",
       "      <td>  F5</td>\n",
       "    </tr>\n",
       "    <tr>\n",
       "      <th>6</th>\n",
       "      <td> NaN</td>\n",
       "      <td> NaN</td>\n",
       "      <td> NaN</td>\n",
       "      <td> NaN</td>\n",
       "      <td>  B6</td>\n",
       "      <td>  D4</td>\n",
       "      <td>  F6</td>\n",
       "    </tr>\n",
       "    <tr>\n",
       "      <th>7</th>\n",
       "      <td> NaN</td>\n",
       "      <td> NaN</td>\n",
       "      <td> NaN</td>\n",
       "      <td> NaN</td>\n",
       "      <td>  B7</td>\n",
       "      <td>  D5</td>\n",
       "      <td>  F7</td>\n",
       "    </tr>\n",
       "  </tbody>\n",
       "</table>\n",
       "<p>7 rows × 7 columns</p>\n",
       "</div>"
      ],
      "text/plain": [
       "     0    1    2    3    4    5    6\n",
       "0   A0   B0   C0   D0  NaN  NaN  NaN\n",
       "1   A1   B1   C1   D1  NaN  NaN  NaN\n",
       "2   A2   B2   C2   D2   B4   D2   F4\n",
       "3   A3   B3   C3   D3  NaN  NaN  NaN\n",
       "4  NaN  NaN  NaN  NaN   B5   D3   F5\n",
       "6  NaN  NaN  NaN  NaN   B6   D4   F6\n",
       "7  NaN  NaN  NaN  NaN   B7   D5   F7\n",
       "\n",
       "[7 rows x 7 columns]"
      ]
     },
     "execution_count": 89,
     "metadata": {},
     "output_type": "execute_result"
    }
   ],
   "source": [
    "pd.concat([df1,df4], axis =1 , ignore_index=True, keys = ['x','y','z','a','b','c','d'])"
   ]
  },
  {
   "cell_type": "code",
   "execution_count": 90,
   "metadata": {
    "collapsed": true
   },
   "outputs": [],
   "source": [
    "s2 = pd.Series([0,1,2,3], name = 'foo')\n",
    "s3 = pd.Series([2,3,4,5])\n",
    "s4 = pd.Series([10,11,12,13])"
   ]
  },
  {
   "cell_type": "code",
   "execution_count": 93,
   "metadata": {
    "collapsed": false
   },
   "outputs": [
    {
     "data": {
      "text/html": [
       "<div style=\"max-height:1000px;max-width:1500px;overflow:auto;\">\n",
       "<table border=\"1\" class=\"dataframe\">\n",
       "  <thead>\n",
       "    <tr style=\"text-align: right;\">\n",
       "      <th></th>\n",
       "      <th>x</th>\n",
       "      <th>y</th>\n",
       "      <th>z</th>\n",
       "    </tr>\n",
       "  </thead>\n",
       "  <tbody>\n",
       "    <tr>\n",
       "      <th>0</th>\n",
       "      <td> 0</td>\n",
       "      <td> 2</td>\n",
       "      <td> 10</td>\n",
       "    </tr>\n",
       "    <tr>\n",
       "      <th>1</th>\n",
       "      <td> 1</td>\n",
       "      <td> 3</td>\n",
       "      <td> 11</td>\n",
       "    </tr>\n",
       "    <tr>\n",
       "      <th>2</th>\n",
       "      <td> 2</td>\n",
       "      <td> 4</td>\n",
       "      <td> 12</td>\n",
       "    </tr>\n",
       "    <tr>\n",
       "      <th>3</th>\n",
       "      <td> 3</td>\n",
       "      <td> 5</td>\n",
       "      <td> 13</td>\n",
       "    </tr>\n",
       "  </tbody>\n",
       "</table>\n",
       "<p>4 rows × 3 columns</p>\n",
       "</div>"
      ],
      "text/plain": [
       "   x  y   z\n",
       "0  0  2  10\n",
       "1  1  3  11\n",
       "2  2  4  12\n",
       "3  3  5  13\n",
       "\n",
       "[4 rows x 3 columns]"
      ]
     },
     "execution_count": 93,
     "metadata": {},
     "output_type": "execute_result"
    }
   ],
   "source": [
    "pd.concat([s2,s3,s4], axis =1, keys = ['x','y','z'] )"
   ]
  },
  {
   "cell_type": "code",
   "execution_count": 94,
   "metadata": {
    "collapsed": true
   },
   "outputs": [],
   "source": [
    "pieces = {'x': df1, 'y': df2, 'z':df3}"
   ]
  },
  {
   "cell_type": "code",
   "execution_count": 95,
   "metadata": {
    "collapsed": false
   },
   "outputs": [
    {
     "data": {
      "text/html": [
       "<div style=\"max-height:1000px;max-width:1500px;overflow:auto;\">\n",
       "<table border=\"1\" class=\"dataframe\">\n",
       "  <thead>\n",
       "    <tr style=\"text-align: right;\">\n",
       "      <th></th>\n",
       "      <th></th>\n",
       "      <th>A</th>\n",
       "      <th>B</th>\n",
       "      <th>C</th>\n",
       "      <th>D</th>\n",
       "    </tr>\n",
       "  </thead>\n",
       "  <tbody>\n",
       "    <tr>\n",
       "      <th rowspan=\"4\" valign=\"top\">z</th>\n",
       "      <th>0 </th>\n",
       "      <td>  A0</td>\n",
       "      <td>  B0</td>\n",
       "      <td>  C0</td>\n",
       "      <td>  D0</td>\n",
       "    </tr>\n",
       "    <tr>\n",
       "      <th>9 </th>\n",
       "      <td>  A9</td>\n",
       "      <td>  B9</td>\n",
       "      <td>  C9</td>\n",
       "      <td>  D9</td>\n",
       "    </tr>\n",
       "    <tr>\n",
       "      <th>10</th>\n",
       "      <td> A10</td>\n",
       "      <td> B10</td>\n",
       "      <td> C10</td>\n",
       "      <td> D10</td>\n",
       "    </tr>\n",
       "    <tr>\n",
       "      <th>11</th>\n",
       "      <td> A11</td>\n",
       "      <td> B11</td>\n",
       "      <td> C11</td>\n",
       "      <td> D11</td>\n",
       "    </tr>\n",
       "    <tr>\n",
       "      <th rowspan=\"4\" valign=\"top\">y</th>\n",
       "      <th>0 </th>\n",
       "      <td>  A0</td>\n",
       "      <td>  B0</td>\n",
       "      <td>  C0</td>\n",
       "      <td>  D0</td>\n",
       "    </tr>\n",
       "    <tr>\n",
       "      <th>5 </th>\n",
       "      <td>  A5</td>\n",
       "      <td>  B5</td>\n",
       "      <td>  C5</td>\n",
       "      <td>  D5</td>\n",
       "    </tr>\n",
       "    <tr>\n",
       "      <th>6 </th>\n",
       "      <td>  A6</td>\n",
       "      <td>  B6</td>\n",
       "      <td>  C6</td>\n",
       "      <td>  D6</td>\n",
       "    </tr>\n",
       "    <tr>\n",
       "      <th>7 </th>\n",
       "      <td>  A7</td>\n",
       "      <td>  B7</td>\n",
       "      <td>  C7</td>\n",
       "      <td>  D7</td>\n",
       "    </tr>\n",
       "  </tbody>\n",
       "</table>\n",
       "<p>8 rows × 4 columns</p>\n",
       "</div>"
      ],
      "text/plain": [
       "        A    B    C    D\n",
       "z 0    A0   B0   C0   D0\n",
       "  9    A9   B9   C9   D9\n",
       "  10  A10  B10  C10  D10\n",
       "  11  A11  B11  C11  D11\n",
       "y 0    A0   B0   C0   D0\n",
       "  5    A5   B5   C5   D5\n",
       "  6    A6   B6   C6   D6\n",
       "  7    A7   B7   C7   D7\n",
       "\n",
       "[8 rows x 4 columns]"
      ]
     },
     "execution_count": 95,
     "metadata": {},
     "output_type": "execute_result"
    }
   ],
   "source": [
    "pd.concat(pieces, keys = ['z','y'])"
   ]
  },
  {
   "cell_type": "code",
   "execution_count": 96,
   "metadata": {
    "collapsed": false
   },
   "outputs": [
    {
     "data": {
      "text/plain": [
       "FrozenList([[u'z', u'y'], [0, 5, 6, 7, 9, 10, 11]])"
      ]
     },
     "execution_count": 96,
     "metadata": {},
     "output_type": "execute_result"
    }
   ],
   "source": [
    "pd.concat(pieces, keys = ['z','y']).index.levels"
   ]
  },
  {
   "cell_type": "code",
   "execution_count": null,
   "metadata": {
    "collapsed": true
   },
   "outputs": [],
   "source": []
  }
 ],
 "metadata": {
  "kernelspec": {
   "display_name": "Python 2",
   "language": "python",
   "name": "python2"
  },
  "language_info": {
   "codemirror_mode": {
    "name": "ipython",
    "version": 2
   },
   "file_extension": ".py",
   "mimetype": "text/x-python",
   "name": "python",
   "nbconvert_exporter": "python",
   "pygments_lexer": "ipython2",
   "version": "2.7.6"
  }
 },
 "nbformat": 4,
 "nbformat_minor": 0
}
